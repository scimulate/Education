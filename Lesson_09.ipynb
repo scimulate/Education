{
 "cells": [
  {
   "cell_type": "markdown",
   "metadata": {},
   "source": [
    "# Course Information\n",
    "* Introduction to Programming (INFO-233)\n",
    "* Ramapo College of New Jersey\n",
    "* Professor Samuel Jacobs\n",
    "* Notes Licensed Under [CC BY-SA](https://creativecommons.org/licenses/by-sa/4.0/)\n",
    "\n",
    "# Lesson 09 Topics\n",
    "* More Object-Oriented Programming\n",
    "* (Even More) Common Libraries\n",
    "\n",
    "# More Object-Oriented Programming\n",
    "## Building a Class (Review)\n",
    "Suppose we wish to build a class to define the behavior of one playing card. This card can be part of a variety of deck configurations, which may each be used to build a variety of card games. For example, the games Poker and Solitaire use the same type of card deck, whereas Pinochle uses a different deck entirely. A corresponding card class may be build like the one below."
   ]
  },
  {
   "cell_type": "code",
   "execution_count": 1,
   "metadata": {},
   "outputs": [],
   "source": [
    "class Card:\n",
    "    def __init__(self, number):\n",
    "        suits = ['♥', '♦', '♣', '♠']\n",
    "        values = ['2', '3', '4', '5', '6', '7', '8', '9', 'T', 'J', 'Q', 'K', 'A']\n",
    "        \n",
    "        self.__suit = suits[number // len(values)]\n",
    "        self.__value = values[number % len(values)]\n",
    "    \n",
    "    def suit(self):\n",
    "        return self.__suit\n",
    "    \n",
    "    def value(self):\n",
    "        return self.__value\n",
    "    \n",
    "    def show(self):\n",
    "        return self.__suit + self.__value"
   ]
  },
  {
   "cell_type": "markdown",
   "metadata": {},
   "source": [
    "When instantiating a new instance of class ```Card```, a number (0-51) is applied which uniquely defines the suit and value of a card. Both properties are then stored in the instance for future use. Note that Python makes use of public, private, and protected data and methods when defining a class. By default, every piece of data is public in a Python class. Protected and Private data and methods are identified using the underscore (\\_) and double underscore (\\_\\_), respectively. The variables self.\\_\\_suit and self.\\_\\_value are private data. They cannot be modified by any entity outside of the class, and the specific methods ```suit()``` and ```value()``` are required to retrieve that stored data.\n",
    "\n",
    "A few instances of ```Card``` are shown below."
   ]
  },
  {
   "cell_type": "code",
   "execution_count": 2,
   "metadata": {},
   "outputs": [
    {
     "data": {
      "text/plain": [
       "'♠A'"
      ]
     },
     "execution_count": 2,
     "metadata": {},
     "output_type": "execute_result"
    }
   ],
   "source": [
    "AceSpades = Card(51)\n",
    "AceSpades.show()"
   ]
  },
  {
   "cell_type": "code",
   "execution_count": 3,
   "metadata": {},
   "outputs": [
    {
     "data": {
      "text/plain": [
       "'♥T'"
      ]
     },
     "execution_count": 3,
     "metadata": {},
     "output_type": "execute_result"
    }
   ],
   "source": [
    "TenHearts = Card(8)\n",
    "TenHearts.show()"
   ]
  },
  {
   "cell_type": "code",
   "execution_count": 4,
   "metadata": {},
   "outputs": [
    {
     "data": {
      "text/plain": [
       "'♦4'"
      ]
     },
     "execution_count": 4,
     "metadata": {},
     "output_type": "execute_result"
    }
   ],
   "source": [
    "FourDiamonds = Card(15)\n",
    "FourDiamonds.show()"
   ]
  },
  {
   "cell_type": "markdown",
   "metadata": {},
   "source": [
    "Now, we can aggregate many cards into a deck. Based on the architecture defined for ```Card```, a standard deck may be created by initializing each of the 52 possible combinations. Methods ```draw()```, ```shuffle```, and ```isEmpty()``` may be useful."
   ]
  },
  {
   "cell_type": "code",
   "execution_count": 5,
   "metadata": {},
   "outputs": [],
   "source": [
    "import random\n",
    "\n",
    "class Deck:\n",
    "    def __init__(self):\n",
    "        self.__deck = []\n",
    "        for ct in range(52):\n",
    "            self.__deck.append(Card(ct))\n",
    "    \n",
    "    def shuffle(self):\n",
    "        random.shuffle(self.__deck)\n",
    "    \n",
    "    def draw(self):\n",
    "        return self.__deck.pop()\n",
    "    \n",
    "    def isEmpty(self):\n",
    "        return len(self.__deck) == 0"
   ]
  },
  {
   "cell_type": "markdown",
   "metadata": {},
   "source": [
    "Using ```draw()``` the top card may me extracted and returned. This may be repeated until the deck is empty."
   ]
  },
  {
   "cell_type": "code",
   "execution_count": 6,
   "metadata": {},
   "outputs": [
    {
     "name": "stdout",
     "output_type": "stream",
     "text": [
      "♠A\n",
      "♠K\n",
      "♠Q\n",
      "♠J\n",
      "♠T\n",
      "♠9\n",
      "♠8\n",
      "♠7\n",
      "♠6\n",
      "♠5\n",
      "♠4\n",
      "♠3\n",
      "♠2\n",
      "♣A\n",
      "♣K\n",
      "♣Q\n",
      "♣J\n",
      "♣T\n",
      "♣9\n",
      "♣8\n",
      "♣7\n",
      "♣6\n",
      "♣5\n",
      "♣4\n",
      "♣3\n",
      "♣2\n",
      "♦A\n",
      "♦K\n",
      "♦Q\n",
      "♦J\n",
      "♦T\n",
      "♦9\n",
      "♦8\n",
      "♦7\n",
      "♦6\n",
      "♦5\n",
      "♦4\n",
      "♦3\n",
      "♦2\n",
      "♥A\n",
      "♥K\n",
      "♥Q\n",
      "♥J\n",
      "♥T\n",
      "♥9\n",
      "♥8\n",
      "♥7\n",
      "♥6\n",
      "♥5\n",
      "♥4\n",
      "♥3\n",
      "♥2\n"
     ]
    }
   ],
   "source": [
    "deck = Deck()\n",
    "while not deck.isEmpty():\n",
    "    print(deck.draw().show())"
   ]
  },
  {
   "cell_type": "markdown",
   "metadata": {},
   "source": [
    "This ```deck``` corresponds to a brand new, unshuffled deck. Suppose we wish to repeat, but with a shuffled deck."
   ]
  },
  {
   "cell_type": "code",
   "execution_count": 7,
   "metadata": {},
   "outputs": [
    {
     "name": "stdout",
     "output_type": "stream",
     "text": [
      "♦T\n",
      "♣2\n",
      "♦Q\n",
      "♣K\n",
      "♥J\n",
      "♥T\n",
      "♣7\n",
      "♦3\n",
      "♥2\n",
      "♣6\n",
      "♣J\n",
      "♦4\n",
      "♦6\n",
      "♥9\n",
      "♣8\n",
      "♠T\n",
      "♥7\n",
      "♠5\n",
      "♦8\n",
      "♠J\n",
      "♣9\n",
      "♠7\n",
      "♠8\n",
      "♥5\n",
      "♦7\n",
      "♦5\n",
      "♠2\n",
      "♠Q\n",
      "♦A\n",
      "♠6\n",
      "♣5\n",
      "♥A\n",
      "♠K\n",
      "♦9\n",
      "♣A\n",
      "♦K\n",
      "♣3\n",
      "♥K\n",
      "♠9\n",
      "♠4\n",
      "♣4\n",
      "♥4\n",
      "♠3\n",
      "♥6\n",
      "♣Q\n",
      "♣T\n",
      "♥3\n",
      "♦2\n",
      "♦J\n",
      "♥Q\n",
      "♠A\n",
      "♥8\n"
     ]
    }
   ],
   "source": [
    "deck = Deck()\n",
    "deck.shuffle()\n",
    "while not deck.isEmpty():\n",
    "    print(deck.draw().show())"
   ]
  },
  {
   "cell_type": "markdown",
   "metadata": {},
   "source": [
    "If ```shuffle()``` is called a second time, the deck will randomize again. With this behavior, ```Deck``` creates a fully-functional card deck.\n",
    "## Inheritance\n",
    "Suppose we wish to build upon ```Deck```; it is beneficial when writing common playing card games to have the functionality that ```Deck``` provides without rewriting the same code. This is done using _inheritance_."
   ]
  },
  {
   "cell_type": "code",
   "execution_count": 8,
   "metadata": {},
   "outputs": [],
   "source": [
    "class BlackJack(Deck):       \n",
    "    def __init__(self):\n",
    "        Deck.__init__(self)\n",
    "        Deck.shuffle(self)"
   ]
  },
  {
   "cell_type": "markdown",
   "metadata": {},
   "source": [
    "Now, when class ```BlackJack``` is called, the code required to create a complete deck has already been written. At a minimum, any game which uses a standard deck simply needs to first shuffle. We therefore initialize an instance of ```Deck``` in the ```BlackJack``` constructor, and ```shuffle()``` it."
   ]
  },
  {
   "cell_type": "code",
   "execution_count": 9,
   "metadata": {},
   "outputs": [
    {
     "data": {
      "text/plain": [
       "'♠7'"
      ]
     },
     "execution_count": 9,
     "metadata": {},
     "output_type": "execute_result"
    }
   ],
   "source": [
    "blackjack = BlackJack()\n",
    "blackjack.draw().show() # Random Card Drawn"
   ]
  },
  {
   "cell_type": "markdown",
   "metadata": {},
   "source": [
    "```BlackJack``` may be further expanded to add methods for gameplay and scoring."
   ]
  },
  {
   "cell_type": "markdown",
   "metadata": {},
   "source": [
    "# Even More Common Libraries\n",
    "## Tkinter (Graphical User Interfaces)\n",
    "There are several GUI libraries with Python bindings - an infrastructure for combining the core function of your code with graphical elements. Tkinter is built-in to Python."
   ]
  },
  {
   "cell_type": "code",
   "execution_count": 18,
   "metadata": {},
   "outputs": [],
   "source": [
    "from tkinter import *\n",
    "\n",
    "class Window(Frame):\n",
    "    def __init__(self, master=None):\n",
    "        Frame.__init__(self, master)\n",
    "        self.master = master\n",
    "\n",
    "# initialize tkinter\n",
    "root = Tk()\n",
    "app = Window(root)\n",
    "\n",
    "# set window title\n",
    "root.wm_title(\"INFO-233\")\n",
    "root.geometry('300x200')\n",
    "button = Button(root, text='Hi Class!')\n",
    "button.pack()\n",
    "\n",
    "# show window\n",
    "root.mainloop()"
   ]
  },
  {
   "cell_type": "markdown",
   "metadata": {},
   "source": [
    "There are Python bindings for other graphical libraries like Qt and GTK."
   ]
  }
 ],
 "metadata": {
  "kernelspec": {
   "display_name": "Python 3",
   "language": "python",
   "name": "python3"
  },
  "language_info": {
   "codemirror_mode": {
    "name": "ipython",
    "version": 3
   },
   "file_extension": ".py",
   "mimetype": "text/x-python",
   "name": "python",
   "nbconvert_exporter": "python",
   "pygments_lexer": "ipython3",
   "version": "3.8.10"
  }
 },
 "nbformat": 4,
 "nbformat_minor": 4
}
