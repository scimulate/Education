{
 "cells": [
  {
   "cell_type": "markdown",
   "metadata": {},
   "source": [
    "### Course Information\n",
    "* Introduction to Programming (INFO-233)\n",
    "* Ramapo College of New Jersey\n",
    "* Professor Samuel Jacobs\n",
    "* Notes Licensed Under [CC BY-SA](https://creativecommons.org/licenses/by-sa/4.0/)\n",
    "\n",
    "# Lesson 03 Topics\n",
    "* Data Structures Overview\n",
    "* Lists\n",
    "* Tuples\n",
    "* Dictionaries\n",
    "* Sets\n",
    "\n",
    "# Data Structures Overview\n",
    "\n",
    "# List\n",
    "A list is a mutable data structure denoted by square brackets (```[]```). _Mutable_ means that you can add, remove, and modify elements. The most simple list is an empty one."
   ]
  },
  {
   "cell_type": "code",
   "execution_count": 1,
   "metadata": {},
   "outputs": [],
   "source": [
    "myList = []"
   ]
  },
  {
   "cell_type": "markdown",
   "metadata": {},
   "source": [
    "Similar to strings, you can use ```len()``` to compute the size of this data structure."
   ]
  },
  {
   "cell_type": "code",
   "execution_count": 2,
   "metadata": {},
   "outputs": [
    {
     "data": {
      "text/plain": [
       "0"
      ]
     },
     "execution_count": 2,
     "metadata": {},
     "output_type": "execute_result"
    }
   ],
   "source": [
    "len(myList)"
   ]
  },
  {
   "cell_type": "markdown",
   "metadata": {},
   "source": [
    "Also like strings, lists are objects in Python and have their own corresponding methods. Unlike the array data structure in other programming languages (C, for example), since items may be added and removed dynamically throughout a program many list methods deal with these operations. A thorough list of methods may be found [here](https://www.w3schools.com/python/python_ref_list.asp).\n",
    "## Methods\n",
    "The ```append()``` method adds elements to the end of a list."
   ]
  },
  {
   "cell_type": "code",
   "execution_count": 3,
   "metadata": {},
   "outputs": [
    {
     "name": "stdout",
     "output_type": "stream",
     "text": [
      "['apple']\n"
     ]
    }
   ],
   "source": [
    "myList.append(\"apple\")\n",
    "print(myList)"
   ]
  },
  {
   "cell_type": "code",
   "execution_count": 4,
   "metadata": {},
   "outputs": [
    {
     "name": "stdout",
     "output_type": "stream",
     "text": [
      "['apple', 'orange']\n"
     ]
    }
   ],
   "source": [
    "myList.append(\"orange\")\n",
    "print(myList)"
   ]
  },
  {
   "cell_type": "code",
   "execution_count": 5,
   "metadata": {},
   "outputs": [
    {
     "name": "stdout",
     "output_type": "stream",
     "text": [
      "['apple', 'orange', 'banana']\n"
     ]
    }
   ],
   "source": [
    "myList.append(\"banana\")\n",
    "print(myList)"
   ]
  },
  {
   "cell_type": "markdown",
   "metadata": {},
   "source": [
    "Elements of a list, like a string, can be returned by accessing their index."
   ]
  },
  {
   "cell_type": "code",
   "execution_count": 6,
   "metadata": {},
   "outputs": [
    {
     "data": {
      "text/plain": [
       "'orange'"
      ]
     },
     "execution_count": 6,
     "metadata": {},
     "output_type": "execute_result"
    }
   ],
   "source": [
    "myList[1]"
   ]
  },
  {
   "cell_type": "markdown",
   "metadata": {},
   "source": [
    "The reciprocal method of ```append()``` is ```pop()```, which removes the last element of a list,"
   ]
  },
  {
   "cell_type": "code",
   "execution_count": 7,
   "metadata": {},
   "outputs": [
    {
     "name": "stdout",
     "output_type": "stream",
     "text": [
      "['apple', 'orange']\n"
     ]
    }
   ],
   "source": [
    "myList.pop()\n",
    "print(myList)"
   ]
  },
  {
   "cell_type": "markdown",
   "metadata": {},
   "source": [
    "whereas the ```clear()``` method clears out all elements from a list."
   ]
  },
  {
   "cell_type": "code",
   "execution_count": 8,
   "metadata": {},
   "outputs": [
    {
     "name": "stdout",
     "output_type": "stream",
     "text": [
      "[]\n"
     ]
    }
   ],
   "source": [
    "myList.clear()\n",
    "print(myList)"
   ]
  },
  {
   "cell_type": "markdown",
   "metadata": {},
   "source": [
    "A list may be generated using bracket notation (```[]```) by adding multiple comma separated values,"
   ]
  },
  {
   "cell_type": "code",
   "execution_count": 9,
   "metadata": {},
   "outputs": [],
   "source": [
    "myList = [\"apple\", \"orange\", \"banana\"]"
   ]
  },
  {
   "cell_type": "markdown",
   "metadata": {},
   "source": [
    "and values may be appended to this existing list."
   ]
  },
  {
   "cell_type": "code",
   "execution_count": 10,
   "metadata": {},
   "outputs": [
    {
     "name": "stdout",
     "output_type": "stream",
     "text": [
      "['apple', 'orange', 'banana', 'pear', 'banana', 'banana']\n"
     ]
    }
   ],
   "source": [
    "myList.append(\"pear\")\n",
    "myList.append(\"banana\")\n",
    "myList.append(\"banana\")\n",
    "print(myList)"
   ]
  },
  {
   "cell_type": "markdown",
   "metadata": {},
   "source": [
    "Notice how multiple elements contain the same value, ```banana```? This is perfect acceptable. There are even methods specifically for this circumstance. The ```count()``` method determines how frequently a value occurs in a list."
   ]
  },
  {
   "cell_type": "code",
   "execution_count": 11,
   "metadata": {},
   "outputs": [
    {
     "data": {
      "text/plain": [
       "3"
      ]
     },
     "execution_count": 11,
     "metadata": {},
     "output_type": "execute_result"
    }
   ],
   "source": [
    "myList.count(\"banana\")"
   ]
  },
  {
   "cell_type": "markdown",
   "metadata": {},
   "source": [
    "```myList``` may be completely rewritten but assigning another "
   ]
  },
  {
   "cell_type": "markdown",
   "metadata": {},
   "source": [
    "## Copying\n",
    "Copying a variable containing a single data type is done so _by value_, meaning that the value itself is copied from one variable to another."
   ]
  },
  {
   "cell_type": "code",
   "execution_count": 12,
   "metadata": {},
   "outputs": [
    {
     "name": "stdout",
     "output_type": "stream",
     "text": [
      "5 5\n"
     ]
    }
   ],
   "source": [
    "x = 5\n",
    "y = x\n",
    "print(x, y)"
   ]
  },
  {
   "cell_type": "markdown",
   "metadata": {},
   "source": [
    "When ```x``` is changed, the value of ```y``` stays consistent to the previous assignment."
   ]
  },
  {
   "cell_type": "code",
   "execution_count": 13,
   "metadata": {},
   "outputs": [
    {
     "name": "stdout",
     "output_type": "stream",
     "text": [
      "10 5\n"
     ]
    }
   ],
   "source": [
    "x = 10\n",
    "print(x, y)"
   ]
  },
  {
   "cell_type": "markdown",
   "metadata": {},
   "source": [
    "Lists, however, are copied _by reference_. This means that the location in memory, where the list of values are stored, is copied from one variable to another."
   ]
  },
  {
   "cell_type": "code",
   "execution_count": 14,
   "metadata": {},
   "outputs": [
    {
     "name": "stdout",
     "output_type": "stream",
     "text": [
      "a =  [0, 1, 2, 3, 4, 5]\n",
      "b =  [0, 1, 2, 3, 4, 5]\n"
     ]
    }
   ],
   "source": [
    "a = [0, 1, 2, 3, 4, 5]\n",
    "b = a\n",
    "print('a = ', a)\n",
    "print('b = ', b)"
   ]
  },
  {
   "cell_type": "markdown",
   "metadata": {},
   "source": [
    "When the values stored at that memory address are changed, the change affects every variable that references the location in memory."
   ]
  },
  {
   "cell_type": "code",
   "execution_count": 15,
   "metadata": {},
   "outputs": [
    {
     "name": "stdout",
     "output_type": "stream",
     "text": [
      "a =  [0, 1, 2, 3, 4, 10]\n",
      "b =  [0, 1, 2, 3, 4, 10]\n"
     ]
    }
   ],
   "source": [
    "a[-1] = 10\n",
    "print('a = ', a)\n",
    "print('b = ', b)"
   ]
  },
  {
   "cell_type": "markdown",
   "metadata": {},
   "source": [
    "In this case, the code never directly modifies ```b```, but its values can change. This behavior can be circumvented using ```[:]``` notation,"
   ]
  },
  {
   "cell_type": "code",
   "execution_count": 16,
   "metadata": {},
   "outputs": [],
   "source": [
    "a = [0, 1, 2, 3, 4, 5]\n",
    "b = a[:]"
   ]
  },
  {
   "cell_type": "markdown",
   "metadata": {},
   "source": [
    "or the ```copy()``` method."
   ]
  },
  {
   "cell_type": "code",
   "execution_count": 17,
   "metadata": {},
   "outputs": [],
   "source": [
    "b = a.copy()"
   ]
  },
  {
   "cell_type": "markdown",
   "metadata": {},
   "source": [
    "which copies every element of one list into another. The values contained in ```a``` exist in a different location in memory as the values stored in ```b```. As a result, when one list is modified, the other is unaffected. "
   ]
  },
  {
   "cell_type": "code",
   "execution_count": 18,
   "metadata": {},
   "outputs": [
    {
     "name": "stdout",
     "output_type": "stream",
     "text": [
      "a =  [0, 1, 2, 3, 4, 10]\n",
      "b =  [0, 1, 2, 3, 4, 5]\n"
     ]
    }
   ],
   "source": [
    "a[-1] = 10\n",
    "print('a = ', a)\n",
    "print('b = ', b)"
   ]
  },
  {
   "cell_type": "markdown",
   "metadata": {},
   "source": [
    "## Sorting\n",
    "Two useful methods while working through lists are the ```sort()``` and ```reverse()``` methods. The ```sort()``` method takes an unordered list and orders it. This is easy to understand when the list contains numbers."
   ]
  },
  {
   "cell_type": "code",
   "execution_count": 19,
   "metadata": {},
   "outputs": [
    {
     "name": "stdout",
     "output_type": "stream",
     "text": [
      "[-100, -1, 4, 5, 9, 10, 23]\n"
     ]
    }
   ],
   "source": [
    "values = [10, -1, 5, 4, 23, -100, 9] # Unordered\n",
    "values.sort()\n",
    "print(values)"
   ]
  },
  {
   "cell_type": "markdown",
   "metadata": {},
   "source": [
    "When the list contains string values, these are alphabetized."
   ]
  },
  {
   "cell_type": "code",
   "execution_count": 20,
   "metadata": {},
   "outputs": [
    {
     "name": "stdout",
     "output_type": "stream",
     "text": [
      "['Argon', 'Carbon', 'Chlorine', 'Hydrogen', 'Lithium', 'Potassium', 'Silicon', 'Sodium', 'Uranium']\n"
     ]
    }
   ],
   "source": [
    "values = [\"Sodium\", \"Potassium\", \"Carbon\", \\\n",
    "          \"Uranium\", \"Silicon\", \"Lithium\", \\\n",
    "          \"Hydrogen\", \"Argon\", \"Chlorine\"]\n",
    "values.sort()\n",
    "print(values)"
   ]
  },
  {
   "cell_type": "markdown",
   "metadata": {},
   "source": [
    "```reverse()``` takes a list and flips its elements. The list does not necessarily need to be ordered."
   ]
  },
  {
   "cell_type": "code",
   "execution_count": 21,
   "metadata": {},
   "outputs": [
    {
     "name": "stdout",
     "output_type": "stream",
     "text": [
      "[9, -100, 23, 4, 5, -1, 10]\n"
     ]
    }
   ],
   "source": [
    "values = [10, -1, 5, 4, 23, -100, 9]\n",
    "values.reverse()\n",
    "print(values)"
   ]
  },
  {
   "cell_type": "markdown",
   "metadata": {},
   "source": [
    "## Searching\n",
    "It may be useful to locate the location of a value in a list. The ```index()``` method returns the first index of a list,"
   ]
  },
  {
   "cell_type": "code",
   "execution_count": 22,
   "metadata": {},
   "outputs": [
    {
     "data": {
      "text/plain": [
       "2"
      ]
     },
     "execution_count": 22,
     "metadata": {},
     "output_type": "execute_result"
    }
   ],
   "source": [
    "values = [0, 2, 4, 6, 8, 10, 12, 4, 4, 4] # Notice the repeating values?\n",
    "values.index(4)"
   ]
  },
  {
   "cell_type": "markdown",
   "metadata": {},
   "source": [
    "but an error is thrown if the value does not exist. The ```index()``` method can be combined with the ```in``` keyword to (1) confirm existance of a value in a list and (2) locate it."
   ]
  },
  {
   "cell_type": "code",
   "execution_count": 23,
   "metadata": {},
   "outputs": [
    {
     "name": "stdout",
     "output_type": "stream",
     "text": [
      "Index 4\n"
     ]
    }
   ],
   "source": [
    "values = [0, 2, 4, 6, 8, 10, 12, 4, 4, 4]\n",
    "value = 8\n",
    "if value in values:\n",
    "    print(\"Index\", values.index(value))\n",
    "else:\n",
    "    print(\"Does not exist\")"
   ]
  },
  {
   "cell_type": "markdown",
   "metadata": {},
   "source": [
    "# Tuple\n",
    "The tuple data structure looks nearly identical to a list, except its values are _immutable_ — they cannot be changed after initial assignment. When working with a list, Python must allocate excess memory to handle insertions and deletions, but when a tuple is created its size and contents are known and fixed. Python uses this advantageously by allocating the minimum amount of memory necessary to store its contents. The properties of a tuple make it commonly used when multiple values are returned from a function.\n",
    "\n",
    "A tuple is created using parentheses (```()```),"
   ]
  },
  {
   "cell_type": "code",
   "execution_count": 24,
   "metadata": {},
   "outputs": [],
   "source": [
    "myTuple = (\"apple\", \"orange\", \"banana\", \"pear\")"
   ]
  },
  {
   "cell_type": "markdown",
   "metadata": {},
   "source": [
    "and its elements are accessed using square brackets (```[]```)."
   ]
  },
  {
   "cell_type": "code",
   "execution_count": 25,
   "metadata": {},
   "outputs": [
    {
     "data": {
      "text/plain": [
       "'banana'"
      ]
     },
     "execution_count": 25,
     "metadata": {},
     "output_type": "execute_result"
    }
   ],
   "source": [
    "myTuple[2]"
   ]
  },
  {
   "cell_type": "markdown",
   "metadata": {},
   "source": [
    "## Methods\n",
    "Only two list methods are available for a tuple. These are ```index()``` and ```count()```. A thorough list may be found [here](https://www.w3schools.com/python/python_ref_tuple.asp).\n",
    "\n",
    "## Tuple to List\n",
    "While tuples themselves are immutable, their contents may be used elsewhere as mutable values. For example, if a function returns a tuple containing two values, these values may be assigned to a list and modified. The ```list()``` function converts contents of a tuple to list."
   ]
  },
  {
   "cell_type": "code",
   "execution_count": 26,
   "metadata": {},
   "outputs": [],
   "source": [
    "myTuple = (0, 1, 2, 3, 4, 5)\n",
    "myList = list(myTuple)"
   ]
  },
  {
   "cell_type": "code",
   "execution_count": 27,
   "metadata": {},
   "outputs": [
    {
     "name": "stdout",
     "output_type": "stream",
     "text": [
      "[0, 1, 10, 3, 4, 5]\n"
     ]
    }
   ],
   "source": [
    "myList[2] = 10\n",
    "print(myList)"
   ]
  },
  {
   "cell_type": "markdown",
   "metadata": {},
   "source": [
    "# Dictionary\n",
    "The dictionary data structure is like a list, except it does not necessarily need to be ordered as it uses _key-value_ pairs to define entries. Dictionaries are defined using curly braces (```{}```) and key-value pairs are defined using the colon (```:```) operator. Like the previous data structures, the simplest dictionary is empty."
   ]
  },
  {
   "cell_type": "code",
   "execution_count": 28,
   "metadata": {},
   "outputs": [],
   "source": [
    "myDict = {}"
   ]
  },
  {
   "cell_type": "markdown",
   "metadata": {},
   "source": [
    "Think of a Python dictionary like an English dictionary. Programmers may know the name of a _key_, but do not know the value associated with it; similarly, when using an English dictionary, readers know the existance of a word but do not necessarily know its definition. An English dictionary can be recreated using Python."
   ]
  },
  {
   "cell_type": "code",
   "execution_count": 29,
   "metadata": {},
   "outputs": [
    {
     "name": "stdout",
     "output_type": "stream",
     "text": [
      "{'selfie': 'an image that includes oneself', 'factoid': 'an invented fact believed to be true because it appears in print', 'myopic': 'not able to clearly see objects that are far away'}\n"
     ]
    }
   ],
   "source": [
    "webster = {\"selfie\":\"an image that includes oneself\", \\\n",
    "           \"factoid\":\"an invented fact believed to be true because it appears in print\", \\\n",
    "           \"myopic\":\"not able to clearly see objects that are far away\"}\n",
    "print(webster)"
   ]
  },
  {
   "cell_type": "markdown",
   "metadata": {},
   "source": [
    "Elsewhere in the program, when a key is refererenced its value gets returned."
   ]
  },
  {
   "cell_type": "code",
   "execution_count": 30,
   "metadata": {},
   "outputs": [
    {
     "data": {
      "text/plain": [
       "'an image that includes oneself'"
      ]
     },
     "execution_count": 30,
     "metadata": {},
     "output_type": "execute_result"
    }
   ],
   "source": [
    "webster[\"selfie\"]"
   ]
  },
  {
   "cell_type": "markdown",
   "metadata": {},
   "source": [
    "If writing (or over-writing) a key-value pair is desired, simply use the assignment operator (```=```)."
   ]
  },
  {
   "cell_type": "code",
   "execution_count": 31,
   "metadata": {},
   "outputs": [
    {
     "name": "stdout",
     "output_type": "stream",
     "text": [
      "{'selfie': 'should not be a real word', 'factoid': 'an invented fact believed to be true because it appears in print', 'myopic': 'not able to clearly see objects that are far away'}\n"
     ]
    }
   ],
   "source": [
    "webster[\"selfie\"] = \"should not be a real word\"\n",
    "print(webster)"
   ]
  },
  {
   "cell_type": "markdown",
   "metadata": {},
   "source": [
    "Using the same structure, if the key to be over-written does not exist, a corresponding entry is simply written to the dictionary."
   ]
  },
  {
   "cell_type": "code",
   "execution_count": 32,
   "metadata": {},
   "outputs": [
    {
     "name": "stdout",
     "output_type": "stream",
     "text": [
      "{'selfie': 'should not be a real word', 'factoid': 'an invented fact believed to be true because it appears in print', 'myopic': 'not able to clearly see objects that are far away', 'juggernaut': 'a massive inexorable force, campaign, movement, or object that crushes whatever is in its path'}\n"
     ]
    }
   ],
   "source": [
    "webster[\"juggernaut\"] = \"a massive inexorable force, campaign, movement, or object that crushes whatever is in its path\"\n",
    "print(webster)"
   ]
  },
  {
   "cell_type": "markdown",
   "metadata": {},
   "source": [
    "## Methods\n",
    "\n",
    "A thorough list of methods may be found [here](https://www.w3schools.com/python/python_ref_dictionary.asp).\n",
    "\n",
    "# Sets\n",
    "A set may be thought of as a dictionary, a collection of key-value pairs, but without the values. Sets are not ordered, and their contents are immutable (an entry in a set cannot be over-written), but using set methods entries can be added or removed. Sets also do not allow duplicates; they are simply ignored."
   ]
  },
  {
   "cell_type": "code",
   "execution_count": 33,
   "metadata": {},
   "outputs": [
    {
     "name": "stdout",
     "output_type": "stream",
     "text": [
      "{'banana', 'orange', 'apple'}\n",
      "3\n"
     ]
    }
   ],
   "source": [
    "mySet = {\"apple\", \"banana\", \"orange\", \"apple\", \"apple\", \"apple\", \"apple\", \"apple\", \"apple\"}\n",
    "print(mySet)\n",
    "print(len(mySet))"
   ]
  },
  {
   "cell_type": "markdown",
   "metadata": {},
   "source": [
    "There are methods unique to the set data structure, such as ```union()```, ```intersection()```, and ```difference()```, which establish set theory functionality. Other methods, such as "
   ]
  },
  {
   "cell_type": "code",
   "execution_count": 34,
   "metadata": {},
   "outputs": [],
   "source": [
    "nums = {0, 1, 2, 3, 4, 5, 6, 7, 8, 9}\n",
    "even = {0, 2, 4, 6, 8}\n",
    "odd = {1, 3, 5, 7, 9}"
   ]
  },
  {
   "cell_type": "markdown",
   "metadata": {},
   "source": [
    "```union()``` returns a combined set of ```even``` and ```odd```."
   ]
  },
  {
   "cell_type": "code",
   "execution_count": 35,
   "metadata": {},
   "outputs": [
    {
     "data": {
      "text/plain": [
       "{0, 1, 2, 3, 4, 5, 6, 7, 8, 9}"
      ]
     },
     "execution_count": 35,
     "metadata": {},
     "output_type": "execute_result"
    }
   ],
   "source": [
    "even.union(odd)"
   ]
  },
  {
   "cell_type": "markdown",
   "metadata": {},
   "source": [
    "```intersect()``` returns the values of ```nums``` which are also in ```odd```."
   ]
  },
  {
   "cell_type": "code",
   "execution_count": 36,
   "metadata": {},
   "outputs": [
    {
     "data": {
      "text/plain": [
       "{1, 3, 5, 7, 9}"
      ]
     },
     "execution_count": 36,
     "metadata": {},
     "output_type": "execute_result"
    }
   ],
   "source": [
    "nums.intersection(odd)"
   ]
  },
  {
   "cell_type": "code",
   "execution_count": 37,
   "metadata": {},
   "outputs": [
    {
     "data": {
      "text/plain": [
       "{0, 2, 4, 6, 8}"
      ]
     },
     "execution_count": 37,
     "metadata": {},
     "output_type": "execute_result"
    }
   ],
   "source": [
    "nums.intersection(even)"
   ]
  },
  {
   "cell_type": "code",
   "execution_count": 38,
   "metadata": {},
   "outputs": [
    {
     "data": {
      "text/plain": [
       "{0, 2, 4, 6, 8}"
      ]
     },
     "execution_count": 38,
     "metadata": {},
     "output_type": "execute_result"
    }
   ],
   "source": [
    "nums.difference(odd)"
   ]
  },
  {
   "cell_type": "code",
   "execution_count": 39,
   "metadata": {},
   "outputs": [
    {
     "data": {
      "text/plain": [
       "{1, 3, 5, 7, 9}"
      ]
     },
     "execution_count": 39,
     "metadata": {},
     "output_type": "execute_result"
    }
   ],
   "source": [
    "nums.difference(even)"
   ]
  },
  {
   "cell_type": "code",
   "execution_count": 40,
   "metadata": {},
   "outputs": [
    {
     "data": {
      "text/plain": [
       "True"
      ]
     },
     "execution_count": 40,
     "metadata": {},
     "output_type": "execute_result"
    }
   ],
   "source": [
    "even.issubset(nums) # Returns true since every key in even is also in nums"
   ]
  },
  {
   "cell_type": "code",
   "execution_count": 41,
   "metadata": {},
   "outputs": [
    {
     "data": {
      "text/plain": [
       "True"
      ]
     },
     "execution_count": 41,
     "metadata": {},
     "output_type": "execute_result"
    }
   ],
   "source": [
    "odd.issubset(nums) # Returns true since every key in odd is also in nums"
   ]
  },
  {
   "cell_type": "code",
   "execution_count": 42,
   "metadata": {},
   "outputs": [
    {
     "data": {
      "text/plain": [
       "False"
      ]
     },
     "execution_count": 42,
     "metadata": {},
     "output_type": "execute_result"
    }
   ],
   "source": [
    "nums.issubset(even) # Returns false since every value in nums is not in even."
   ]
  },
  {
   "cell_type": "code",
   "execution_count": 43,
   "metadata": {},
   "outputs": [
    {
     "data": {
      "text/plain": [
       "True"
      ]
     },
     "execution_count": 43,
     "metadata": {},
     "output_type": "execute_result"
    }
   ],
   "source": [
    "nums.issuperset(even) # Returns true since nums contains every value of even + extra."
   ]
  },
  {
   "cell_type": "markdown",
   "metadata": {},
   "source": [
    "A thorough list of methods may be found [here](https://www.w3schools.com/python/python_ref_set.asp)."
   ]
  }
 ],
 "metadata": {
  "kernelspec": {
   "display_name": "Python 3",
   "language": "python",
   "name": "python3"
  },
  "language_info": {
   "codemirror_mode": {
    "name": "ipython",
    "version": 3
   },
   "file_extension": ".py",
   "mimetype": "text/x-python",
   "name": "python",
   "nbconvert_exporter": "python",
   "pygments_lexer": "ipython3",
   "version": "3.8.10"
  }
 },
 "nbformat": 4,
 "nbformat_minor": 4
}
