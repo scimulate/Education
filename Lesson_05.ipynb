{
 "cells": [
  {
   "cell_type": "markdown",
   "metadata": {},
   "source": [
    "# Course Information\n",
    "* Introduction to Programming (INFO-233)\n",
    "* Ramapo College of New Jersey\n",
    "* Professor Samuel Jacobs\n",
    "* Notes Licensed Under [CC BY-SA](https://creativecommons.org/licenses/by-sa/4.0/)\n",
    "\n",
    "# Lesson 05 Topics\n",
    "* Functions\n",
    "* Recursion\n",
    "\n",
    "# Functions\n",
    "## Overview\n",
    "_Functions_ are a primary mechanism for encapsulating code fragments into a more manageable, distributable format. The process of using functions consists of two steps, _defining_ the function and _calling_ the function. Every function used in INFO-233 to date (```print()```, ```input()```, ```len()```, etc.) has been defined externally, and programmers _call_ these functions.\n",
    "\n",
    "## Defining Functions\n",
    "Functions are defined using the ```def``` keyword. The simplest function defines a function called ```doNothing()```, accepts zero arguments, and contains no useful code, but it does establish a structure consistent with all other functions."
   ]
  },
  {
   "cell_type": "code",
   "execution_count": 1,
   "metadata": {},
   "outputs": [],
   "source": [
    "def doNothing():\n",
    "    pass"
   ]
  },
  {
   "cell_type": "markdown",
   "metadata": {},
   "source": [
    "Inside the function, Python code is executed normally. The code has been baked into a format that may be reused multiple times, and across separate programs, without needing to access or modify the code within. Think of the ```print()``` function; its origin and authors are often overlooked, but it works across every separate program written in Python.\n",
    "\n",
    "A simple function, which does not accept input and prints \"Hello World!\" has been defined below."
   ]
  },
  {
   "cell_type": "code",
   "execution_count": 2,
   "metadata": {},
   "outputs": [],
   "source": [
    "def hello():\n",
    "    print(\"Hello World!\")"
   ]
  },
  {
   "cell_type": "markdown",
   "metadata": {},
   "source": [
    "Now, elsewhere in a program the function ```hello()``` may be called, and when the Python interpreter executes that line, it actually executes all the code contained in ```hello()```."
   ]
  },
  {
   "cell_type": "code",
   "execution_count": 3,
   "metadata": {},
   "outputs": [
    {
     "name": "stdout",
     "output_type": "stream",
     "text": [
      "Hello World!\n",
      "Hello World!\n",
      "Hello World!\n"
     ]
    }
   ],
   "source": [
    "hello()\n",
    "hello()\n",
    "hello()"
   ]
  },
  {
   "cell_type": "markdown",
   "metadata": {},
   "source": [
    "The previous example was trivial and even required more code than just typing ```print(\"Hello World!\")``` three times, but suppose this function contains many intricate lines of code. If the code were naiively copied & pasted where necessary throughout a program, the program becomes more difficult to maintain; if the code were encapsulated in a function, when it needs to be changed or optimized, only the function's code must be identified and updated. The behavior of the function anywhere else is updated automatically.\n",
    "\n",
    "## ```return```\n",
    "Often, it is not desirable to display output to the command line; instead, it is more useful to return values from a function. We do so with the ```return``` keyword."
   ]
  },
  {
   "cell_type": "code",
   "execution_count": 4,
   "metadata": {},
   "outputs": [],
   "source": [
    "import random\n",
    "def rand10():\n",
    "    return int(10*random.random())"
   ]
  },
  {
   "cell_type": "markdown",
   "metadata": {},
   "source": [
    "Using the defined function ```rand10()```, we return an integer between 0 and 9. This allows rand10() to sit on the expression side of an assignment statement. Its result may be stored as a variable and/or used for further processing."
   ]
  },
  {
   "cell_type": "code",
   "execution_count": 5,
   "metadata": {},
   "outputs": [
    {
     "name": "stdout",
     "output_type": "stream",
     "text": [
      "1\n"
     ]
    }
   ],
   "source": [
    "x = rand10()\n",
    "print(x)"
   ]
  },
  {
   "cell_type": "markdown",
   "metadata": {},
   "source": [
    "If this procedure were tried without ```return```, the function would return the Python value ```None```.\n",
    "\n",
    "## Arguments\n",
    "Any defined function may accept zero or more arguments. The defined function ```rand10()``` may be modified to return a random number anywhere between 0 and N-1."
   ]
  },
  {
   "cell_type": "code",
   "execution_count": 6,
   "metadata": {},
   "outputs": [],
   "source": [
    "import random\n",
    "def randN(limit):\n",
    "    return int(limit*random.random())"
   ]
  },
  {
   "cell_type": "code",
   "execution_count": 7,
   "metadata": {},
   "outputs": [
    {
     "name": "stdout",
     "output_type": "stream",
     "text": [
      "253\n"
     ]
    }
   ],
   "source": [
    "x = randN(500)\n",
    "print(x)"
   ]
  },
  {
   "cell_type": "markdown",
   "metadata": {},
   "source": [
    "Multiple arguments may be passed into a defined function by commas separating each explicit argument."
   ]
  },
  {
   "cell_type": "code",
   "execution_count": 8,
   "metadata": {},
   "outputs": [],
   "source": [
    "def product(a, b):\n",
    "    return a*b"
   ]
  },
  {
   "cell_type": "code",
   "execution_count": 9,
   "metadata": {},
   "outputs": [
    {
     "name": "stdout",
     "output_type": "stream",
     "text": [
      "50\n"
     ]
    }
   ],
   "source": [
    "x = product(5, 10)\n",
    "print(x)"
   ]
  },
  {
   "cell_type": "markdown",
   "metadata": {},
   "source": [
    "Functions in Python may also easily accept _any_ number of arguments. This is done by using ```*args```"
   ]
  },
  {
   "cell_type": "code",
   "execution_count": 10,
   "metadata": {},
   "outputs": [],
   "source": [
    "def sumAll(*args):\n",
    "    total = 0\n",
    "    for arg in args:\n",
    "        total += arg\n",
    "    return total"
   ]
  },
  {
   "cell_type": "code",
   "execution_count": 11,
   "metadata": {},
   "outputs": [
    {
     "name": "stdout",
     "output_type": "stream",
     "text": [
      "15\n"
     ]
    }
   ],
   "source": [
    "x = sumAll(5, 4, 3, 2, 1)\n",
    "print(x)"
   ]
  },
  {
   "cell_type": "markdown",
   "metadata": {},
   "source": [
    "Local variables within a function do not impact variables elsewhere. In this example, variables ```x``` and ```y``` are defined external and internal to a function. Because variables lie in a different _scope_ when ```something()``` is called, their contents are not implictly defined _inside_ the function, and not affected _outside_ of the function."
   ]
  },
  {
   "cell_type": "code",
   "execution_count": 12,
   "metadata": {},
   "outputs": [
    {
     "name": "stdout",
     "output_type": "stream",
     "text": [
      "10 10\n",
      "5 7\n"
     ]
    }
   ],
   "source": [
    "x = 5\n",
    "y = 7\n",
    "\n",
    "def something():\n",
    "    x = 10\n",
    "    y = 10\n",
    "    print(x, y)\n",
    "\n",
    "something()\n",
    "print(x,y)"
   ]
  },
  {
   "cell_type": "markdown",
   "metadata": {},
   "source": [
    "The same behavior applies when passing arguments into a function."
   ]
  },
  {
   "cell_type": "code",
   "execution_count": 13,
   "metadata": {},
   "outputs": [
    {
     "name": "stdout",
     "output_type": "stream",
     "text": [
      "5 10\n",
      "6 11\n",
      "5 10\n"
     ]
    }
   ],
   "source": [
    "def add1(a, b):\n",
    "    a += 1\n",
    "    b += 1\n",
    "    print(a, b)\n",
    "    \n",
    "a = 5\n",
    "b = 10\n",
    "\n",
    "print(a, b)\n",
    "add1(a, b)\n",
    "print(a, b)"
   ]
  },
  {
   "cell_type": "markdown",
   "metadata": {},
   "source": [
    "The exception to this behavior is with larger data structures since they are passed by reference."
   ]
  },
  {
   "cell_type": "code",
   "execution_count": 14,
   "metadata": {},
   "outputs": [
    {
     "name": "stdout",
     "output_type": "stream",
     "text": [
      "[10, 10, 10]\n",
      "[10, 10, -1]\n"
     ]
    }
   ],
   "source": [
    "def change1(values):\n",
    "    values[-1] = -1\n",
    "\n",
    "myList = [10, 10, 10]\n",
    "print(myList)\n",
    "\n",
    "change1(myList)\n",
    "print(myList)"
   ]
  },
  {
   "cell_type": "markdown",
   "metadata": {},
   "source": [
    "# Recursion\n",
    "Functions can call other functions without issue. Unintuitively, functions can also call themselves."
   ]
  },
  {
   "cell_type": "code",
   "execution_count": 15,
   "metadata": {},
   "outputs": [],
   "source": [
    "def charInString(string, location):\n",
    "    if location < len(string):\n",
    "        print(string[location], end=\"...\")\n",
    "        charInString(string, location+1)"
   ]
  },
  {
   "cell_type": "markdown",
   "metadata": {},
   "source": [
    "The outcome of this function is that, from a supplied starting ```location```, display one character individually."
   ]
  },
  {
   "cell_type": "code",
   "execution_count": 16,
   "metadata": {},
   "outputs": [
    {
     "name": "stdout",
     "output_type": "stream",
     "text": [
      "S...o...m...e...t...h...i...n...g... ...S...o...m...e...t...h...i...n...g... ...D...a...r...k...s...i...d...e..."
     ]
    }
   ],
   "source": [
    "title = \"Something Something Darkside\"\n",
    "charInString(title, 0)"
   ]
  },
  {
   "cell_type": "markdown",
   "metadata": {},
   "source": [
    "Recursion is an elegant programming construct, but typically any recursive algorithm can be written iteratively, and since function calls typically require more computational overhead, the iterative version is usually more efficient."
   ]
  }
 ],
 "metadata": {
  "kernelspec": {
   "display_name": "Python 3",
   "language": "python",
   "name": "python3"
  },
  "language_info": {
   "codemirror_mode": {
    "name": "ipython",
    "version": 3
   },
   "file_extension": ".py",
   "mimetype": "text/x-python",
   "name": "python",
   "nbconvert_exporter": "python",
   "pygments_lexer": "ipython3",
   "version": "3.8.10"
  }
 },
 "nbformat": 4,
 "nbformat_minor": 4
}
