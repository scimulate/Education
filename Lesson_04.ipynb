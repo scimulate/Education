{
 "cells": [
  {
   "cell_type": "markdown",
   "metadata": {},
   "source": [
    "# Course Information\n",
    "* Introduction to Programming (INFO-233)\n",
    "* Ramapo College of New Jersey\n",
    "* Professor Samuel Jacobs\n",
    "* Notes Licensed Under [CC BY-SA](https://creativecommons.org/licenses/by-sa/4.0/)\n",
    "\n",
    "# Lesson 04 Topics\n",
    "* Iteration Overview\n",
    "* ```while``` Loops\n",
    "* ```for``` Loops\n",
    "\n",
    "# Iteration Overview\n",
    "_Iteration_ is simply the process of repeating a task. Humans are not great at iteration (try counting to one-million without messing up), but computers perform iterative tasks superbly. In this lesson, we will learn about the two iterative approaches in Python.\n",
    "\n",
    "# ```while``` Loops\n",
    "## Overview\n",
    "The functionality of a ```while``` loop is simple, and similar to that of an ```if``` statement; the premise is that a block of code is executed when a condition is true, and that block of code is _repeatedly_ executed as long as the condition remains true. A basic example, counting from 0 to 9, is written below."
   ]
  },
  {
   "cell_type": "code",
   "execution_count": 1,
   "metadata": {},
   "outputs": [
    {
     "name": "stdout",
     "output_type": "stream",
     "text": [
      "0...1...2...3...4...5...6...7...8...9..."
     ]
    }
   ],
   "source": [
    "count = 0\n",
    "threshold = 10\n",
    "while count < threshold:\n",
    "    print(count, end=\"...\")\n",
    "    count += 1"
   ]
  },
  {
   "cell_type": "markdown",
   "metadata": {},
   "source": [
    "Here, ```count``` stores a variable which gets incremented. At first, the condition ```count <= threshold``` is evaluated. Since it evaluates to ```True```, the indented block of code executes in its entirety. Afterwards, the code _loops_ (hence the name) back to the top and evaluates the ```while``` condition again. This repeats until the condition evaluates to ```False```. Since ```count``` starts at zero and continually incremenets by 1, this ```while``` loop will certainly conclude.\n",
    "\n",
    "_Note_: The statement ```count += 1``` is shorthand notation for ```count = count + 1```.\n",
    "\n",
    "The most generic form of loop is the ```while``` loop; any other loop (Python has two loop varieties, but other languages have three of more) may be written as a ```while``` loop. Based on their structure, ```while``` loops are also the best approach when writing code that can iterate for an unknown duration.\n",
    "\n",
    "For example, using the function ```random()``` from the ```random``` module, we can pull a nearly random decimal value between 0 and 1."
   ]
  },
  {
   "cell_type": "code",
   "execution_count": 2,
   "metadata": {},
   "outputs": [
    {
     "name": "stdout",
     "output_type": "stream",
     "text": [
      "0.1211278017463262\n",
      "0.9371220212133055\n",
      "0.7979775285910616\n",
      "0.41698153179347364\n",
      "0.9297545059268422\n",
      "0.7911944439702998\n",
      "0.07388350139330935\n",
      "0.6684075833733926\n",
      "0.5866039500973872\n",
      "0.3087509044174066\n"
     ]
    }
   ],
   "source": [
    "import random\n",
    "\n",
    "count = 0\n",
    "threshold = 10\n",
    "while count < threshold:\n",
    "    print(random.random())\n",
    "    count += 1"
   ]
  },
  {
   "cell_type": "markdown",
   "metadata": {},
   "source": [
    "It is possible for ```random()``` to return exactly 0, but it will never return exactly 1. Using set notation, ```random()``` returns values contained in the set [0,1). \n",
    "\n",
    "Now, if the programmer never knows what value ```random()``` will return, using this function to hunt for a value within a specific range can go on indefinitely."
   ]
  },
  {
   "cell_type": "code",
   "execution_count": 3,
   "metadata": {},
   "outputs": [
    {
     "name": "stdout",
     "output_type": "stream",
     "text": [
      "# of iterations: 2\n",
      "current value: 0.14001750647996192\n"
     ]
    }
   ],
   "source": [
    "lbound = 0.1  # lower bound\n",
    "ubound = 0.15 # upper bound\n",
    "value = 0.0   # initialize to something not in the range between lbound and ubound\n",
    "\n",
    "count = 0\n",
    "while value < lbound or value > ubound:\n",
    "    value = random.random()\n",
    "    count += 1\n",
    "print(\"# of iterations:\", count)\n",
    "print(\"current value:\", value)"
   ]
  },
  {
   "cell_type": "markdown",
   "metadata": {},
   "source": [
    "Loops may also be used to iterate through text or lists. Any other programming constructs (```if``` statements, data structures, etc.) may be referenced by or within a loop. The following example steps through a list of numbers. If an index of list ```x``` is even, that number is printed."
   ]
  },
  {
   "cell_type": "code",
   "execution_count": 4,
   "metadata": {},
   "outputs": [
    {
     "name": "stdout",
     "output_type": "stream",
     "text": [
      "0...2...4...6...8..."
     ]
    }
   ],
   "source": [
    "x = [0, 1, 2, 3, 4, 5, 6, 7, 8, 9]\n",
    "index = 0\n",
    "while index < len(x):\n",
    "    if x[index]%2 == 0:\n",
    "        print(x[index], end=\"...\")\n",
    "    index += 1"
   ]
  },
  {
   "cell_type": "markdown",
   "metadata": {},
   "source": [
    "# ```for``` Loops\n",
    "```for``` loops are most often used when the loop will iterate a definite number of times, and offers slightly more compact Python syntax by absorbing the counting variable (```count``` or ```index```, as used previously)."
   ]
  },
  {
   "cell_type": "code",
   "execution_count": 5,
   "metadata": {},
   "outputs": [
    {
     "name": "stdout",
     "output_type": "stream",
     "text": [
      "0...1...2...3...4...5...6...7...8...9..."
     ]
    }
   ],
   "source": [
    "for x in range(10):\n",
    "    print(x, end=\"...\")"
   ]
  },
  {
   "cell_type": "markdown",
   "metadata": {},
   "source": [
    "What previously took five lines of code can now be accomplished in two lines. The previous example also presented a new function, ```range()```, which establishes a sequence for iteration. Its function generically takes the form ```range(start, stop, step)```, but ```start``` and ```step``` may be omitted if the programmer wishes to default starting at zero with a step of one."
   ]
  },
  {
   "cell_type": "code",
   "execution_count": 6,
   "metadata": {},
   "outputs": [
    {
     "name": "stdout",
     "output_type": "stream",
     "text": [
      "5...7...9...11...13..."
     ]
    }
   ],
   "source": [
    "for x in range(5, 15, 2):\n",
    "    print(x, end=\"...\")"
   ]
  },
  {
   "cell_type": "markdown",
   "metadata": {},
   "source": [
    "Notice how the ```end``` bound was not evaluated? Python evaluates from the beginning, inclusively, to the end, exclusively. In Python, ```for``` loops may also be used to iterate through items of a list using very simple syntax. Suppose we have a list of fruits."
   ]
  },
  {
   "cell_type": "code",
   "execution_count": 7,
   "metadata": {},
   "outputs": [],
   "source": [
    "fruits = [\"apple\", \"banana\", \"pear\", \"cherry\", \"strawberry\", \"blueberry\"]"
   ]
  },
  {
   "cell_type": "markdown",
   "metadata": {},
   "source": [
    "Using a ```for``` loop, we can iterate through this list with ease, eliminating the need to index any location in the list."
   ]
  },
  {
   "cell_type": "code",
   "execution_count": 8,
   "metadata": {},
   "outputs": [
    {
     "name": "stdout",
     "output_type": "stream",
     "text": [
      "apple\n",
      "banana\n",
      "pear\n",
      "cherry\n",
      "strawberry\n",
      "blueberry\n"
     ]
    }
   ],
   "source": [
    "for fruit in fruits:\n",
    "    print(fruit)"
   ]
  }
 ],
 "metadata": {
  "kernelspec": {
   "display_name": "Python 3",
   "language": "python",
   "name": "python3"
  },
  "language_info": {
   "codemirror_mode": {
    "name": "ipython",
    "version": 3
   },
   "file_extension": ".py",
   "mimetype": "text/x-python",
   "name": "python",
   "nbconvert_exporter": "python",
   "pygments_lexer": "ipython3",
   "version": "3.8.10"
  }
 },
 "nbformat": 4,
 "nbformat_minor": 4
}
