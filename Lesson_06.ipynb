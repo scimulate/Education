{
 "cells": [
  {
   "cell_type": "markdown",
   "metadata": {},
   "source": [
    "# Course Information\n",
    "* Introduction to Programming (INFO-233)\n",
    "* Ramapo College of New Jersey\n",
    "* Professor Samuel Jacobs\n",
    "* Notes Licensed Under [CC BY-SA](https://creativecommons.org/licenses/by-sa/4.0/)\n",
    "\n",
    "# Lesson 06 Topics\n",
    "* Sorting\n",
    "* Searching\n",
    "\n",
    "# Sorting\n",
    "## High-Level Sorting\n",
    "Python lists contain a built-in method ```sort()``` which rearranges its contents from an _unsorted_ state to a _sorted_ one. For numeric data sets, ```sort()``` rearranges data in ascending order."
   ]
  },
  {
   "cell_type": "code",
   "execution_count": 1,
   "metadata": {},
   "outputs": [
    {
     "name": "stdout",
     "output_type": "stream",
     "text": [
      "[0, -5, 10, 2, 4, -2, -50]\n"
     ]
    }
   ],
   "source": [
    "myList = [0, -5, 10, 2, 4, -2, -50]\n",
    "print(myList)"
   ]
  },
  {
   "cell_type": "code",
   "execution_count": 2,
   "metadata": {},
   "outputs": [
    {
     "name": "stdout",
     "output_type": "stream",
     "text": [
      "[-50, -5, -2, 0, 2, 4, 10]\n"
     ]
    }
   ],
   "source": [
    "myList.sort()\n",
    "print(myList)"
   ]
  },
  {
   "cell_type": "markdown",
   "metadata": {},
   "source": [
    "For non-numeric data, ```sort()``` rearranges data alphabetically."
   ]
  },
  {
   "cell_type": "code",
   "execution_count": 3,
   "metadata": {},
   "outputs": [
    {
     "name": "stdout",
     "output_type": "stream",
     "text": [
      "['monkey', 'cat', 'snake', 'dog', 'bear', 'bird']\n"
     ]
    }
   ],
   "source": [
    "myList = ['monkey', 'cat', 'snake', 'dog', 'bear', 'bird']\n",
    "print(myList)"
   ]
  },
  {
   "cell_type": "code",
   "execution_count": 4,
   "metadata": {},
   "outputs": [
    {
     "name": "stdout",
     "output_type": "stream",
     "text": [
      "['bear', 'bird', 'cat', 'dog', 'monkey', 'snake']\n"
     ]
    }
   ],
   "source": [
    "myList.sort()\n",
    "print(myList)"
   ]
  },
  {
   "cell_type": "markdown",
   "metadata": {},
   "source": [
    "The ```sort()``` method may be modified to rearrange based on different criterion. For example, suppose it were necessary to sort a list of names by length. A sorting function may be created to compare elements of a list."
   ]
  },
  {
   "cell_type": "code",
   "execution_count": 5,
   "metadata": {},
   "outputs": [],
   "source": [
    "def sortFunction(index):\n",
    "    return len(index)"
   ]
  },
  {
   "cell_type": "code",
   "execution_count": 6,
   "metadata": {},
   "outputs": [
    {
     "name": "stdout",
     "output_type": "stream",
     "text": [
      "['New York City', 'Washington D.C.', 'Los Angeles', 'Reno', 'Boston', 'Memphis']\n"
     ]
    }
   ],
   "source": [
    "cities = ['New York City', 'Washington D.C.', 'Los Angeles', 'Reno', 'Boston', 'Memphis']\n",
    "print(cities)"
   ]
  },
  {
   "cell_type": "code",
   "execution_count": 7,
   "metadata": {},
   "outputs": [
    {
     "name": "stdout",
     "output_type": "stream",
     "text": [
      "['Reno', 'Boston', 'Memphis', 'Los Angeles', 'New York City', 'Washington D.C.']\n"
     ]
    }
   ],
   "source": [
    "cities.sort(key=sortFunction)\n",
    "print(cities)"
   ]
  },
  {
   "cell_type": "markdown",
   "metadata": {},
   "source": [
    "Note that the ```sort()``` method reorders lists in-place. This destroys the original list. If creating a new list altogether is more useful, refer to the function ```sorted()```."
   ]
  },
  {
   "cell_type": "code",
   "execution_count": 8,
   "metadata": {},
   "outputs": [
    {
     "name": "stdout",
     "output_type": "stream",
     "text": [
      "[0, -5, 10, 2, 4, -2, -50]\n"
     ]
    }
   ],
   "source": [
    "myList = [0, -5, 10, 2, 4, -2, -50]\n",
    "print(myList)"
   ]
  },
  {
   "cell_type": "code",
   "execution_count": 9,
   "metadata": {},
   "outputs": [
    {
     "name": "stdout",
     "output_type": "stream",
     "text": [
      "[0, -5, 10, 2, 4, -2, -50]\n"
     ]
    }
   ],
   "source": [
    "newList = sorted(myList)\n",
    "print(myList)"
   ]
  },
  {
   "cell_type": "code",
   "execution_count": 10,
   "metadata": {},
   "outputs": [
    {
     "name": "stdout",
     "output_type": "stream",
     "text": [
      "[-50, -5, -2, 0, 2, 4, 10]\n"
     ]
    }
   ],
   "source": [
    "print(newList)"
   ]
  },
  {
   "attachments": {},
   "cell_type": "markdown",
   "metadata": {},
   "source": [
    "## Low-Level Sorting\n",
    "The sorting algorithm used in the built-in Python method is not superficially obvious. In fact, there are many sorting algorithms that can be used when implementing sort functionality. Often, these algorithms balance simplicity, speed, and scalability. A few sorting algorithms were documented, below.\n",
    "\n",
    "### Insertion Sort\n",
    "The most simple, sorting algorithm is an [insertion sort](https://en.wikipedia.org/wiki/Insertion_sort).\n",
    "\n",
    "![insertion sort](https://media.geeksforgeeks.org/wp-content/uploads/insertionsort.png)\n",
    "\n",
    "Starting from a list of length zero, insertion sort continually adds elements from an unsorted list into their appropriate location of the partial, every expanding sorted list.\n",
    "\n",
    "### Bubble Sort\n",
    "Named after the way fluids can be sorted by density, like how carbonation floats through a liquid, bubble sort sends lower valued (_lighter_) values up while higher values are sent to the bottom (_sink_). In the following image, it is possible to see the progression as ten values are sorted over ten algorithmic passes.\n",
    "\n",
    "![](https://upload.wikimedia.org/wikipedia/commons/thumb/8/83/Bubblesort-edited-color.svg/1280px-Bubblesort-edited-color.svg.png)"
   ]
  },
  {
   "cell_type": "markdown",
   "metadata": {},
   "source": [
    "# Searching\n",
    "## High-Level Searching\n",
    "The Python keyword ```in``` can be used to find whether a value is in a data set. Similar to the Sorting section, above, it is not obvious what searching algorithm is used to find values."
   ]
  },
  {
   "cell_type": "code",
   "execution_count": 11,
   "metadata": {},
   "outputs": [
    {
     "data": {
      "text/plain": [
       "True"
      ]
     },
     "execution_count": 11,
     "metadata": {},
     "output_type": "execute_result"
    }
   ],
   "source": [
    "values = [-5, 10, 2, 0, 7, -2]\n",
    "target = 10\n",
    "target in values"
   ]
  },
  {
   "cell_type": "markdown",
   "metadata": {},
   "source": [
    "## Low-Level Searching\n",
    "## Unsorted Data Sets\n",
    "For a truly unsorted data set, as a worst-case every value within a data set must be searched."
   ]
  },
  {
   "cell_type": "code",
   "execution_count": 12,
   "metadata": {},
   "outputs": [],
   "source": [
    "def search(values, target):\n",
    "    for value in values:\n",
    "        if target == value:\n",
    "            return True\n",
    "    return False"
   ]
  },
  {
   "cell_type": "code",
   "execution_count": 13,
   "metadata": {},
   "outputs": [],
   "source": [
    "values = [-5, 10, 2, 0, 7, -2]"
   ]
  },
  {
   "cell_type": "code",
   "execution_count": 14,
   "metadata": {},
   "outputs": [
    {
     "name": "stdout",
     "output_type": "stream",
     "text": [
      "True\n"
     ]
    }
   ],
   "source": [
    "print(search(values, 2))"
   ]
  },
  {
   "cell_type": "code",
   "execution_count": 15,
   "metadata": {},
   "outputs": [
    {
     "name": "stdout",
     "output_type": "stream",
     "text": [
      "False\n"
     ]
    }
   ],
   "source": [
    "print(search(values, -90))"
   ]
  },
  {
   "cell_type": "markdown",
   "metadata": {},
   "source": [
    "In ```search()```, the function walks through the list of ```values```, comparing ```target``` against each ```value```. As the length of ```values``` increases, the computational cost of the search scales linearly."
   ]
  },
  {
   "cell_type": "markdown",
   "metadata": {},
   "source": [
    "## Sorted Data Sets\n",
    "Sorted data sets can take advantage of the fact that values are ordered to reduce the computational cost of the search as the length of ```values``` increases."
   ]
  },
  {
   "cell_type": "code",
   "execution_count": 16,
   "metadata": {},
   "outputs": [
    {
     "name": "stdout",
     "output_type": "stream",
     "text": [
      "[-5, -4, -2, 0, 1, 2, 6, 7, 9, 10, 14]\n"
     ]
    }
   ],
   "source": [
    "values = [-5, 10, 2, 0, 7, -2, 6, -4, 14, 1, 9]\n",
    "values.sort()\n",
    "print(values)"
   ]
  },
  {
   "cell_type": "markdown",
   "metadata": {},
   "source": [
    "In this case, ```values``` increases from ```values[0]``` to ```values[-1]```."
   ]
  },
  {
   "cell_type": "code",
   "execution_count": null,
   "metadata": {},
   "outputs": [],
   "source": [
    "target = 5"
   ]
  },
  {
   "cell_type": "markdown",
   "metadata": {},
   "source": [
    "After setting ```target```, suppose we assess a value at the middle of the list. This can be done using integer division (```//```)."
   ]
  },
  {
   "cell_type": "code",
   "execution_count": 21,
   "metadata": {},
   "outputs": [
    {
     "data": {
      "text/plain": [
       "2"
      ]
     },
     "execution_count": 21,
     "metadata": {},
     "output_type": "execute_result"
    }
   ],
   "source": [
    "values[len(values)//2]"
   ]
  },
  {
   "cell_type": "markdown",
   "metadata": {},
   "source": [
    "The code ```len(values)//2``` should return either the middle index of a list if the list has an odd length, or one of the middle indices if the list is an even length. Next, by comparing ```target``` against the value stored at index ```len(values)//2```, we can eliminate searching half of the data set."
   ]
  },
  {
   "cell_type": "code",
   "execution_count": 22,
   "metadata": {},
   "outputs": [
    {
     "data": {
      "text/plain": [
       "True"
      ]
     },
     "execution_count": 22,
     "metadata": {},
     "output_type": "execute_result"
    }
   ],
   "source": [
    "target >= values[len(values)//2]"
   ]
  },
  {
   "cell_type": "markdown",
   "metadata": {},
   "source": [
    "Since ```target``` would exist in the second half of the data set (if it exists in the data set at all), the search no longer needs to evaluate any index below ```len(values)//2```. This process may be repeated using one half of the original data set, splitting that half into quarters, and so forth. This is called a [binary search](https://en.wikipedia.org/wiki/Binary_search_algorithm).\n",
    "\n",
    "![](https://upload.wikimedia.org/wikipedia/commons/thumb/8/83/Binary_Search_Depiction.svg/1920px-Binary_Search_Depiction.svg.png)"
   ]
  }
 ],
 "metadata": {
  "kernelspec": {
   "display_name": "Python 3",
   "language": "python",
   "name": "python3"
  },
  "language_info": {
   "codemirror_mode": {
    "name": "ipython",
    "version": 3
   },
   "file_extension": ".py",
   "mimetype": "text/x-python",
   "name": "python",
   "nbconvert_exporter": "python",
   "pygments_lexer": "ipython3",
   "version": "3.8.10"
  }
 },
 "nbformat": 4,
 "nbformat_minor": 4
}
