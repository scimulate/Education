{
 "cells": [
  {
   "cell_type": "markdown",
   "metadata": {},
   "source": [
    "# Course Information\n",
    "* Introduction to Programming (INFO-233)\n",
    "* Ramapo College of New Jersey\n",
    "* Professor Samuel Jacobs\n",
    "* Notes Licensed Under [CC BY-SA](https://creativecommons.org/licenses/by-sa/4.0/)\n",
    "\n",
    "# Lesson 01 Topics\n",
    "* Purpose of INFO-233\n",
    "* What is a Computer?\n",
    "* Python Basics\n",
    "* Python Variables & Types \n",
    "\n",
    "# Purpose of INFO-233\n",
    "The purpose of this course is to provide a practical understanding of computer programming using the [Python](https://www.python.org/) language.\n",
    "\n",
    "# What is a Computer?\n",
    "A computer is a set of hardware necessary to perform and store results of calculations, much like the human mind. One main advantage of computers is that they can perform and store _billions_ of calculations per second!\n",
    "\n",
    "## Abstracting the Electronics\n",
    "Modern computing was born with the invention of the [transistor](https://en.wikipedia.org/wiki/Transistor) in 1947 at Bell Labs in New Jersey. Fundamentally, a computer controls the flow of electricity between locations and uses electricty to charge or dischage _storage elements_. A storage element acts like a light bulb; it occupies either an ON (1) or OFF (0) state. Combinations (_encoding_) of these storage elements can be used to represent every type of data.\n",
    "\n",
    "The study of digital (computer) electronics is vast, and a working knowledge of it, while useful for low-level languages, is not required for Python programming so it will be considered out of scope for this course. Similar to how an automobile driver can perform their function without knowing the inner workings of an engine or transmission, programming a computer does not require a thorough understanding of the corresponding hardware.\n",
    "\n",
    "# Python Basics\n",
    "Before we write a program, it is helpful to understand the concept of a _function_. Functions accept input(s), perform computation, and produce output(s). The middle step (perform computation) can be as simple or complex as required. Functions are the primary mechanism which strips away the complexities of computer electronics for the computer programmer. It is not necessary to consider how computer electronics physically display text on a screen; the programmer simply needs to call the ```print()``` function.\n",
    "\n",
    "Python contains a [standard library](https://docs.python.org/3/library/index.html) of pre-built [functions](https://docs.python.org/3/library/functions.html) for common tasks. There are many third-party libraries of functions for more specific tasks.\n",
    "\n",
    "* [SciPy](https://www.scipy.org/) for scientific computing\n",
    "* [TensorFlow](https://www.tensorflow.org/) for machine learning\n",
    "* [OpenCV](https://opencv.org/) for computer vision\n",
    "* [BeautifulSoup](https://www.crummy.com/software/BeautifulSoup/) for scraping HTML and XML webpages.\n",
    "* Dozens of others...\n",
    "\n",
    "## The ```print()``` Function\n",
    "The [```print()```](https://docs.python.org/3/library/functions.html#print) function accepts one (or more) arguments and prints text to the console.\n",
    "\n",
    "### Cliché First Program: Hello World!\n",
    "Most programming tutorials start with this simple, one-line program to display the text \"Hello World!\". In Python, the ```print()``` function allows this to be done in several different ways."
   ]
  },
  {
   "cell_type": "code",
   "execution_count": 1,
   "metadata": {},
   "outputs": [
    {
     "name": "stdout",
     "output_type": "stream",
     "text": [
      "Hello World!\n"
     ]
    }
   ],
   "source": [
    "print('Hello World!')"
   ]
  },
  {
   "cell_type": "code",
   "execution_count": 2,
   "metadata": {},
   "outputs": [
    {
     "name": "stdout",
     "output_type": "stream",
     "text": [
      "Hello World!\n"
     ]
    }
   ],
   "source": [
    "print('Hello', 'World!')"
   ]
  },
  {
   "cell_type": "code",
   "execution_count": 3,
   "metadata": {},
   "outputs": [
    {
     "name": "stdout",
     "output_type": "stream",
     "text": [
      "H e l l o   W o r l d !\n"
     ]
    }
   ],
   "source": [
    "print('H', 'e', 'l', 'l', 'o', ' ', 'W', 'o', 'r', 'l', 'd', '!')"
   ]
  },
  {
   "cell_type": "code",
   "execution_count": 4,
   "metadata": {},
   "outputs": [
    {
     "name": "stdout",
     "output_type": "stream",
     "text": [
      "Hello World!\n"
     ]
    }
   ],
   "source": [
    "print('H', 'e', 'l', 'l', 'o', ' ', 'W', 'o', 'r', 'l', 'd', '!', sep='')"
   ]
  },
  {
   "cell_type": "code",
   "execution_count": 5,
   "metadata": {},
   "outputs": [
    {
     "name": "stdout",
     "output_type": "stream",
     "text": [
      "H...e...l...l...o... ...W...o...r...l...d...!\n"
     ]
    }
   ],
   "source": [
    "print('H', 'e', 'l', 'l', 'o', ' ', 'W', 'o', 'r', 'l', 'd', '!', sep='...')"
   ]
  },
  {
   "cell_type": "markdown",
   "metadata": {},
   "source": [
    "## Mathematical Operators\n",
    "Python can peform every function available on a standard or scientific calculator (and more).\n",
    "\n",
    "#### Addition (+)"
   ]
  },
  {
   "cell_type": "code",
   "execution_count": 6,
   "metadata": {},
   "outputs": [
    {
     "data": {
      "text/plain": [
       "7"
      ]
     },
     "execution_count": 6,
     "metadata": {},
     "output_type": "execute_result"
    }
   ],
   "source": [
    "5 + 2"
   ]
  },
  {
   "cell_type": "markdown",
   "metadata": {},
   "source": [
    "#### Subtraction (-)"
   ]
  },
  {
   "cell_type": "code",
   "execution_count": 7,
   "metadata": {},
   "outputs": [
    {
     "data": {
      "text/plain": [
       "2.5"
      ]
     },
     "execution_count": 7,
     "metadata": {},
     "output_type": "execute_result"
    }
   ],
   "source": [
    "5.25-2.75"
   ]
  },
  {
   "cell_type": "markdown",
   "metadata": {},
   "source": [
    "#### Multiplication (*)"
   ]
  },
  {
   "cell_type": "code",
   "execution_count": 8,
   "metadata": {},
   "outputs": [
    {
     "data": {
      "text/plain": [
       "17.9375"
      ]
     },
     "execution_count": 8,
     "metadata": {},
     "output_type": "execute_result"
    }
   ],
   "source": [
    "5.125*3.5"
   ]
  },
  {
   "cell_type": "markdown",
   "metadata": {},
   "source": [
    "#### Division (/)"
   ]
  },
  {
   "cell_type": "code",
   "execution_count": 9,
   "metadata": {},
   "outputs": [
    {
     "data": {
      "text/plain": [
       "4.0"
      ]
     },
     "execution_count": 9,
     "metadata": {},
     "output_type": "execute_result"
    }
   ],
   "source": [
    "10.0/2.5"
   ]
  },
  {
   "cell_type": "markdown",
   "metadata": {},
   "source": [
    "#### Integer Division (//)"
   ]
  },
  {
   "cell_type": "code",
   "execution_count": 10,
   "metadata": {},
   "outputs": [
    {
     "data": {
      "text/plain": [
       "6"
      ]
     },
     "execution_count": 10,
     "metadata": {},
     "output_type": "execute_result"
    }
   ],
   "source": [
    "13//2"
   ]
  },
  {
   "cell_type": "markdown",
   "metadata": {},
   "source": [
    "#### Exponentiation (**)"
   ]
  },
  {
   "cell_type": "code",
   "execution_count": 11,
   "metadata": {},
   "outputs": [
    {
     "data": {
      "text/plain": [
       "256"
      ]
     },
     "execution_count": 11,
     "metadata": {},
     "output_type": "execute_result"
    }
   ],
   "source": [
    "2**8"
   ]
  },
  {
   "cell_type": "markdown",
   "metadata": {},
   "source": [
    "#### Modular Division (%)\n",
    "Remember long division? Modular division is similar. It returns the remainder of division between two numbers."
   ]
  },
  {
   "cell_type": "code",
   "execution_count": 12,
   "metadata": {},
   "outputs": [
    {
     "data": {
      "text/plain": [
       "1"
      ]
     },
     "execution_count": 12,
     "metadata": {},
     "output_type": "execute_result"
    }
   ],
   "source": [
    "5%2"
   ]
  },
  {
   "cell_type": "markdown",
   "metadata": {},
   "source": [
    "If the divisor is held fixed (6), and the dividend incrementally increased (5...6...7), the remainder will begin a repeating pattern."
   ]
  },
  {
   "cell_type": "code",
   "execution_count": 13,
   "metadata": {},
   "outputs": [
    {
     "data": {
      "text/plain": [
       "5"
      ]
     },
     "execution_count": 13,
     "metadata": {},
     "output_type": "execute_result"
    }
   ],
   "source": [
    "5%6"
   ]
  },
  {
   "cell_type": "code",
   "execution_count": 14,
   "metadata": {},
   "outputs": [
    {
     "data": {
      "text/plain": [
       "0"
      ]
     },
     "execution_count": 14,
     "metadata": {},
     "output_type": "execute_result"
    }
   ],
   "source": [
    "6%6"
   ]
  },
  {
   "cell_type": "code",
   "execution_count": 15,
   "metadata": {},
   "outputs": [
    {
     "data": {
      "text/plain": [
       "1"
      ]
     },
     "execution_count": 15,
     "metadata": {},
     "output_type": "execute_result"
    }
   ],
   "source": [
    "7%6"
   ]
  },
  {
   "cell_type": "markdown",
   "metadata": {},
   "source": [
    "### Math + ```print()```\n",
    "The ```print()``` function can process non-text input such as numbers and mathematical expressions."
   ]
  },
  {
   "cell_type": "code",
   "execution_count": 16,
   "metadata": {},
   "outputs": [
    {
     "name": "stdout",
     "output_type": "stream",
     "text": [
      "7\n"
     ]
    }
   ],
   "source": [
    "print(5 + 2)"
   ]
  },
  {
   "cell_type": "code",
   "execution_count": 17,
   "metadata": {},
   "outputs": [
    {
     "name": "stdout",
     "output_type": "stream",
     "text": [
      "1...2...4...8...16...32...64...128...256\n"
     ]
    }
   ],
   "source": [
    "print(2**0, 2**1, 2**2, 2**3, 2**4, 2**5, 2**6, 2**7, 2**8, sep='...')"
   ]
  },
  {
   "cell_type": "markdown",
   "metadata": {},
   "source": [
    "In the background, Python performs the mathematical operation then _casts_ the number into text. Casting is a process which converts data from one type to another.\n",
    "\n",
    "## Comments\n",
    "Python uses the pound symbol (```\\#```) to denote that the remainder of a line of code is a _comment_, or text that the Python interpreter will ignore. Comments are useful for annotating code, explaining _why_ code is written in a particular way."
   ]
  },
  {
   "cell_type": "code",
   "execution_count": 18,
   "metadata": {},
   "outputs": [
    {
     "data": {
      "text/plain": [
       "7"
      ]
     },
     "execution_count": 18,
     "metadata": {},
     "output_type": "execute_result"
    }
   ],
   "source": [
    "# This comment spans a full line.\n",
    "5 + 2 # (This is also comment) The result should be 7..."
   ]
  },
  {
   "cell_type": "markdown",
   "metadata": {},
   "source": [
    "## Advanced Math\n",
    "Core Python has relatively little specialized functionality. Supplementary libraries can easily be added to programs using the ```import``` command."
   ]
  },
  {
   "cell_type": "code",
   "execution_count": 19,
   "metadata": {},
   "outputs": [],
   "source": [
    "import math"
   ]
  },
  {
   "cell_type": "markdown",
   "metadata": {},
   "source": [
    "After the previous line of code, every function stored in the math library is now accessible. Suppose an application requires computing continually compounded interest according to the formula,\n",
    "\n",
    "$$\n",
    "A = Pe^{rt},\n",
    "$$\n",
    "\n",
    "where **A** is current value, **P** is interest, **r** is rate, **t** is time, and **e** is a mathematical constant (2.718281828459045...). Instead of manually typing a value for e, which can be error-prone, we can use the ```exp()``` function in the ```math``` library.\n",
    "\n",
    "Suppose we wish to find the current value of a $100 principal investment with an interest rate of 5\\% annually after 10 years."
   ]
  },
  {
   "cell_type": "code",
   "execution_count": 20,
   "metadata": {},
   "outputs": [
    {
     "data": {
      "text/plain": [
       "164.87212707001282"
      ]
     },
     "execution_count": 20,
     "metadata": {},
     "output_type": "execute_result"
    }
   ],
   "source": [
    "100*math.exp(0.05*10)"
   ]
  },
  {
   "cell_type": "markdown",
   "metadata": {},
   "source": [
    "Note that ```math.exp()``` was used instead of simply ```exp()```. Unlike ```print()```, ```exp()``` is part of the ```math``` library. By adopting the syntax ```libraryName.functionName()```, Python ensures that functions located in separate libraries, with the same name, do not conflict.\n",
    "\n",
    "Now suppose we wish to find the area of a circle with a diameter of 0.5 inches according to the formula,\n",
    "\n",
    "$$\n",
    "A=\\frac{\\pi D^{2}}{4},\n",
    "$$\n",
    "\n",
    "where **A** is area, **D** is diameter, and **$\\pi$** is the mathematical constant (3.141592653589793...)."
   ]
  },
  {
   "cell_type": "code",
   "execution_count": 21,
   "metadata": {},
   "outputs": [
    {
     "data": {
      "text/plain": [
       "0.19634954084936207"
      ]
     },
     "execution_count": 21,
     "metadata": {},
     "output_type": "execute_result"
    }
   ],
   "source": [
    "0.25*math.pi*0.5**2"
   ]
  },
  {
   "cell_type": "markdown",
   "metadata": {},
   "source": [
    "Using Python to evaluate mathematical expressions by _hard coding_ values (directly typing 0.25, 0.5, etc.) is useful at first, but this becomes error-prone for anything but simple programs. It is best practice to use _variables_, which may be referenced and modified throughout a program."
   ]
  },
  {
   "cell_type": "markdown",
   "metadata": {},
   "source": [
    "# Python Variables & Types\n",
    "## The Assignment Operator\n",
    "Python uses the _assignment operator_ (```=```) to store data in a _variable_. The assignment operator divides the lefthand side (LHS) of a Python assignment statement from its righthand side (RHS),\n",
    "\n",
    "$$\n",
    "LHS = RHS,\n",
    "$$\n",
    "\n",
    "but this is functionally different from a mathematical equality which looks identical. In an assignment statement, the LHS contains **exclusively** the name of a variable, and the RHS contains any valid Python expression.\n",
    "\n",
    "$$\n",
    "Variable = Some\\ Python\\ Expression.\n",
    "$$\n",
    "\n",
    "Variables can be named anything as long as it starts with a letter (no special characters or numbers). It is best practice to name variables something memorable based on the data they store.\n",
    "\n",
    "Let's revisit the previous compounding interest calculator but using variables instead of hard-coding values."
   ]
  },
  {
   "cell_type": "code",
   "execution_count": 22,
   "metadata": {},
   "outputs": [],
   "source": [
    "principal = 100\n",
    "rate = 0.05\n",
    "time = 10\n",
    "amount = principal*math.exp(rate*time)"
   ]
  },
  {
   "cell_type": "markdown",
   "metadata": {},
   "source": [
    "Elsewhere in the program, ```amount``` may be referenced, and its value returned."
   ]
  },
  {
   "cell_type": "code",
   "execution_count": 23,
   "metadata": {},
   "outputs": [
    {
     "name": "stdout",
     "output_type": "stream",
     "text": [
      "The amount is $164.87.\n"
     ]
    }
   ],
   "source": [
    "print('The amount is $', round(amount, 2), '.', sep='')"
   ]
  },
  {
   "cell_type": "markdown",
   "metadata": {},
   "source": [
    "Further operations may be applied to variables, and the value stored in a variable may be modified throughout a program."
   ]
  },
  {
   "cell_type": "code",
   "execution_count": 24,
   "metadata": {},
   "outputs": [
    {
     "name": "stdout",
     "output_type": "stream",
     "text": [
      "The amount is $164.87.\n",
      "The amount is $0.\n"
     ]
    }
   ],
   "source": [
    "print('The amount is $', round(amount, 2), '.', sep='')\n",
    "amount = 0\n",
    "print('The amount is $', round(amount, 2), '.', sep='')"
   ]
  },
  {
   "cell_type": "markdown",
   "metadata": {},
   "source": [
    "Using variables makes programs easier to understand and modify for future use.\n",
    "\n",
    "## Data Types\n",
    "Standard Python contains built-in data types for logic, numbers, and text.\n",
    "\n",
    "### Logic\n",
    "Boolean values accept one of two states. In computer programming, this paradigm is most-often applied to truthfulness (true/false). Python has keywords specifically for these states: ```True``` and ```False```."
   ]
  },
  {
   "cell_type": "code",
   "execution_count": 25,
   "metadata": {},
   "outputs": [
    {
     "name": "stdout",
     "output_type": "stream",
     "text": [
      "<class 'bool'>\n",
      "<class 'bool'>\n"
     ]
    }
   ],
   "source": [
    "print(type(True))\n",
    "print(type(False))"
   ]
  },
  {
   "cell_type": "markdown",
   "metadata": {},
   "source": [
    "### Numbers\n",
    "Python contains three standard numerical types: int, float, and complex.\n",
    "\n",
    "Integers are whole numbers."
   ]
  },
  {
   "cell_type": "code",
   "execution_count": 26,
   "metadata": {},
   "outputs": [
    {
     "name": "stdout",
     "output_type": "stream",
     "text": [
      "<class 'int'>\n",
      "<class 'int'>\n",
      "<class 'int'>\n",
      "<class 'int'>\n"
     ]
    }
   ],
   "source": [
    "print(type(-10))\n",
    "print(type(0))\n",
    "print(type(52))\n",
    "print(type(5+2))"
   ]
  },
  {
   "cell_type": "markdown",
   "metadata": {},
   "source": [
    "Float is a truncated name for a floating-point value, or decimal value. In Python, this is about as in-depth as necessary."
   ]
  },
  {
   "cell_type": "code",
   "execution_count": 27,
   "metadata": {},
   "outputs": [
    {
     "name": "stdout",
     "output_type": "stream",
     "text": [
      "<class 'float'>\n",
      "<class 'float'>\n",
      "<class 'float'>\n",
      "<class 'float'>\n"
     ]
    }
   ],
   "source": [
    "print(type(5.125))\n",
    "print(type(5.0))\n",
    "print(type(1.235e10))\n",
    "print(type(5 + 2.0))"
   ]
  },
  {
   "cell_type": "markdown",
   "metadata": {},
   "source": [
    "Complex numbers are also available by default. Their application is most-applicable to scientific programming ([context](https://en.wikipedia.org/wiki/Complex_number))."
   ]
  },
  {
   "cell_type": "code",
   "execution_count": 28,
   "metadata": {},
   "outputs": [
    {
     "name": "stdout",
     "output_type": "stream",
     "text": [
      "<class 'complex'>\n"
     ]
    }
   ],
   "source": [
    "print(type(3 + 2j))"
   ]
  },
  {
   "cell_type": "markdown",
   "metadata": {},
   "source": [
    "Other languages, like C/C++, require a more-thorough understanding of numerical data types; specifically, their limitations.\n",
    " \n",
    "### Text\n",
    "Anything stored between quotation marks (\\\") or apostrophes (\\') is text. In the case of ```'Hello World!'```, the entire phrase is considered one string. "
   ]
  },
  {
   "cell_type": "code",
   "execution_count": 29,
   "metadata": {},
   "outputs": [
    {
     "name": "stdout",
     "output_type": "stream",
     "text": [
      "<class 'str'>\n"
     ]
    }
   ],
   "source": [
    "print(type('Test Type?'))"
   ]
  },
  {
   "cell_type": "markdown",
   "metadata": {},
   "source": [
    "Strings will be examined further during future lessons."
   ]
  }
 ],
 "metadata": {
  "kernelspec": {
   "display_name": "Python 3",
   "language": "python",
   "name": "python3"
  },
  "language_info": {
   "codemirror_mode": {
    "name": "ipython",
    "version": 3
   },
   "file_extension": ".py",
   "mimetype": "text/x-python",
   "name": "python",
   "nbconvert_exporter": "python",
   "pygments_lexer": "ipython3",
   "version": "3.8.10"
  }
 },
 "nbformat": 4,
 "nbformat_minor": 4
}
