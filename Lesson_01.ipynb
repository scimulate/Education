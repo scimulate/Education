{
 "cells": [
  {
   "cell_type": "markdown",
   "metadata": {},
   "source": [
    "# Course Information\n",
    "Introduction to Programming (INFO-233)<br>Ramapo College of New Jersey<br>Spring 2022<br>\n",
    "\n",
    "# Lesson 01 Topics\n",
    "* Purpose of INFO-233\n",
    "* What is a Computer?\n",
    "* Python Basics\n",
    "* Python Variables & Types \n",
    "\n",
    "# Purpose of INFO-233\n",
    "\n",
    "The purpose of this course is to provide a practical understanding of computer programming using the [Python](https://www.python.org/) language.\n",
    "\n",
    "# What is a Computer?\n",
    "Computers are a set of hardware necessary to perform and store results of calculations, much like the human mind. The difference is that computers can perform and store _billions_ of calculations per second!\n",
    "\n",
    "## Abstracting the Electronics\n",
    "Modern computing was born with the invention of the [transistor](https://en.wikipedia.org/wiki/Transistor) in 1947 at Bell Labs in New Jersey. Fundamentally, a computer controls the flow of electricity between locations and uses electricty to charge or dischage _storage elements_. A storage element acts like a light bulb; it is either ON (1) or OFF (0). At a higher level, combinations (_\"encoding\"_) of these storage elements can be used to represent every type of data.\n",
    "\n",
    "The study of computer electronics is vast, and a working knowledge of it is generally not required for computer programming, so it may be considered out of scope for this course. Similar to how an automobile driver can perform their function without knowing the inner workings of an engine or transmission, programming a computer does not require a thorough knowledge of the electronics.\n",
    "\n",
    "## Memory Model\n",
    "At the most fundamental level, computers manipulate registers. While incredibly fascinating, the electrical engineering aspects of computation are not the focus of most programmers  \n",
    "\n",
    "# Python Basics\n",
    "Before we write a program, it is helpful to understand the concept of a _function_. Functions accept input(s), perform computation, and produce output(s). The middle step (perform computation) can be as simple or complex as required. Functions are the primary mechanism which strips away the complexities of computer electronics for the computer programmer. It is not necessary to consider how computer electronics physically display text on a screen; the programmer simply needs to call the ```print()``` function.\n",
    "\n",
    "Python contains a [standard library](https://docs.python.org/3/library/index.html) of pre-built [functions](https://docs.python.org/3/library/functions.html) for common tasks. There are many third-party libraries of functions for more specific tasks.\n",
    "* [SciPy](https://www.scipy.org/) for scientific computing\n",
    "* [TensorFlow](https://www.tensorflow.org/) for machine learning\n",
    "* [OpenCV](https://opencv.org/) for computer vision\n",
    "\n",
    "## The ```print()``` Function\n",
    "The [```print()```](https://docs.python.org/3/library/functions.html#print) function accepts one (or more) arguments and prints text to the console.\n",
    "\n",
    "## Cliché First Program: Hello World!\n",
    "Most programming tutorials start with this simple, one-line program to display the text \"Hello World!\". In Python, the ```print()``` function allows this to be done in several different ways."
   ]
  },
  {
   "cell_type": "code",
   "execution_count": 63,
   "metadata": {},
   "outputs": [
    {
     "name": "stdout",
     "output_type": "stream",
     "text": [
      "Hello World!\n"
     ]
    }
   ],
   "source": [
    "print('Hello World!')"
   ]
  },
  {
   "cell_type": "code",
   "execution_count": 64,
   "metadata": {},
   "outputs": [
    {
     "name": "stdout",
     "output_type": "stream",
     "text": [
      "Hello World!\n"
     ]
    }
   ],
   "source": [
    "print('Hello', 'World!')"
   ]
  },
  {
   "cell_type": "code",
   "execution_count": 65,
   "metadata": {},
   "outputs": [
    {
     "name": "stdout",
     "output_type": "stream",
     "text": [
      "H e l l o   W o r l d !\n"
     ]
    }
   ],
   "source": [
    "print('H', 'e', 'l', 'l', 'o', ' ', 'W', 'o', 'r', 'l', 'd', '!')"
   ]
  },
  {
   "cell_type": "code",
   "execution_count": 66,
   "metadata": {},
   "outputs": [
    {
     "name": "stdout",
     "output_type": "stream",
     "text": [
      "Hello World!\n"
     ]
    }
   ],
   "source": [
    "print('H', 'e', 'l', 'l', 'o', ' ', 'W', 'o', 'r', 'l', 'd', '!', sep='')"
   ]
  },
  {
   "cell_type": "code",
   "execution_count": 67,
   "metadata": {},
   "outputs": [
    {
     "name": "stdout",
     "output_type": "stream",
     "text": [
      "H...e...l...l...o... ...W...o...r...l...d...!\n"
     ]
    }
   ],
   "source": [
    "print('H', 'e', 'l', 'l', 'o', ' ', 'W', 'o', 'r', 'l', 'd', '!', sep='...')"
   ]
  },
  {
   "cell_type": "markdown",
   "metadata": {},
   "source": [
    "## Mathematical Operators\n",
    "Python can peform every function that can be found on a standard or scientific calculator (and more).\n",
    "\n",
    "#### Addition (+)"
   ]
  },
  {
   "cell_type": "code",
   "execution_count": 68,
   "metadata": {},
   "outputs": [
    {
     "data": {
      "text/plain": [
       "7"
      ]
     },
     "execution_count": 68,
     "metadata": {},
     "output_type": "execute_result"
    }
   ],
   "source": [
    "5 + 2"
   ]
  },
  {
   "cell_type": "markdown",
   "metadata": {},
   "source": [
    "#### Subtraction (-)"
   ]
  },
  {
   "cell_type": "code",
   "execution_count": 69,
   "metadata": {},
   "outputs": [
    {
     "data": {
      "text/plain": [
       "2.5"
      ]
     },
     "execution_count": 69,
     "metadata": {},
     "output_type": "execute_result"
    }
   ],
   "source": [
    "5.25-2.75"
   ]
  },
  {
   "cell_type": "markdown",
   "metadata": {},
   "source": [
    "#### Multiplication (*)"
   ]
  },
  {
   "cell_type": "code",
   "execution_count": 70,
   "metadata": {},
   "outputs": [
    {
     "data": {
      "text/plain": [
       "17.9375"
      ]
     },
     "execution_count": 70,
     "metadata": {},
     "output_type": "execute_result"
    }
   ],
   "source": [
    "5.125*3.5"
   ]
  },
  {
   "cell_type": "markdown",
   "metadata": {},
   "source": [
    "#### Division (/)"
   ]
  },
  {
   "cell_type": "code",
   "execution_count": 71,
   "metadata": {},
   "outputs": [
    {
     "data": {
      "text/plain": [
       "4.0"
      ]
     },
     "execution_count": 71,
     "metadata": {},
     "output_type": "execute_result"
    }
   ],
   "source": [
    "10.0/2.5"
   ]
  },
  {
   "cell_type": "markdown",
   "metadata": {},
   "source": [
    "#### Exponentiation (**)"
   ]
  },
  {
   "cell_type": "code",
   "execution_count": 72,
   "metadata": {},
   "outputs": [
    {
     "data": {
      "text/plain": [
       "256"
      ]
     },
     "execution_count": 72,
     "metadata": {},
     "output_type": "execute_result"
    }
   ],
   "source": [
    "2**8"
   ]
  },
  {
   "cell_type": "markdown",
   "metadata": {},
   "source": [
    "### Math + ```print()```\n",
    "The ```print()``` function can process non-text input such as numbers or mathematical expressions. "
   ]
  },
  {
   "cell_type": "code",
   "execution_count": 73,
   "metadata": {},
   "outputs": [
    {
     "name": "stdout",
     "output_type": "stream",
     "text": [
      "7\n"
     ]
    }
   ],
   "source": [
    "print(5 + 2)"
   ]
  },
  {
   "cell_type": "code",
   "execution_count": 74,
   "metadata": {},
   "outputs": [
    {
     "name": "stdout",
     "output_type": "stream",
     "text": [
      "1...2...4...8...16...32...64...128...256\n"
     ]
    }
   ],
   "source": [
    "print(2**0, 2**1, 2**2, 2**3, 2**4, 2**5, 2**6, 2**7, 2**8, sep='...')"
   ]
  },
  {
   "cell_type": "markdown",
   "metadata": {},
   "source": [
    "## Advanced Math\n",
    "Core Python has relatively little functionality. Supplementary libraries can easily be added to programs using the ```import``` command."
   ]
  },
  {
   "cell_type": "code",
   "execution_count": 75,
   "metadata": {},
   "outputs": [],
   "source": [
    "import math"
   ]
  },
  {
   "cell_type": "markdown",
   "metadata": {},
   "source": [
    "After the previous line of code, every function stored in the math library is now accessible. Suppose an application requires computing continually compounded interest according to the common formula,\n",
    "\n",
    "$$\n",
    "A = Pe^{rt},\n",
    "$$\n",
    "\n",
    "where **A** is current value, **P** is interest, **r** is rate, **t** is time, and **e** is a mathematical constant (2.718281828459045...). Instead of manually typing a value for e, which can be error-prone, we can use the ```exp()``` function in the ```math``` library.\n",
    "\n",
    "Suppose we wish to find the current value of a $100 principal investment with an interest rate of 5\\% annually after 10 years."
   ]
  },
  {
   "cell_type": "code",
   "execution_count": 76,
   "metadata": {},
   "outputs": [
    {
     "data": {
      "text/plain": [
       "164.87212707001282"
      ]
     },
     "execution_count": 76,
     "metadata": {},
     "output_type": "execute_result"
    }
   ],
   "source": [
    "100*math.exp(0.05*10)"
   ]
  },
  {
   "cell_type": "markdown",
   "metadata": {},
   "source": [
    "Now suppose we wish to find the area of a circle with a diameter of 0.5 inches according to the formula,\n",
    "\n",
    "$$\n",
    "A=\\frac{\\pi D^{2}}{4},\n",
    "$$\n",
    "\n",
    "where **A** is area, **D** is diameter, and **$\\pi$** is the mathematical constant (3.141592653589793...)."
   ]
  },
  {
   "cell_type": "code",
   "execution_count": 77,
   "metadata": {},
   "outputs": [
    {
     "data": {
      "text/plain": [
       "0.19634954084936207"
      ]
     },
     "execution_count": 77,
     "metadata": {},
     "output_type": "execute_result"
    }
   ],
   "source": [
    "0.25*math.pi*0.5**2"
   ]
  },
  {
   "cell_type": "markdown",
   "metadata": {},
   "source": [
    "Using Python to evaluate mathematical expressions is useful, but if a program requires accessing values multiple times, it can become error-prone. _Variables_ exist for this very reason!\n",
    "\n",
    "## Comments\n",
    "Python uses the pound symbol (```\\#```) to denote that the remainder of a line of code is a _comment_, or text that the Python interpreter will ignore. Comments are useful for annotating code, explaining _why_ code is written in a particular way."
   ]
  },
  {
   "cell_type": "code",
   "execution_count": 78,
   "metadata": {},
   "outputs": [
    {
     "data": {
      "text/plain": [
       "7"
      ]
     },
     "execution_count": 78,
     "metadata": {},
     "output_type": "execute_result"
    }
   ],
   "source": [
    "# This comment spans a full line.\n",
    "5 + 2 # (This is also comment) The result should be 7..."
   ]
  },
  {
   "cell_type": "markdown",
   "metadata": {},
   "source": [
    "# Python Variables & Types\n",
    "## The Assignment Operator\n",
    "Python uses the _assignment operator_ (```=```) to store data in a _variable_. The assignment operator divides the lefthand side (LHS) from righthand side (RHS) of a Python assignment statement,\n",
    "\n",
    "$$\n",
    "LHS = RHS,\n",
    "$$\n",
    "\n",
    "but this is functionally different from a mathematical equality which looks identical. In an assignment statement, the LHS contains **exclusively** the name of a variable, and the RHS contains any valid Python expression that returns some form of savable data.\n",
    "\n",
    "$$\n",
    "Variable = Some\\ Python\\ Expression.\n",
    "$$\n",
    "\n",
    "Variables can be named anything as long as it starts with a letter (no special characters or numbers). It is best practice to name variables something memorable based on the data they store."
   ]
  },
  {
   "cell_type": "code",
   "execution_count": 79,
   "metadata": {},
   "outputs": [],
   "source": [
    "principal = 100\n",
    "rate = 0.05\n",
    "time = 10\n",
    "amount = principal*math.exp(rate*time)"
   ]
  },
  {
   "cell_type": "markdown",
   "metadata": {},
   "source": [
    "Elsewhere in the program, ```amount``` may be referenced, and its value returned."
   ]
  },
  {
   "cell_type": "code",
   "execution_count": 80,
   "metadata": {},
   "outputs": [
    {
     "name": "stdout",
     "output_type": "stream",
     "text": [
      "The amount is $164.87.\n"
     ]
    }
   ],
   "source": [
    "print('The amount is $', round(amount, 2), '.', sep='')"
   ]
  },
  {
   "cell_type": "markdown",
   "metadata": {},
   "source": [
    "Further operations may be applied to variables, and the value stored in a variable may be modified throughout a program."
   ]
  },
  {
   "cell_type": "code",
   "execution_count": 81,
   "metadata": {},
   "outputs": [
    {
     "name": "stdout",
     "output_type": "stream",
     "text": [
      "The amount is $164.87.\n",
      "The amount is $0.\n"
     ]
    }
   ],
   "source": [
    "print('The amount is $', round(amount, 2), '.', sep='')\n",
    "amount = 0\n",
    "print('The amount is $', round(amount, 2), '.', sep='')"
   ]
  },
  {
   "cell_type": "markdown",
   "metadata": {},
   "source": [
    "## Data Types\n",
    "Standard Python contains data types for logic, numbers, and text.\n",
    "\n",
    "### Logic\n",
    "Boolean values accept one of two states. In computer programming, this is most-often applied to truthfulness (true/false). Python has keywords specifically for these states: ```True``` and ```False```."
   ]
  },
  {
   "cell_type": "code",
   "execution_count": 82,
   "metadata": {},
   "outputs": [
    {
     "name": "stdout",
     "output_type": "stream",
     "text": [
      "<class 'bool'>\n",
      "<class 'bool'>\n"
     ]
    }
   ],
   "source": [
    "print(type(True))\n",
    "print(type(False))"
   ]
  },
  {
   "cell_type": "markdown",
   "metadata": {},
   "source": [
    "### Numbers\n",
    "Python contains three standard numerical types: int, float, and complex.\n",
    "\n",
    "Integers are whole numbers."
   ]
  },
  {
   "cell_type": "code",
   "execution_count": 83,
   "metadata": {},
   "outputs": [
    {
     "name": "stdout",
     "output_type": "stream",
     "text": [
      "<class 'int'>\n",
      "<class 'int'>\n",
      "<class 'int'>\n",
      "<class 'int'>\n"
     ]
    }
   ],
   "source": [
    "print(type(-10))\n",
    "print(type(0))\n",
    "print(type(52))\n",
    "print(type(5+2))"
   ]
  },
  {
   "cell_type": "markdown",
   "metadata": {},
   "source": [
    "Float is a truncated name for a floating-point value, or decimal value. In Python, this is about as in-depth as necessary."
   ]
  },
  {
   "cell_type": "code",
   "execution_count": 84,
   "metadata": {},
   "outputs": [
    {
     "name": "stdout",
     "output_type": "stream",
     "text": [
      "<class 'float'>\n",
      "<class 'float'>\n",
      "<class 'float'>\n",
      "<class 'float'>\n"
     ]
    }
   ],
   "source": [
    "print(type(5.125))\n",
    "print(type(5.0))\n",
    "print(type(1.235e10))\n",
    "print(type(5 + 2.0))"
   ]
  },
  {
   "cell_type": "markdown",
   "metadata": {},
   "source": [
    "Complex numbers are also available by default. Their application is generally limited to scientific programming ([context](https://en.wikipedia.org/wiki/Complex_number))."
   ]
  },
  {
   "cell_type": "code",
   "execution_count": 85,
   "metadata": {},
   "outputs": [
    {
     "name": "stdout",
     "output_type": "stream",
     "text": [
      "<class 'complex'>\n"
     ]
    }
   ],
   "source": [
    "print(type(3 + 2j))"
   ]
  },
  {
   "cell_type": "markdown",
   "metadata": {},
   "source": [
    "Other languages, like C/C++, require a more-thorough understanding of numerical data types; specifically, their limitations.\n",
    " \n",
    "### Text\n",
    "Anything stored between quotation marks (\\\") or apostrophes (\\') is text. In the case of ```'Hello World!'```, the entire phrase is considered one string. "
   ]
  },
  {
   "cell_type": "code",
   "execution_count": 86,
   "metadata": {},
   "outputs": [
    {
     "name": "stdout",
     "output_type": "stream",
     "text": [
      "<class 'str'>\n"
     ]
    }
   ],
   "source": [
    "print(type('Test Type?'))"
   ]
  }
 ],
 "metadata": {
  "kernelspec": {
   "display_name": "Python 3",
   "language": "python",
   "name": "python3"
  },
  "language_info": {
   "codemirror_mode": {
    "name": "ipython",
    "version": 3
   },
   "file_extension": ".py",
   "mimetype": "text/x-python",
   "name": "python",
   "nbconvert_exporter": "python",
   "pygments_lexer": "ipython3",
   "version": "3.8.10"
  }
 },
 "nbformat": 4,
 "nbformat_minor": 4
}
