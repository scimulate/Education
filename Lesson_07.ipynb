{
 "cells": [
  {
   "cell_type": "markdown",
   "metadata": {},
   "source": [
    "# Course Information\n",
    "* Introduction to Programming (INFO-233)\n",
    "* Ramapo College of New Jersey\n",
    "* Professor Samuel Jacobs\n",
    "* Notes Licensed Under [CC BY-SA](https://creativecommons.org/licenses/by-sa/4.0/)\n",
    "\n",
    "# Lesson 07 Topics\n",
    "* Import Statements\n",
    "* Common Libraries\n",
    "\n",
    "# Import Statements\n",
    "There are two common import commands to include functionality into a program.\n",
    "## Full Module\n",
    "If planning to use many functions from a module, it is appropriate to import the full module. For example, programming a math calculator will use several functions from the ```math``` module, including ```sqrt()```, ```exp()```, ```sin()```, ```cos()```, ```tan()```, etc. To import the entire math module, simply place the following command at the top of your code."
   ]
  },
  {
   "cell_type": "code",
   "execution_count": 1,
   "metadata": {},
   "outputs": [],
   "source": [
    "import math"
   ]
  },
  {
   "cell_type": "markdown",
   "metadata": {},
   "source": [
    "Afterwards, all functions included in the math library will be available using the convention ```math.functionName()```."
   ]
  },
  {
   "cell_type": "code",
   "execution_count": 2,
   "metadata": {},
   "outputs": [
    {
     "data": {
      "text/plain": [
       "3.141592653589793"
      ]
     },
     "execution_count": 2,
     "metadata": {},
     "output_type": "execute_result"
    }
   ],
   "source": [
    "math.pi"
   ]
  },
  {
   "cell_type": "code",
   "execution_count": 3,
   "metadata": {},
   "outputs": [
    {
     "data": {
      "text/plain": [
       "1.4142135623730951"
      ]
     },
     "execution_count": 3,
     "metadata": {},
     "output_type": "execute_result"
    }
   ],
   "source": [
    "math.sqrt(2)"
   ]
  },
  {
   "cell_type": "code",
   "execution_count": 4,
   "metadata": {},
   "outputs": [
    {
     "data": {
      "text/plain": [
       "2.718281828459045"
      ]
     },
     "execution_count": 4,
     "metadata": {},
     "output_type": "execute_result"
    }
   ],
   "source": [
    "math.exp(1)"
   ]
  },
  {
   "cell_type": "code",
   "execution_count": 5,
   "metadata": {},
   "outputs": [
    {
     "data": {
      "text/plain": [
       "1.0"
      ]
     },
     "execution_count": 5,
     "metadata": {},
     "output_type": "execute_result"
    }
   ],
   "source": [
    "math.log(math.exp(1))"
   ]
  },
  {
   "cell_type": "markdown",
   "metadata": {},
   "source": [
    "## Renaming Modules\n",
    "Sometimes callling ```math.functionName()``` can become cumbersome, especially if using another module with a longer name."
   ]
  },
  {
   "cell_type": "markdown",
   "metadata": {},
   "source": [
    "## Partial Module Using ```from```\n",
    "Sometimes importing a full module is unnecessary; it may be simpler to import only one or two functions that are needed. In this case, we can use the keyword ```from```."
   ]
  },
  {
   "cell_type": "code",
   "execution_count": 6,
   "metadata": {},
   "outputs": [],
   "source": [
    "from math import pi"
   ]
  },
  {
   "cell_type": "markdown",
   "metadata": {},
   "source": [
    "Now, our program will likely run faster, as it was not necessary to load every function from the math library, and we have an added benefit of no longer requiring ```math.functionName()``` notation; we can simply call the function like we would for ```print()```."
   ]
  },
  {
   "cell_type": "code",
   "execution_count": 7,
   "metadata": {},
   "outputs": [
    {
     "data": {
      "text/plain": [
       "3.141592653589793"
      ]
     },
     "execution_count": 7,
     "metadata": {},
     "output_type": "execute_result"
    }
   ],
   "source": [
    "pi"
   ]
  },
  {
   "cell_type": "markdown",
   "metadata": {},
   "source": [
    "Multiple functions may be imported from the same module using this method. They will be comma-separated."
   ]
  },
  {
   "cell_type": "code",
   "execution_count": 8,
   "metadata": {},
   "outputs": [],
   "source": [
    "from math import pi, sqrt"
   ]
  },
  {
   "cell_type": "code",
   "execution_count": 9,
   "metadata": {},
   "outputs": [
    {
     "data": {
      "text/plain": [
       "3.141592653589793"
      ]
     },
     "execution_count": 9,
     "metadata": {},
     "output_type": "execute_result"
    }
   ],
   "source": [
    "pi"
   ]
  },
  {
   "cell_type": "code",
   "execution_count": 10,
   "metadata": {},
   "outputs": [
    {
     "data": {
      "text/plain": [
       "2.0"
      ]
     },
     "execution_count": 10,
     "metadata": {},
     "output_type": "execute_result"
    }
   ],
   "source": [
    "sqrt(4)"
   ]
  },
  {
   "cell_type": "markdown",
   "metadata": {},
   "source": [
    "## Full Module Using ```from```\n",
    "It is even possible to use ```from``` to include all functions from a module using the asterisk (```*```). When used, the prefix (module name) is not required."
   ]
  },
  {
   "cell_type": "code",
   "execution_count": 11,
   "metadata": {},
   "outputs": [],
   "source": [
    "from math import *"
   ]
  },
  {
   "cell_type": "code",
   "execution_count": 12,
   "metadata": {},
   "outputs": [
    {
     "data": {
      "text/plain": [
       "1.0"
      ]
     },
     "execution_count": 12,
     "metadata": {},
     "output_type": "execute_result"
    }
   ],
   "source": [
    "sin(pi/2)"
   ]
  },
  {
   "cell_type": "code",
   "execution_count": 13,
   "metadata": {},
   "outputs": [
    {
     "data": {
      "text/plain": [
       "1.5707963267948966"
      ]
     },
     "execution_count": 13,
     "metadata": {},
     "output_type": "execute_result"
    }
   ],
   "source": [
    "asin(sin(pi/2)) # Should return whatever is inside sin()"
   ]
  },
  {
   "cell_type": "markdown",
   "metadata": {},
   "source": [
    "Note: using the asterisk (```*```) when importing modules can cause naming conflicts; separate modules may have identically named functions. For example, There is a very popular package for scientific computing called [NumPy](https://numpy.org/). NumPy provides access to its own ```pi``` constant. Look at the following code."
   ]
  },
  {
   "cell_type": "code",
   "execution_count": 14,
   "metadata": {},
   "outputs": [],
   "source": [
    "from math import pi\n",
    "from numpy import pi"
   ]
  },
  {
   "cell_type": "code",
   "execution_count": 15,
   "metadata": {},
   "outputs": [
    {
     "data": {
      "text/plain": [
       "3.141592653589793"
      ]
     },
     "execution_count": 15,
     "metadata": {},
     "output_type": "execute_result"
    }
   ],
   "source": [
    "pi"
   ]
  },
  {
   "cell_type": "markdown",
   "metadata": {},
   "source": [
    "It is unclear which module provided this constant. In this case, at least, both constants provide the same value. If two methods contain separate values or functions associated with the same name, and each is called using the asterisk (```*```), the program may experience unexpected behavior."
   ]
  },
  {
   "cell_type": "markdown",
   "metadata": {},
   "source": [
    "# Common Libraries\n",
    "Standard Python and the Anaconda distribution (used for INFO-233) contain many prepackaged modules providing high-level functionality beyond the topics covered so far in this course.\n",
    "## Symbolic Math (SymPy)\n",
    "SymPy is a computer algebra system ([CAS](https://en.wikipedia.org/wiki/Computer_algebra_system)); it solves algebra and calculus problems much like a high-end calculator."
   ]
  },
  {
   "cell_type": "code",
   "execution_count": 16,
   "metadata": {},
   "outputs": [],
   "source": [
    "from sympy import symbols, solveset"
   ]
  },
  {
   "cell_type": "markdown",
   "metadata": {},
   "source": [
    "SymPy uses _symbolic math_, which unlike all digital mathematics attempts to emulate mathematical notation. It does so by assigning symbols equivalent to mathematical variables (not to be confused with programming variables)."
   ]
  },
  {
   "cell_type": "code",
   "execution_count": 17,
   "metadata": {},
   "outputs": [],
   "source": [
    "x = symbols('x') # Tell SymPy that it will see a mathematical variable x"
   ]
  },
  {
   "cell_type": "markdown",
   "metadata": {},
   "source": [
    "Now, elsewhere in the program, ```x``` may be used without a known value assigned to it. Using the function ```solveset(equation, value to solve)```, algebraic equations can be solved directly. Suppose we wish to solve the function $ f(x) =  x^{2} - 1 $. Using the ```solveset()``` function, we assign the expression and variable to isolate as the first and second arguments, respectively."
   ]
  },
  {
   "cell_type": "code",
   "execution_count": 18,
   "metadata": {},
   "outputs": [
    {
     "data": {
      "text/latex": [
       "$\\displaystyle \\left\\{-1, 1\\right\\}$"
      ],
      "text/plain": [
       "FiniteSet(-1, 1)"
      ]
     },
     "execution_count": 18,
     "metadata": {},
     "output_type": "execute_result"
    }
   ],
   "source": [
    "solveset(x**2 - 1, x) # Provide SymPy with a mathematical expression and the variable to solve."
   ]
  },
  {
   "cell_type": "markdown",
   "metadata": {},
   "source": [
    "A comprehensive list of SymPy features may be found [here](https://docs.sympy.org/latest/tutorial/features.html)."
   ]
  },
  {
   "cell_type": "markdown",
   "metadata": {},
   "source": [
    "## Plotting (Matplotlib)"
   ]
  },
  {
   "cell_type": "markdown",
   "metadata": {},
   "source": [
    "## Web Scraping (Beautiful Soup, ```bs4```)\n",
    "This package may need to be installed using the conda package manager in Anaconda. The requests module pulls content from a webpage, and the bs4 module parses that content into various HTML elements. In the following code snippet, both libraries are used to extract whether a company's stock had a good or bad day."
   ]
  },
  {
   "cell_type": "code",
   "execution_count": 36,
   "metadata": {},
   "outputs": [],
   "source": [
    "import bs4      # Web Scraping\n",
    "import requests # URL Getting"
   ]
  },
  {
   "cell_type": "code",
   "execution_count": 37,
   "metadata": {},
   "outputs": [],
   "source": [
    "url = \"https://www.marketwatch.com/markets/earnings?mod=market-snapshot\"\n",
    "page = requests.get(url).content\n",
    "soup = bs4.BeautifulSoup(page, \"html.parser\")"
   ]
  },
  {
   "cell_type": "markdown",
   "metadata": {},
   "source": [
    "By this point, the webpage has been parsed into its HTML elements and stored in variable ```soup```. For example, if we wish to obtain various links (html element ```<a>```) from soup:"
   ]
  },
  {
   "cell_type": "code",
   "execution_count": 41,
   "metadata": {},
   "outputs": [
    {
     "name": "stdout",
     "output_type": "stream",
     "text": [
      "[<a class=\"skip-link screen-reader-text btn btn--primary\" href=\"#maincontent\">Skip to main content</a>, <a class=\"link\" href=\"https://www.marketwatch.com/\">Home</a>, <a class=\"link\" href=\"https://www.marketwatch.com/latest-news\">Latest News</a>, <a class=\"link\" href=\"https://www.marketwatch.com/watchlist\">Watchlist</a>, <a class=\"link\" href=\"https://www.marketwatch.com/market-data\">Market Data Center</a>, <a class=\"link\" href=\"https://www.marketwatch.com/market-data/us\">U.S.</a>, <a class=\"link\" href=\"https://www.marketwatch.com/market-data/cryptocurrency\">Cryptocurrency</a>, <a class=\"link\" href=\"https://www.marketwatch.com/market-data/europe\">Europe</a>, <a class=\"link\" href=\"https://www.marketwatch.com/market-data/rates\">Rates</a>, <a class=\"link\" href=\"https://www.marketwatch.com/market-data/asia\">Asia</a>, <a class=\"link\" href=\"https://www.marketwatch.com/market-data/futures\">Futures</a>, <a class=\"link\" href=\"https://www.marketwatch.com/market-data/currencies\">Currencies</a>, <a class=\"link\" href=\"https://www.marketwatch.com/markets\">Markets</a>, <a class=\"link\" href=\"https://www.marketwatch.com/markets/us\">U.S. Markets</a>, <a class=\"link\" href=\"https://www.marketwatch.com/markets/canada\">Canada</a>, <a class=\"link\" href=\"https://www.marketwatch.com/markets/europe-middle-east\">Europe &amp; Middle East</a>, <a class=\"link\" href=\"https://www.marketwatch.com/markets/asia\">Asia</a>, <a class=\"link\" href=\"https://www.marketwatch.com/markets/emerging-markets\">Emerging Markets</a>, <a class=\"link\" href=\"https://www.marketwatch.com/markets/latin-america\">Latin America</a>, <a class=\"link\" href=\"https://www.marketwatch.com/market-data\">Market Data</a>, <a class=\"link\" href=\"https://www.marketwatch.com/investing\">Investing</a>, <a class=\"link\" href=\"https://www.marketwatch.com/investing/barrons\">Barron's</a>, <a class=\"link\" href=\"https://www.marketwatch.com/investing/best-new-ideas-in-money\">Best New Ideas</a>, <a class=\"link\" href=\"https://www.marketwatch.com/investing/stocks\">Stocks</a>, <a class=\"link\" href=\"https://www.marketwatch.com/investing/ipo\">IPOs</a>, <a class=\"link\" href=\"https://www.marketwatch.com/investing/mutual-funds\">Mutual Funds</a>, <a class=\"link\" href=\"https://www.marketwatch.com/investing/etf\">ETFs</a>, <a class=\"link\" href=\"https://www.marketwatch.com/investing/options\">Options</a>, <a class=\"link\" href=\"https://www.marketwatch.com/investing/bonds\">Bonds</a>, <a class=\"link\" href=\"https://www.marketwatch.com/investing/commodities\">Commodities</a>, <a class=\"link\" href=\"https://www.marketwatch.com/investing/currencies\">Currencies</a>, <a class=\"link\" href=\"https://www.marketwatch.com/investing/cryptocurrency\">Cryptocurrencies</a>, <a class=\"link\" href=\"https://www.marketwatch.com/investing/futures\">Futures</a>, <a class=\"link\" href=\"https://www.marketwatch.com/investing/financial-adviser-center\">Financial Adviser Center</a>, <a class=\"link\" href=\"https://www.marketwatch.com/column/cannabis-watch\">Cannabis</a>, <a class=\"link\" href=\"https://www.marketwatch.com/newswires\">Newswires</a>, <a class=\"link\" href=\"https://www.marketwatch.com/investing/barrons\">Barron's</a>, <a class=\"link\" href=\"https://www.marketwatch.com/economy-politics\">Economy &amp; Politics</a>, <a class=\"link\" href=\"https://www.marketwatch.com/column/washington-watch\">Washington Watch</a>, <a class=\"link\" href=\"https://www.marketwatch.com/economy-politics/inflation\">Inflation</a>, <a class=\"link\" href=\"https://www.marketwatch.com/economy-politics/coronavirus\">Coronavirus</a>, <a class=\"link\" href=\"https://www.marketwatch.com/column/the-fed\">The Federal Reserve</a>, <a class=\"link\" href=\"https://www.marketwatch.com/column/economic-report\">Economic Report</a>, <a class=\"link\" href=\"https://www.marketwatch.com/author/rex-nutting\">Rex Nutting</a>, <a class=\"link\" href=\"https://www.marketwatch.com/economy-politics/calendars/economic\">U.S. Economic Calendar</a>, <a class=\"link\" href=\"https://www.marketwatch.com/graphics/coronavirus-economic-recovery-tracker/\">Coronavirus Recovery Tracker</a>, <a class=\"link\" href=\"https://www.marketwatch.com/personal-finance\">Personal Finance</a>, <a class=\"link\" href=\"https://www.marketwatch.com/column/the-moneyist\">The Moneyist</a>, <a class=\"link\" href=\"https://www.marketwatch.com/personal-finance/spending-saving\">Spending &amp; Saving</a>, <a class=\"link\" href=\"https://www.marketwatch.com/retirement\">Retirement</a>, <a class=\"link\" href=\"https://www.marketwatch.com/column/taxwatch\">TaxWatch</a>, <a class=\"link\" href=\"https://www.marketwatch.com/personal-finance/credit-cards\">Credit Cards</a>, <a class=\"link\" href=\"https://www.marketwatch.com/personal-finance/careers\">Careers</a>, <a class=\"link\" href=\"https://www.marketwatch.com/personal-finance/travel\">Travel</a>, <a class=\"link\" href=\"https://www.marketwatch.com/personal-finance/real-estate\">Real Estate</a>, <a class=\"link\" href=\"https://www.marketwatch.com/personal-finance/real-estate/buy\">Real Estate Listings</a>, <a class=\"link\" href=\"https://www.marketwatch.com/retirement\">Retirement</a>, <a class=\"link\" href=\"https://www.marketwatch.com/retirement/best-new-ideas-in-retirement\">Best New Ideas in Retirement</a>, <a class=\"link\" href=\"https://www.marketwatch.com/retirement/estate-planning\">Estate Planning</a>, <a class=\"link\" href=\"https://www.marketwatch.com/column/help-me-retire\">Help Me Retire</a>, <a class=\"link\" href=\"https://www.marketwatch.com/retirement/fire\">FIRE</a>, <a class=\"link\" href=\"https://www.marketwatch.com/retirement/taxes\">Taxes</a>, <a class=\"link\" href=\"https://www.marketwatch.com/retirement/social-security\">Social Security</a>, <a class=\"link\" href=\"https://www.marketwatch.com/retirement/real-estate\">Real Estate</a>, <a class=\"link\" href=\"https://newretirement.marketwatch.com/planner/retirement-calculator?nr_a=mw&amp;nr_creative=snrrc&amp;utm_source=mw&amp;utm_medium=referral&amp;utm_campaign=rc&amp;utm_content=snrrc\">Retirement Calculator</a>, <a class=\"link\" href=\"https://newretirement.marketwatch.com/?nr_a=mw&amp;nr_creative=snrnp&amp;utm_source=mw&amp;utm_medium=referral&amp;utm_campaign=p&amp;utm_content=snrnp\">NewRetirement Planner</a>, <a class=\"link\" href=\"https://www.marketwatch.com/column/where-should-i-retire?mod=retirement\">Where Should I Retire</a>, <a class=\"link\" href=\"https://www.marketwatch.com/graphics/best-place-to-retire/\">Best Places</a>, <a class=\"link\" href=\"https://www.marketwatch.com/how-to-invest\">How to Invest</a>, <a class=\"link\" href=\"https://www.marketwatch.com/games\">Virtual Stock Exchange</a>, <a class=\"link\" href=\"https://www.marketwatch.com/video\">Video</a>, <a class=\"link\" href=\"https://www.marketwatch.com/video/sectorwatch\">SectorWatch</a>, <a class=\"link\" href=\"https://www.marketwatch.com/video/the-moneyist\">The Moneyist</a>, <a class=\"link\" href=\"https://www.marketwatch.com/video/getting-to-work-with\">Getting to Work With</a>, <a class=\"link\" href=\"https://www.marketwatch.com/video/love-money\">Love &amp; Money</a>, <a class=\"link\" href=\"https://www.marketwatch.com/video/explainomics\">Explainomics</a>, <a class=\"link\" href=\"https://www.marketwatch.com/video/good-company\">Good Company</a>, <a class=\"link\" href=\"https://www.marketwatch.com/podcasts\">Podcasts</a>, <a class=\"link\" href=\"https://www.marketwatch.com/live-qa\">Live Events</a>, <a class=\"link\" href=\"https://www.marketwatch.com/picks\">Picks</a>, <a class=\"link\" href=\"https://www.marketwatch.com/picks/food-wine\">Food &amp; Wine</a>, <a class=\"link\" href=\"https://www.marketwatch.com/picks/home-kitchen\">Home &amp; Kitchen</a>, <a class=\"link\" href=\"https://www.marketwatch.com/picks/health-fitness\">Health &amp; Fitness</a>, <a class=\"link\" href=\"https://www.marketwatch.com/picks/fashion-beauty\">Fashion &amp; Beauty</a>, <a class=\"link\" href=\"https://www.marketwatch.com/picks/loans-mortgages\">Loans &amp; Mortgages</a>, <a class=\"link\" href=\"https://www.marketwatch.com/picks/money\">Money</a>, <a class=\"link\" href=\"https://www.marketwatch.com/picks/travel\">Travel</a>, <a class=\"link\" href=\"https://www.marketwatch.com/picks/gifts\">Gifts</a>, <a class=\"link\" href=\"https://www.marketwatch.com/picks/technology\">Technology</a>, <a class=\"link\" href=\"https://www.marketwatch.com/picks/real-estate\">Real Estate</a>, <a class=\"link\" href=\"https://www.marketwatch.com/picks/amazon-prime-day\">Amazon Prime Day</a>, <a class=\"link\" href=\"https://www.marketwatch.com/picks/black-friday\">Black Friday</a>, <a class=\"link\" href=\"https://www.marketwatch.com/picks/guides/\">Guides</a>, <a class=\"link\" href=\"https://www.marketwatch.com/newsroom/opinion\">Opinion</a>, <a class=\"link\" href=\"https://www.investors.com\">Investor's Business Daily</a>, <a class=\"link\" href=\"https://leaderboard.investors.com\">Leaderboard</a>, <a class=\"link\" href=\"https://swingtrader.investors.com\">SwingTrader</a>, <a class=\"link\" href=\"https://marketsmith.investors.com\">MarketSmith</a>, <a class=\"link\" href=\"https://research.investors.com/ibdlive\">IBDLive</a>, <a class=\"link\" href=\"https://www.marketwatch.com/newsletters\">Newsletter Center</a>, <a class=\"link\" href=\"https://www.marketwatch.com/investing/research-tools\">Research &amp; Tools</a>, <a class=\"link\" href=\"https://www.marketwatch.com/watchlist\">Watchlist</a>, <a class=\"link\" href=\"https://www.marketwatch.com/tools/partner/mortgage-calculator\">Mortgage Calculator</a>, <a class=\"link\" href=\"https://www.marketwatch.com/tools/multiple-quotes\">Multiple Quotes Tool</a>, <a class=\"link\" href=\"https://www.marketwatch.com/tools/stockresearch/screener/\">Stock Screener</a>, <a class=\"link\" href=\"https://www.marketwatch.com/tools/earningscalendar\">Earnings Calendar</a>, <a class=\"link\" href=\"https://www.marketwatch.com/tools/screener\">Market Screener</a>, <a class=\"link\" href=\"https://www.marketwatch.com/tools/ipo-calendar\">IPO Calendar</a>, <a class=\"link\" href=\"https://www.marketwatch.com/tools/screener/short-interest\">Short Interest</a>, <a class=\"link\" href=\"https://www.marketwatch.com/tools/screener/premarket\">Premarket Screener</a>, <a class=\"link\" href=\"https://www.marketwatch.com/optionscenter/calendar\">Options Calendar</a>, <a class=\"link\" href=\"https://www.marketwatch.com/tools/screener/after-hours\">After Hours Screener</a>, <a class=\"link\" href=\"https://www.marketwatch.com/market-data/currencies\">Currency Tools</a>, <a class=\"link\" href=\"https://www.stg.marketwatch.com/tools/screener/mutual-fund\">Mutual Fund Screener</a>, <a class=\"link\" href=\"https://www.marketwatch.com/tools/upgrades-downgrades\">Upgrades &amp; Downgrades</a>, <a class=\"link\" href=\"https://www.marketwatch.com/tools/mutual-fund/compare\">Mutual Fund Comparison</a>, <a class=\"link\" href=\"https://www.marketwatch.com/economy-politics/calendars/economic\">Economic Calendar</a>, <a class=\"link\" href=\"https://www.marketwatch.com/graphics/best-place-to-retire/\">Where Should I Retire?</a>, <a class=\"link\" href=\"https://www.marketwatch.com/tools/partner/savings-accounts\">Savings Accounts</a>, <a class=\"link\" href=\"https://newretirement.marketwatch.com/?nr_a=mw&amp;nr_creative=snrtrp&amp;utm_source=mw&amp;utm_medium=referral&amp;utm_campaign=p&amp;utm_content=snrtrp\">Retirement Planner</a>, <a class=\"link\" href=\"https://www.marketwatch.com/tools/partner/certificate-deposit\">CDs</a>, <a class=\"link\" href=\"https://www.marketwatch.com/tools/partner/mortgage-rates\">Mortgage Rates</a>, <a class=\"btn btn--lighten\" data-track-code=\"MW_Header_Signup\" data-track-query=\".btn--signup\" href=\"/sign-up\"><span class=\"label\">Sign Up</span></a>, <a class=\"btn btn--primary\" data-track-code=\"MW_Header_Login\" data-track-query=\".btn--login\" href=\"https://accounts.marketwatch.com/login?target=https%3A%2F%2Fwww.marketwatch.com%2Fmarkets%2Fearnings%3Fmod%3Dmarket-snapshot\"><span class=\"label\">Log In</span></a>, <a class=\"link\" href=\"https://www.marketwatch.com/my\">Profile Settings</a>, <a class=\"link\" href=\"https://www.marketwatch.com/newsletters\">Email &amp; Alerts</a>, <a class=\"link\" href=\"https://www.marketwatch.com/watchlist\">Watchlist</a>, <a class=\"link\" href=\"https://www.marketwatch.com/games\">Games</a>, <a data-track-code=\"MW_Masthead_Logo\" href=\"https://www.marketwatch.com/\"><svg aria-label=\"Logo\" aria-labelledby=\"mw-logo-title mw-logo-desc\" focusable=\"false\" id=\"Layer_1\" role=\"img\" style=\"enable-background:new 0 0 697.5 99.8;\" version=\"1.1\" viewbox=\"0 0 697.5 99.8\" x=\"0px\" xml:space=\"preserve\" xmlns=\"http://www.w3.org/2000/svg\" xmlns:xlink=\"http://www.w3.org/1999/xlink\" y=\"0px\">\n",
      "<title id=\"mw-logo-title\">MarketWatch Logo</title>\n",
      "<desc id=\"mw-logo-desc\">Go to the homepage.</desc>\n",
      "<style type=\"text/css\">\n",
      "\t.mw1{fill:#ffffff;}\n",
      "\t.mw2{fill:#00AC4E;}\n",
      "</style>\n",
      "<g>\n",
      "<g>\n",
      "<path class=\"mw1\" d=\"M168.9,41.8l-1.2,5.9h-0.3c-1.5-3.3-5.7-7.9-15-7.9c-15,0-30.3,11.6-33.7,29.9c-2.9,16,4.8,30.1,22.6,30.1\n",
      "\t\t\tc6.5,0,14-2.5,17.9-8h0.3l-1.1,6H175l10.4-56H168.9z M163.5,69.7c-1.1,5.5-6.3,14.4-16.7,14.4c-10.2,0-12.3-9-11.4-14.2\n",
      "\t\t\tc1.2-6.4,6.9-14.4,16.6-14.4C161.5,55.6,164.7,63.1,163.5,69.7z\"></path>\n",
      "<path class=\"mw1\" d=\"M194.8,41.8h15.6l-1.1,5.9h0.3c2-2.7,5.9-7.9,15.5-7.9l-3.1,17c-7.9,0.1-13.6,1.7-15.1,10.3l-5.7,30.7h-16.8\n",
      "\t\t\tL194.8,41.8z\"></path>\n",
      "<polygon class=\"mw1\" points=\"236.4,19.9 253.2,19.9 245.3,62.1 245.6,62.1 265,41.8 284.7,41.8 259.1,66.4 273.8,97.8 254.8,97.8\n",
      "\t\t\t244,70.8 243.7,70.8 238.8,97.8 221.9,97.8 \t\t\"></polygon>\n",
      "<path class=\"mw1\" d=\"M311.6,39.8c-17,0-32.1,14.6-34.9,30.2c-3.1,16.6,8.1,29.7,24.2,29.7c5.7,0,11.6-1.7,16.8-5.1\n",
      "\t\t\tc5.3-3.2,10.2-8,14-14.3h-17.1c-2.8,2.9-6,5.2-11.2,5.2c-6.5,0-11.4-3.9-11.1-10.6h42c0.5-1.3,0.8-2.3,1.2-4.4\n",
      "\t\t\tC338.7,53.4,328.7,39.8,311.6,39.8z M294.6,63.6c1.3-3.3,5.9-9.6,14.6-9.6c8.7,0,10.8,6.3,10.8,9.6H294.6z\"></path>\n",
      "<polygon class=\"mw1\" points=\"96.5,19.9 66.9,64.3 66.7,64.3 66.7,19.9 52.4,19.9 0,97.8 20.3,97.8 49.7,53.4 50,53.4 50,97.8\n",
      "\t\t\t64.4,97.8 93.8,53.4 94.1,53.4 94.1,97.8 110.9,97.8 110.9,19.9 \t\t\"></polygon>\n",
      "<path class=\"mw1\" d=\"M378,41.8h-10.6l3.1-16.6h-14.7l-1.2,6.4c-1.3,7.3-5.9,9.5-12,10.2h-0.1L340,54.5h8.3l-8,43.3H357l8-43.3\n",
      "\t\t\th10.7L378,41.8z\"></path>\n",
      "</g>\n",
      "<g>\n",
      "<g>\n",
      "<path class=\"mw2\" d=\"M637.2,76.6c-5.5,12.7-18.6,23.1-33.7,23.1c-17,0-27.5-13.4-24.5-30.1c3.1-16.4,18.3-29.8,35.1-29.8\n",
      "\t\t\t\tc14.8,0,25,9.9,25.3,23.6h-17c-1.1-3.9-3.6-7.9-10.7-7.9c-7.9-0.4-14.4,6.1-15.9,14.2c-1.5,8.2,2.7,14.3,10.7,14.3\n",
      "\t\t\t\tc6.9,0,11.1-4,13.5-7.5H637.2z M498.4,0l-32.6,19.9h9.2l-29.5,44.4h-0.3V19.9h-14.4l-29.5,44.4H401V19.9h-16.8v77.9h14.6\n",
      "\t\t\t\tl29.5-44.4h0.3v44.4h14.4l52.2-77.9h8.3L498.4,0z M530.2,97.8h-16.6l1.1-6h-0.3c-3.9,5.5-11.4,8-17.9,8\n",
      "\t\t\t\tc-17.8,0-25.5-14-22.6-30.1c3.3-18.3,18.7-29.9,33.7-29.9c9.2,0,13.5,4.5,15,7.9h0.3l1.2-5.9h16.6L530.2,97.8z M502,84.2\n",
      "\t\t\t\tc10.4,0,15.6-9,16.7-14.4c1.2-6.7-2-14.2-11.5-14.2c-9.6,0-15.4,8-16.6,14.4C489.7,75.2,491.8,84.2,502,84.2L502,84.2z\n",
      "\t\t\t\t M582.5,41.8H572l3.1-16.6h-14.7l-1.2,6.4c-1.3,7.3-5.9,9.5-12,10.2H547l-2.4,12.7h8.3l-8,43.3h16.7l8-43.3h10.7L582.5,41.8z\n",
      "\t\t\t\t M653,19.9h16.7l-5.1,27.8h0.3c3.6-5.2,8.4-7.9,15.8-7.9c5.3,0,11.4,2,14.2,6.3c3.6,5.5,3.2,10.4,1.3,20.4l-5.7,31.3h-16.7\n",
      "\t\t\t\tl5.6-30.5c0.5-2.7,2.1-11.8-6.8-11.8c-9.4,0-11,8.4-11.5,11.2l-5.7,31h-16.7L653,19.9z\"></path>\n",
      "</g>\n",
      "</g>\n",
      "</g>\n",
      "</svg>\n",
      "</a>, <a href=\"https://www.marketwatch.com/latest-news\">Latest</a>, <a href=\"https://www.marketwatch.com/watchlist\">Watchlist</a>, <a href=\"https://www.marketwatch.com/markets\">Markets</a>, <a href=\"https://www.marketwatch.com/investing\">Investing</a>, <a href=\"https://www.marketwatch.com/personal-finance\">Personal Finance</a>, <a href=\"https://www.marketwatch.com/economy-politics\">Economy</a>, <a href=\"https://www.marketwatch.com/retirement\">Retirement</a>, <a href=\"https://www.marketwatch.com/how-to-invest\">How to Invest</a>, <a href=\"https://www.marketwatch.com/video\">Video Center</a>, <a href=\"https://www.marketwatch.com/live-qa\">Live Events</a>, <a href=\"https://www.marketwatch.com/picks\">MarketWatch Picks</a>, <a class=\"link js-btn--login\" data-track-code=\"MW_Header_Login\" data-track-query=\".btn--login\" href=\"https://accounts.marketwatch.com/login?target=https%3A%2F%2Fwww.marketwatch.com%2Fmarkets%2Fearnings%3Fmod%3Dmarket-snapshot\">Log In</a>, <a class=\"link\" data-track-code=\"MW_Header_Signup\" data-track-query=\".btn--signup\" href=\"/sign-up\">Sign Up</a>, <a class=\"link\" href=\"\"></a>, <a class=\"link\" href=\"\"></a>, <a class=\"title link\" href=\"/markets?mod=earnings\">Markets</a>, <a class=\"link\" href=\"/market-data?mod=earnings\">Market Data Center</a>, <a class=\"link\" href=\"/markets/us?mod=earnings\">U.S. Markets</a>, <a class=\"link\" href=\"/markets/canada?mod=earnings\">Canada</a>, <a class=\"link\" href=\"/markets/europe-middle-east?mod=earnings\">Europe &amp; Middle East</a>, <a class=\"link\" href=\"/markets/asia?mod=earnings\">Asia</a>, <a class=\"link\" href=\"/markets/emerging-markets?mod=earnings\">Emerging Markets</a>, <a class=\"link\" href=\"/markets/latin-america?mod=earnings\">Latin America</a>, <a class=\"link\" href=\"/markets/earnings?mod=earnings\">Earnings</a>, <a class=\"link\" href=\"https://www.marketwatch.com/watchlist?mod=earnings\">Watchlist</a>, <a class=\"link\" href=\"https://www.marketwatch.com/tools/screener?mod=earnings\">Market Screener</a>, <a class=\"link\" href=\"https://www.marketwatch.com/tools/stockresearch/screener/?mod=earnings\">Stock Screener</a>, <a class=\"link\" href=\"https://www.marketwatch.com/tools/screener/after-hours?mod=earnings\">After Hours Screener</a>, <a class=\"link\" href=\"https://www.marketwatch.com/tools/screener/premarket?mod=earnings\">Premarket Screener</a>, <a class=\"link\" href=\"https://www.marketwatch.com/tools/mutual-fund/screener?mod=earnings\">Mutual Funds Screener</a>, <a class=\"link\" href=\"https://www.marketwatch.com/tools/mutual-fund/compare?mod=earnings\">Mutual Funds Comparison</a>, <a class=\"link\" href=\"https://www.marketwatch.com/tools/stockresearch/updown/?mod=earnings\">Upgrades / Downgrades</a>, <a class=\"link\" href=\"https://www.marketwatch.com/investing/currencies/tools?mod=earnings\">Currency Tools</a>, <a class=\"link\" href=\"https://www.marketwatch.com/tools/earningscalendar?mod=earnings\">Earnings Calendar</a>, <a class=\"link\" href=\"https://www.marketwatch.com/tools/ipocalendar?mod=earnings\">IPO Calendar</a>, <a class=\"link\" href=\"https://www.marketwatch.com/optionscenter/calendar?mod=earnings\">Options Calendar</a>, <a class=\"link\" href=\"https://www.marketwatch.com/?mod=earnings\" itemprop=\"item\">\n",
      "<span itemprop=\"name\">Home</span>\n",
      "</a>, <a class=\"link\" href=\"https://www.marketwatch.com/markets?mod=earnings\" itemprop=\"item\">\n",
      "<span itemprop=\"name\">Markets</span>\n",
      "</a>, <a class=\"figure__image\" data-video-guid=\"\" href=\"https://www.marketwatch.com/story/fedex-shares-slide-5-after-profit-miss-as-omicron-led-to-staff-sickouts-and-reduced-demand-11647623971?mod=earnings\" role=\"presentation\" tabindex=\"-1\">\n",
      "<img alt=\"Read full story\" class=\"lazyload\" data-sizes=\"auto\" data-srcset=\"https://images.mktw.net/im-507706?size=1.777777777777778&amp;width=220 220w,https://images.mktw.net/im-507706?size=1.777777777777778&amp;width=300 300w,https://images.mktw.net/im-507706?size=1.777777777777778&amp;width=460 460w,https://images.mktw.net/im-507706?size=1.777777777777778&amp;width=800 800w,https://images.mktw.net/im-507706?size=1.777777777777778&amp;width=920 920w,https://images.mktw.net/im-507706?size=1.777777777777778&amp;width=1240 1240w,https://images.mktw.net/im-507706?size=1.777777777777778&amp;width=1240 1240w\"/>\n",
      "</a>, <a class=\"link\" href=\"https://www.marketwatch.com/story/fedex-shares-slide-5-after-profit-miss-as-omicron-led-to-staff-sickouts-and-reduced-demand-11647623971?mod=earnings\">\n",
      "                            \n",
      "                            \n",
      "                            FedEx shares slide 5% after profit miss as omicron led to staff sickouts and reduced demand\n",
      "                        </a>, <a class=\"ticker qt-chip j-qt-chip\" data-charting-symbol=\"INDEX/US/S&amp;P US/SPX\" data-track-hover=\"QuotePeek\" href=\"https://www.marketwatch.com/investing/index/spx?mod=earnings\">\n",
      "<span class=\"ticker__symbol\">SPX</span>\n",
      "<bg-quote channel=\"/zigman2/quotes/210599714/realtime\" class=\"ticker__change\" field=\"percentChange\">-0.04%</bg-quote>\n",
      "<i class=\"icon\"></i>\n",
      "</a>, <a class=\"ticker qt-chip j-qt-chip\" data-charting-symbol=\"STOCK/US/XNYS/FDX\" data-track-hover=\"QuotePeek\" href=\"https://www.marketwatch.com/investing/stock/fdx?mod=earnings\">\n",
      "<span class=\"ticker__symbol\">FDX</span>\n",
      "<bg-quote channel=\"/zigman2/quotes/203047719/composite\" class=\"ticker__change\" field=\"percentChange\">1.48%</bg-quote>\n",
      "<i class=\"icon\"></i>\n",
      "</a>, <a class=\"figure__image\" data-video-guid=\"\" href=\"https://www.marketwatch.com/story/fedex-stock-slips-as-earnings-miss-wall-street-consensus-11647548523?mod=earnings\" role=\"presentation\" tabindex=\"-1\">\n",
      "<img alt=\"Read full story\" class=\"lazyload\" data-sizes=\"auto\" data-srcset=\"https://images.mktw.net/im-441965?size=1.777777777777778&amp;width=220 220w,https://images.mktw.net/im-441965?size=1.777777777777778&amp;width=300 300w,https://images.mktw.net/im-441965?size=1.777777777777778&amp;width=460 460w,https://images.mktw.net/im-441965?size=1.777777777777778&amp;width=800 800w,https://images.mktw.net/im-441965?size=1.777777777777778&amp;width=920 920w,https://images.mktw.net/im-441965?size=1.777777777777778&amp;width=1240 1240w,https://images.mktw.net/im-441965?size=1.777777777777778&amp;width=1240 1240w\"/>\n",
      "</a>, <a class=\"link\" href=\"https://www.marketwatch.com/story/fedex-stock-slips-as-earnings-miss-wall-street-consensus-11647548523?mod=earnings\">\n",
      "                            \n",
      "                            \n",
      "                            FedEx stock slips as earnings miss Wall Street consensus\n",
      "                        </a>, <a class=\"ticker qt-chip j-qt-chip\" data-charting-symbol=\"STOCK/US/XNYS/FDX\" data-track-hover=\"QuotePeek\" href=\"https://www.marketwatch.com/investing/stock/fdx?mod=earnings\">\n",
      "<span class=\"ticker__symbol\">FDX</span>\n",
      "<bg-quote channel=\"/zigman2/quotes/203047719/composite\" class=\"ticker__change\" field=\"percentChange\">1.48%</bg-quote>\n",
      "<i class=\"icon\"></i>\n",
      "</a>, <a class=\"figure__image\" data-video-guid=\"\" href=\"https://www.marketwatch.com/story/pagerduty-stock-rallies-as-results-revenue-outlook-tops-wall-street-view-11647462209?mod=earnings\" role=\"presentation\" tabindex=\"-1\">\n",
      "</a>, <a class=\"link\" href=\"https://www.marketwatch.com/story/pagerduty-stock-rallies-as-results-revenue-outlook-tops-wall-street-view-11647462209?mod=earnings\">\n",
      "                            \n",
      "                            \n",
      "                            PagerDuty stock rallies as results, revenue outlook top Wall Street’s view\n",
      "                        </a>, <a class=\"ticker qt-chip j-qt-chip\" data-charting-symbol=\"STOCK/US/XNYS/PD\" data-track-hover=\"QuotePeek\" href=\"https://www.marketwatch.com/investing/stock/pd?mod=earnings\">\n",
      "<span class=\"ticker__symbol\">PD</span>\n",
      "<bg-quote channel=\"/zigman2/quotes/210571191/composite\" class=\"ticker__change\" field=\"percentChange\">0.37%</bg-quote>\n",
      "<i class=\"icon\"></i>\n",
      "</a>, <a class=\"figure__image\" data-video-guid=\"\" href=\"https://www.marketwatch.com/story/semtech-stock-rises-as-results-earnings-outlook-exceed-street-view-11647463430?mod=earnings\" role=\"presentation\" tabindex=\"-1\">\n",
      "</a>, <a class=\"link\" href=\"https://www.marketwatch.com/story/semtech-stock-rises-as-results-earnings-outlook-exceed-street-view-11647463430?mod=earnings\">\n",
      "                            \n",
      "                            \n",
      "                            Semtech stock rises as results, earnings outlook exceed Street view\n",
      "                        </a>, <a class=\"ticker qt-chip j-qt-chip\" data-charting-symbol=\"STOCK/US/XNAS/SMTC\" data-track-hover=\"QuotePeek\" href=\"https://www.marketwatch.com/investing/stock/smtc?mod=earnings\">\n",
      "<span class=\"ticker__symbol\">SMTC</span>\n",
      "<bg-quote channel=\"/zigman2/quotes/206723451/composite\" class=\"ticker__change\" field=\"percentChange\">-0.31%</bg-quote>\n",
      "<i class=\"icon\"></i>\n",
      "</a>, <a class=\"figure__image\" data-video-guid=\"\" href=\"https://www.marketwatch.com/story/smartsheet-stock-drops-as-weak-outlook-overshadows-earnings-beat-11647375244?mod=earnings\" role=\"presentation\" tabindex=\"-1\">\n",
      "<img alt=\"Read full story\" class=\"lazyload\" data-sizes=\"auto\" data-srcset=\"https://images.mktw.net/im-505387?size=1.777777777777778&amp;width=220 220w,https://images.mktw.net/im-505387?size=1.777777777777778&amp;width=300 300w,https://images.mktw.net/im-505387?size=1.777777777777778&amp;width=460 460w,https://images.mktw.net/im-505387?size=1.777777777777778&amp;width=800 800w,https://images.mktw.net/im-505387?size=1.777777777777778&amp;width=920 920w,https://images.mktw.net/im-505387?size=1.777777777777778&amp;width=1240 1240w,https://images.mktw.net/im-505387?size=1.777777777777778&amp;width=1240 1240w\"/>\n",
      "</a>, <a class=\"link\" href=\"https://www.marketwatch.com/story/smartsheet-stock-drops-as-weak-outlook-overshadows-earnings-beat-11647375244?mod=earnings\">\n",
      "                            \n",
      "                            \n",
      "                            SmartSheet stock drops as weak outlook overshadows earnings beat\n",
      "                        </a>, <a class=\"ticker qt-chip j-qt-chip\" data-charting-symbol=\"STOCK/US/XNYS/SMAR\" data-track-hover=\"QuotePeek\" href=\"https://www.marketwatch.com/investing/stock/smar?mod=earnings\">\n",
      "<span class=\"ticker__symbol\">SMAR</span>\n",
      "<bg-quote channel=\"/zigman2/quotes/207006006/composite\" class=\"ticker__change\" field=\"percentChange\">3.57%</bg-quote>\n",
      "<i class=\"icon\"></i>\n",
      "</a>, <a class=\"figure__image\" data-video-guid=\"\" href=\"https://www.marketwatch.com/story/sentinelone-stock-drops-even-as-results-outlook-top-street-view-11647376180?mod=earnings\" role=\"presentation\" tabindex=\"-1\">\n",
      "<img alt=\"Read full story\" class=\"lazyload\" data-sizes=\"auto\" data-srcset=\"https://images.mktw.net/im-362526?size=1.777777777777778&amp;width=220 220w,https://images.mktw.net/im-362526?size=1.777777777777778&amp;width=300 300w,https://images.mktw.net/im-362526?size=1.777777777777778&amp;width=460 460w,https://images.mktw.net/im-362526?size=1.777777777777778&amp;width=800 800w,https://images.mktw.net/im-362526?size=1.777777777777778&amp;width=920 920w,https://images.mktw.net/im-362526?size=1.777777777777778&amp;width=1240 1240w,https://images.mktw.net/im-362526?size=1.777777777777778&amp;width=1240 1240w\"/>\n",
      "</a>, <a class=\"link\" href=\"https://www.marketwatch.com/story/sentinelone-stock-drops-even-as-results-outlook-top-street-view-11647376180?mod=earnings\">\n",
      "                            \n",
      "                            \n",
      "                            SentinelOne stock drops even as results, outlook top Street view\n",
      "                        </a>, <a class=\"ticker qt-chip j-qt-chip\" data-charting-symbol=\"STOCK/US/XNYS/S\" data-track-hover=\"QuotePeek\" href=\"https://www.marketwatch.com/investing/stock/s?mod=earnings\">\n",
      "<span class=\"ticker__symbol\">S</span>\n",
      "<bg-quote channel=\"/zigman2/quotes/208685669/composite\" class=\"ticker__change\" field=\"percentChange\">-5.15%</bg-quote>\n",
      "<i class=\"icon\"></i>\n",
      "</a>, <a class=\"figure__image\" data-video-guid=\"\" href=\"https://www.marketwatch.com/story/goldman-sachs-coo-waldron-takes-home-33-million-2022-03-21?mod=earnings\" role=\"presentation\" tabindex=\"-1\">\n",
      "</a>, <a class=\"link\" href=\"https://www.marketwatch.com/story/goldman-sachs-coo-waldron-takes-home-33-million-2022-03-21?mod=earnings\">\n",
      "                            \n",
      "                            \n",
      "                            Goldman Sachs COO Waldron takes home $33 million \n",
      "                        </a>, <a class=\"ticker qt-chip j-qt-chip\" data-charting-symbol=\"STOCK/US/XNYS/GS\" data-track-hover=\"QuotePeek\" href=\"https://www.marketwatch.com/investing/stock/gs?mod=earnings\">\n",
      "<span class=\"ticker__symbol\">GS</span>\n",
      "<bg-quote channel=\"/zigman2/quotes/209237603/composite\" class=\"ticker__change\" field=\"percentChange\">-1.85%</bg-quote>\n",
      "<i class=\"icon\"></i>\n",
      "</a>, <a class=\"figure__image\" data-video-guid=\"\" href=\"https://www.marketwatch.com/story/pinduoduo-stock-rises-after-mixed-earnings-report-2022-03-21?mod=earnings\" role=\"presentation\" tabindex=\"-1\">\n",
      "</a>, <a class=\"link\" href=\"https://www.marketwatch.com/story/pinduoduo-stock-rises-after-mixed-earnings-report-2022-03-21?mod=earnings\">\n",
      "                            \n",
      "                            \n",
      "                            Pinduoduo stock rises after mixed earnings report\n",
      "                        </a>, <a class=\"ticker qt-chip j-qt-chip\" data-charting-symbol=\"STOCK/US/XNAS/PDD\" data-track-hover=\"QuotePeek\" href=\"https://www.marketwatch.com/investing/stock/pdd?mod=earnings\">\n",
      "<span class=\"ticker__symbol\">PDD</span>\n",
      "<bg-quote channel=\"/zigman2/quotes/208876581/composite\" class=\"ticker__change\" field=\"percentChange\">-6.13%</bg-quote>\n",
      "<i class=\"icon\"></i>\n",
      "</a>, <a class=\"figure__image\" data-video-guid=\"\" href=\"https://www.marketwatch.com/story/on-holding-shares-jump-after-sales-beat-guidance-ahead-of-expectations-2022-03-18?mod=earnings\" role=\"presentation\" tabindex=\"-1\">\n",
      "</a>, <a class=\"link\" href=\"https://www.marketwatch.com/story/on-holding-shares-jump-after-sales-beat-guidance-ahead-of-expectations-2022-03-18?mod=earnings\">\n",
      "                            \n",
      "                            \n",
      "                            On Holding shares jump after sales beat, guidance ahead of expectations\n",
      "                        </a>, <a class=\"ticker qt-chip j-qt-chip\" data-charting-symbol=\"INDEX/US/S&amp;P US/SPX\" data-track-hover=\"QuotePeek\" href=\"https://www.marketwatch.com/investing/index/spx?mod=earnings\">\n",
      "<span class=\"ticker__symbol\">SPX</span>\n",
      "<bg-quote channel=\"/zigman2/quotes/210599714/realtime\" class=\"ticker__change\" field=\"percentChange\">-0.04%</bg-quote>\n",
      "<i class=\"icon\"></i>\n",
      "</a>, <a class=\"figure__image\" data-video-guid=\"\" href=\"https://www.marketwatch.com/story/joann-stock-falls-after-retailer-misses-q4-expectations-saw-jump-in-freight-costs-2022-03-17?mod=earnings\" role=\"presentation\" tabindex=\"-1\">\n",
      "</a>, <a class=\"link\" href=\"https://www.marketwatch.com/story/joann-stock-falls-after-retailer-misses-q4-expectations-saw-jump-in-freight-costs-2022-03-17?mod=earnings\">\n",
      "                            \n",
      "                            \n",
      "                            JoAnn stock falls after retailer misses Q4 expectations, saw jump in freight costs\n",
      "                        </a>, <a class=\"ticker qt-chip j-qt-chip\" data-charting-symbol=\"STOCK/US/XNAS/JOAN\" data-track-hover=\"QuotePeek\" href=\"https://www.marketwatch.com/investing/stock/joan?mod=earnings\">\n",
      "<span class=\"ticker__symbol\">JOAN</span>\n",
      "<bg-quote channel=\"/zigman2/quotes/225253587/composite\" class=\"ticker__change\" field=\"percentChange\">-0.66%</bg-quote>\n",
      "<i class=\"icon\"></i>\n",
      "</a>, <a class=\"figure__image\" data-video-guid=\"\" href=\"https://www.marketwatch.com/story/gamestop-stock-falls-after-retailer-swings-to-surprise-q4-loss-confirms-nft-marketplace-plans-2022-03-17?mod=earnings\" role=\"presentation\" tabindex=\"-1\">\n",
      "</a>, <a class=\"link\" href=\"https://www.marketwatch.com/story/gamestop-stock-falls-after-retailer-swings-to-surprise-q4-loss-confirms-nft-marketplace-plans-2022-03-17?mod=earnings\">\n",
      "                            \n",
      "                            \n",
      "                            GameStop stock falls after retailer swings to surprise Q4 loss, confirms NFT marketplace plans\n",
      "                        </a>, <a class=\"ticker qt-chip j-qt-chip\" data-charting-symbol=\"STOCK/US/XNYS/GME\" data-track-hover=\"QuotePeek\" href=\"https://www.marketwatch.com/investing/stock/gme?mod=earnings\">\n",
      "<span class=\"ticker__symbol\">GME</span>\n",
      "<bg-quote channel=\"/zigman2/quotes/203755179/composite\" class=\"ticker__change\" field=\"percentChange\">3.76%</bg-quote>\n",
      "<i class=\"icon\"></i>\n",
      "</a>, <a class=\"figure__image\" data-video-guid=\"\" href=\"#\" role=\"presentation\" target=\"_blank\">\n",
      "<img alt=\"Read full story\" class=\"lazyload\">\n",
      "</img></a>, <a class=\"link\" href=\"#\" target=\"_blank\"></a>, <a class=\"ticker\">\n",
      "<span class=\"ticker__symbol\"></span>\n",
      "<bg-quote channel=\"\" class=\"ticker__change\" field=\"percentchange\" format=\"0,0.00%\"></bg-quote>\n",
      "<i class=\"icon\"></i>\n",
      "</a>, <a class=\"figure__image\" href=\"https://www.marketwatch.com/story/the-best-performing-sector-of-the-s-p-500-is-still-the-cheapest-while-technology-stocks-look-overvalued-11647870198?mod=earnings\" role=\"presentation\" tabindex=\"-1\">\n",
      "<img alt=\"Read full story\" class=\"lazyload\" data-src=\"https://images.mktw.net/im-508647\">\n",
      "</img></a>, <a href=\"https://www.marketwatch.com/story/the-best-performing-sector-of-the-s-p-500-is-still-the-cheapest-while-technology-stocks-look-overvalued-11647870198?mod=earnings\">The best-performing sector of the S&amp;P 500 is still the cheapest, while technology stocks look overvalued</a>, <a class=\"figure__image\" href=\"https://www.marketwatch.com/story/u-s-stock-futures-lose-ground-after-best-weekly-gain-in-more-than-a-year-11647854214?mod=earnings\" role=\"presentation\" tabindex=\"-1\">\n",
      "<img alt=\"Read full story\" class=\"lazyload\" data-src=\"https://images.mktw.net/im-509015\">\n",
      "</img></a>, <a href=\"https://www.marketwatch.com/story/u-s-stock-futures-lose-ground-after-best-weekly-gain-in-more-than-a-year-11647854214?mod=earnings\">Dow drops over 300 points as Fed’s Powell opens door to larger rate hikes</a>, <a class=\"figure__image\" href=\"https://www.marketwatch.com/story/his-ex-wife-is-a-snake-in-the-grass-my-husbands-ex-put-his-name-on-the-mortgage-of-their-home-but-not-on-the-deed-what-can-we-do-11647827034?mod=earnings\" role=\"presentation\" tabindex=\"-1\">\n",
      "<img alt=\"Read full story\" class=\"lazyload\" data-src=\"https://images.mktw.net/im-262198\">\n",
      "</img></a>, <a href=\"https://www.marketwatch.com/story/his-ex-wife-is-a-snake-in-the-grass-my-husbands-ex-put-his-name-on-the-mortgage-of-their-home-but-not-on-the-deed-what-can-we-do-11647827034?mod=earnings\">‘She and I don’t care for each other at all’: My husband’s ex-wife put his name on the mortgage of their home, but not on the deed. What can we do?</a>, <a class=\"figure__image\" href=\"https://www.marketwatch.com/video/sectorwatch/how-the-need-for-ev-battery-metals-is-creating-a-new-gold-rush/E7305F5E-AD49-4022-B069-042A6BADC56C.html?mod=earnings\" role=\"presentation\" tabindex=\"-1\">\n",
      "<img alt=\"Read full story\" class=\"lazyload\" data-sizes=\"auto\" data-srcset=\"https://images.mktw.net/im-498776?width=115&amp;height=65 115w,https://images.mktw.net/im-498776?width=120&amp;height=68 120w,https://images.mktw.net/im-498776?width=167&amp;height=94 167w,https://images.mktw.net/im-498776?width=198&amp;height=112 198w,https://images.mktw.net/im-498776?width=480&amp;height=270 480w,https://images.mktw.net/im-498776?width=512&amp;height=288 512w,https://images.mktw.net/im-498776?width=640&amp;height=360 640w,https://images.mktw.net/im-498776?width=960&amp;height=540 960w,https://images.mktw.net/im-498776?width=1280&amp;height=720 1280w,https://images.mktw.net/im-498776?width=1920&amp;height=1080 1920w\"/>\n",
      "</a>, <a href=\"https://www.marketwatch.com/video/sectorwatch/how-the-need-for-ev-battery-metals-is-creating-a-new-gold-rush/E7305F5E-AD49-4022-B069-042A6BADC56C.html?mod=earnings\">How the need for EV battery metals is creating a new gold rush</a>, <a class=\"figure__image\" href=\"https://www.marketwatch.com/story/kremlin-summons-u-s-ambassador-amid-threat-of-breach-in-bilateral-relations-01647879610?mod=earnings\" role=\"presentation\" tabindex=\"-1\">\n",
      "<img alt=\"Read full story\" class=\"lazyload\" data-src=\"https://images.mktw.net/im-508844\"/>\n",
      "</a>, <a href=\"https://www.marketwatch.com/story/kremlin-summons-u-s-ambassador-amid-threat-of-breach-in-bilateral-relations-01647879610?mod=earnings\">Kremlin summons U.S. ambassador amid threat of ‘breach’ in bilateral relations</a>, <a class=\"figure__image\" href=\"https://www.marketwatch.com/story/the-housing-market-is-in-the-early-stages-of-a-substantial-downshift-home-sales-may-drop-25-by-the-end-of-summer-according-to-this-analyst-11647884229?mod=earnings\" role=\"presentation\" tabindex=\"-1\">\n",
      "<img alt=\"Read full story\" class=\"lazyload\" data-src=\"https://images.mktw.net/im-508903\"/>\n",
      "</a>, <a href=\"https://www.marketwatch.com/story/the-housing-market-is-in-the-early-stages-of-a-substantial-downshift-home-sales-may-drop-25-by-the-end-of-summer-according-to-this-analyst-11647884229?mod=earnings\">‘The housing market is in the early stages of a substantial downshift’: Home sales may drop 25% by the end of summer, according to this analyst</a>, <a class=\"figure__image\" href=\"https://www.marketwatch.com/story/we-calculated-how-much-more-gas-is-costing-for-every-type-of-vehiclesee-how-yours-stacks-up-11647635076?mod=earnings\" role=\"presentation\" tabindex=\"-1\">\n",
      "<img alt=\"Read full story\" class=\"lazyload\" data-src=\"https://images.mktw.net/im-506920\"/>\n",
      "</a>, <a href=\"https://www.marketwatch.com/story/we-calculated-how-much-more-gas-is-costing-for-every-type-of-vehiclesee-how-yours-stacks-up-11647635076?mod=earnings\">We calculated how much more gas is costing for every type of vehicle—see how yours stacks up</a>, <a class=\"figure__image\" href=\"https://www.marketwatch.com/story/who-wins-when-equifax-transunion-and-experian-stop-counting-medical-debt-in-credit-reports-and-who-misses-out-11647634981?mod=earnings\" role=\"presentation\" tabindex=\"-1\">\n",
      "<img alt=\"Read full story\" class=\"lazyload\" data-src=\"https://images.mktw.net/im-507915\"/>\n",
      "</a>, <a href=\"https://www.marketwatch.com/story/who-wins-when-equifax-transunion-and-experian-stop-counting-medical-debt-in-credit-reports-and-who-misses-out-11647634981?mod=earnings\">Equifax, TransUnion and Experian will soon stop counting medical debt in credit reports — now, for the bad news</a>, <a class=\"figure__image\" href=\"https://www.marketwatch.com/video/sectorwatch/3-healthcare-trends-to-expect-in-2022/F81CDD3A-ED56-44FC-96B5-CE101F13E9E8.html?mod=earnings\" role=\"presentation\" tabindex=\"-1\">\n",
      "<img alt=\"Read full story\" class=\"lazyload\" data-sizes=\"auto\" data-srcset=\"https://images.mktw.net/im-490436?width=115&amp;height=65 115w,https://images.mktw.net/im-490436?width=120&amp;height=68 120w,https://images.mktw.net/im-490436?width=167&amp;height=94 167w,https://images.mktw.net/im-490436?width=198&amp;height=112 198w,https://images.mktw.net/im-490436?width=480&amp;height=270 480w,https://images.mktw.net/im-490436?width=512&amp;height=288 512w,https://images.mktw.net/im-490436?width=640&amp;height=360 640w,https://images.mktw.net/im-490436?width=960&amp;height=540 960w,https://images.mktw.net/im-490436?width=1280&amp;height=720 1280w,https://images.mktw.net/im-490436?width=1920&amp;height=1080 1920w\"/>\n",
      "</a>, <a href=\"https://www.marketwatch.com/video/sectorwatch/3-healthcare-trends-to-expect-in-2022/F81CDD3A-ED56-44FC-96B5-CE101F13E9E8.html?mod=earnings\">3 healthcare trends to expect in 2022</a>, <a class=\"figure__image\" href=\"https://www.marketwatch.com/picks/reduced-competition-5-predictions-for-the-housing-market-in-2022-from-economists-and-real-estate-pros-01647616356?mod=earnings\" role=\"presentation\" tabindex=\"-1\">\n",
      "<img alt=\"Read full story\" class=\"lazyload\" data-src=\"https://images.mktw.net/im-475405\"/>\n",
      "</a>, <a href=\"https://www.marketwatch.com/picks/reduced-competition-5-predictions-for-the-housing-market-in-2022-from-economists-and-real-estate-pros-01647616356?mod=earnings\">‘Reduced competition.’ 5 predictions for the housing market in 2022, from economists and real estate pros</a>, <a href=\"https://www.marketwatch.com/newsletters\">Select a newsletter</a>, <a href=\"https://www.marketwatch.com/tools/earningscalendar\">Earnings Calendar</a>, <a href=\"https://www.marketwatch.com/column/earnings-watch\">Earnings Watch</a>, <a href=\"https://www.marketwatch.com/column/earnings-outlook\">Earnings Outlook</a>, <a href=\"https://www.marketwatch.com/column/earnings-results\">Earnings Results</a>, <a class=\"figure__image\" data-video-guid=\"\" href=\"https://www.marketwatch.com/story/guess-calls-legion-partners-efforts-to-remove-the-marcianos-from-the-company-board-a-massive-distraction-2022-03-17?mod=earnings\" role=\"presentation\" tabindex=\"-1\">\n",
      "</a>, <a class=\"link\" href=\"https://www.marketwatch.com/story/guess-calls-legion-partners-efforts-to-remove-the-marcianos-from-the-company-board-a-massive-distraction-2022-03-17?mod=earnings\">\n",
      "                            \n",
      "                            \n",
      "                            Guess calls Legion Partners efforts to remove the Marcianos from the company board a 'massive distraction'\n",
      "                        </a>, <a class=\"ticker qt-chip j-qt-chip\" data-charting-symbol=\"INDEX/US/S&amp;P US/SPX\" data-track-hover=\"QuotePeek\" href=\"https://www.marketwatch.com/investing/index/spx?mod=earnings\">\n",
      "<span class=\"ticker__symbol\">SPX</span>\n",
      "<bg-quote channel=\"/zigman2/quotes/210599714/realtime\" class=\"ticker__change\" field=\"percentChange\">-0.04%</bg-quote>\n",
      "<i class=\"icon\"></i>\n",
      "</a>, <a class=\"figure__image\" data-video-guid=\"\" href=\"https://www.marketwatch.com/story/calvin-klein-parent-g-iii-stock-soars-after-earnings-beat-and-upbeat-outlook-2022-03-17?mod=earnings\" role=\"presentation\" tabindex=\"-1\">\n",
      "</a>, <a class=\"link\" href=\"https://www.marketwatch.com/story/calvin-klein-parent-g-iii-stock-soars-after-earnings-beat-and-upbeat-outlook-2022-03-17?mod=earnings\">\n",
      "                            \n",
      "                            \n",
      "                            Calvin Klein parent G-III stock soars after earnings beat and upbeat outlook\n",
      "                        </a>, <a class=\"ticker qt-chip j-qt-chip\" data-charting-symbol=\"INDEX/US/S&amp;P US/SPX\" data-track-hover=\"QuotePeek\" href=\"https://www.marketwatch.com/investing/index/spx?mod=earnings\">\n",
      "<span class=\"ticker__symbol\">SPX</span>\n",
      "<bg-quote channel=\"/zigman2/quotes/210599714/realtime\" class=\"ticker__change\" field=\"percentChange\">-0.04%</bg-quote>\n",
      "<i class=\"icon\"></i>\n",
      "</a>, <a class=\"figure__image\" data-video-guid=\"\" href=\"https://www.marketwatch.com/story/nucor-first-quarter-earnings-forecast-falls-short-of-wall-street-estimates-2022-03-17?mod=earnings\" role=\"presentation\" tabindex=\"-1\">\n",
      "</a>, <a class=\"link\" href=\"https://www.marketwatch.com/story/nucor-first-quarter-earnings-forecast-falls-short-of-wall-street-estimates-2022-03-17?mod=earnings\">\n",
      "                            \n",
      "                            \n",
      "                            Nucor first-quarter earnings forecast falls short of Wall Street estimates \n",
      "                        </a>, <a class=\"ticker qt-chip j-qt-chip\" data-charting-symbol=\"STOCK/US/XNYS/NUE\" data-track-hover=\"QuotePeek\" href=\"https://www.marketwatch.com/investing/stock/nue?mod=earnings\">\n",
      "<span class=\"ticker__symbol\">NUE</span>\n",
      "<bg-quote channel=\"/zigman2/quotes/201889722/composite\" class=\"ticker__change\" field=\"percentChange\">4.84%</bg-quote>\n",
      "<i class=\"icon\"></i>\n",
      "</a>, <a class=\"figure__image\" data-video-guid=\"\" href=\"https://www.marketwatch.com/story/cannabis-company-ayr-wellness-swings-to-gain-but-posts-operating-loss-as-revenue-more-than-doubles-2022-03-17?mod=earnings\" role=\"presentation\" tabindex=\"-1\">\n",
      "</a>, <a class=\"link\" href=\"https://www.marketwatch.com/story/cannabis-company-ayr-wellness-swings-to-gain-but-posts-operating-loss-as-revenue-more-than-doubles-2022-03-17?mod=earnings\">\n",
      "                            \n",
      "                            \n",
      "                            Cannabis company Ayr Wellness swings to gain but posts operating loss as revenue more than doubles\n",
      "                        </a>, <a class=\"ticker qt-chip j-qt-chip\" data-charting-symbol=\"STOCK/US/OOTC/AYRWF\" data-track-hover=\"QuotePeek\" href=\"https://www.marketwatch.com/investing/stock/ayrwf?mod=earnings\">\n",
      "<span class=\"ticker__symbol\">AYRWF</span>\n",
      "<bg-quote channel=\"/zigman2/quotes/201137876/delayed\" class=\"ticker__change\" field=\"percentChange\">-2.36%</bg-quote>\n",
      "<i class=\"icon\"></i>\n",
      "</a>, <a class=\"figure__image\" data-video-guid=\"\" href=\"https://www.marketwatch.com/story/warby-parker-stock-sinks-after-wider-than-expected-loss-2022-03-17?mod=earnings\" role=\"presentation\" tabindex=\"-1\">\n",
      "</a>, <a class=\"link\" href=\"https://www.marketwatch.com/story/warby-parker-stock-sinks-after-wider-than-expected-loss-2022-03-17?mod=earnings\">\n",
      "                            \n",
      "                            \n",
      "                            Warby Parker stock sinks after wider-than-expected loss\n",
      "                        </a>, <a class=\"ticker qt-chip j-qt-chip\" data-charting-symbol=\"INDEX/US/S&amp;P US/SPX\" data-track-hover=\"QuotePeek\" href=\"https://www.marketwatch.com/investing/index/spx?mod=earnings\">\n",
      "<span class=\"ticker__symbol\">SPX</span>\n",
      "<bg-quote channel=\"/zigman2/quotes/210599714/realtime\" class=\"ticker__change\" field=\"percentChange\">-0.04%</bg-quote>\n",
      "<i class=\"icon\"></i>\n",
      "</a>, <a class=\"figure__image\" data-video-guid=\"\" href=\"https://www.marketwatch.com/story/signet-stock-pops-after-sales-beat-dividend-raise-and-upbeat-guidance-2022-03-17?mod=earnings\" role=\"presentation\" tabindex=\"-1\">\n",
      "</a>, <a class=\"link\" href=\"https://www.marketwatch.com/story/signet-stock-pops-after-sales-beat-dividend-raise-and-upbeat-guidance-2022-03-17?mod=earnings\">\n",
      "                            \n",
      "                            \n",
      "                            Signet stock pops after sales beat, dividend raise and upbeat guidance \n",
      "                        </a>, <a class=\"ticker qt-chip j-qt-chip\" data-charting-symbol=\"INDEX/US/S&amp;P US/SPX\" data-track-hover=\"QuotePeek\" href=\"https://www.marketwatch.com/investing/index/spx?mod=earnings\">\n",
      "<span class=\"ticker__symbol\">SPX</span>\n",
      "<bg-quote channel=\"/zigman2/quotes/210599714/realtime\" class=\"ticker__change\" field=\"percentChange\">-0.04%</bg-quote>\n",
      "<i class=\"icon\"></i>\n",
      "</a>, <a class=\"figure__image\" data-video-guid=\"\" href=\"https://www.marketwatch.com/story/dollar-general-stock-jumps-after-upbeat-outlook-2022-03-17?mod=earnings\" role=\"presentation\" tabindex=\"-1\">\n",
      "</a>, <a class=\"link\" href=\"https://www.marketwatch.com/story/dollar-general-stock-jumps-after-upbeat-outlook-2022-03-17?mod=earnings\">\n",
      "                            \n",
      "                            \n",
      "                            Dollar General stock jumps after upbeat outlook\n",
      "                        </a>, <a class=\"ticker qt-chip j-qt-chip\" data-charting-symbol=\"INDEX/US/S&amp;P US/SPX\" data-track-hover=\"QuotePeek\" href=\"https://www.marketwatch.com/investing/index/spx?mod=earnings\">\n",
      "<span class=\"ticker__symbol\">SPX</span>\n",
      "<bg-quote channel=\"/zigman2/quotes/210599714/realtime\" class=\"ticker__change\" field=\"percentChange\">-0.04%</bg-quote>\n",
      "<i class=\"icon\"></i>\n",
      "</a>, <a class=\"figure__image\" data-video-guid=\"\" href=\"https://www.marketwatch.com/story/lennar-stock-rises-more-than-2-after-q1-profit-tops-views-2022-03-16?mod=earnings\" role=\"presentation\" tabindex=\"-1\">\n",
      "</a>, <a class=\"link\" href=\"https://www.marketwatch.com/story/lennar-stock-rises-more-than-2-after-q1-profit-tops-views-2022-03-16?mod=earnings\">\n",
      "                            \n",
      "                            \n",
      "                            Lennar stock rises more than 2% after Q1 profit tops views\n",
      "                        </a>, <a class=\"ticker qt-chip j-qt-chip\" data-charting-symbol=\"STOCK/US/XNYS/LEN\" data-track-hover=\"QuotePeek\" href=\"https://www.marketwatch.com/investing/stock/len?mod=earnings\">\n",
      "<span class=\"ticker__symbol\">LEN</span>\n",
      "<bg-quote channel=\"/zigman2/quotes/202536373/composite\" class=\"ticker__change\" field=\"percentChange\">-4.67%</bg-quote>\n",
      "<i class=\"icon\"></i>\n",
      "</a>, <a class=\"figure__image\" data-video-guid=\"\" href=\"https://www.marketwatch.com/story/williams-sonoma-q4-profit-beats-expectations-retailer-raises-dividend-by-10-2022-03-16?mod=earnings\" role=\"presentation\" tabindex=\"-1\">\n",
      "</a>, <a class=\"link\" href=\"https://www.marketwatch.com/story/williams-sonoma-q4-profit-beats-expectations-retailer-raises-dividend-by-10-2022-03-16?mod=earnings\">\n",
      "                            \n",
      "                            \n",
      "                            Williams-Sonoma Q4 profit beats expectations, retailer raises dividend by 10%\n",
      "                        </a>, <a class=\"ticker qt-chip j-qt-chip\" data-charting-symbol=\"STOCK/US/XNYS/WSM\" data-track-hover=\"QuotePeek\" href=\"https://www.marketwatch.com/investing/stock/wsm?mod=earnings\">\n",
      "<span class=\"ticker__symbol\">WSM</span>\n",
      "<bg-quote channel=\"/zigman2/quotes/202067350/composite\" class=\"ticker__change\" field=\"percentChange\">-3.38%</bg-quote>\n",
      "<i class=\"icon\"></i>\n",
      "</a>, <a class=\"figure__image\" data-video-guid=\"\" href=\"https://www.marketwatch.com/story/jabil-stock-jumps-after-earnings-outlook-top-expectations-2022-03-16?mod=earnings\" role=\"presentation\" tabindex=\"-1\">\n",
      "</a>, <a class=\"link\" href=\"https://www.marketwatch.com/story/jabil-stock-jumps-after-earnings-outlook-top-expectations-2022-03-16?mod=earnings\">\n",
      "                            \n",
      "                            \n",
      "                            Jabil stock jumps after earnings, outlook top expectations\n",
      "                        </a>, <a class=\"ticker qt-chip j-qt-chip\" data-charting-symbol=\"STOCK/US/XNYS/JBL\" data-track-hover=\"QuotePeek\" href=\"https://www.marketwatch.com/investing/stock/jbl?mod=earnings\">\n",
      "<span class=\"ticker__symbol\">JBL</span>\n",
      "<bg-quote channel=\"/zigman2/quotes/203847835/composite\" class=\"ticker__change\" field=\"percentChange\">-0.41%</bg-quote>\n",
      "<i class=\"icon\"></i>\n",
      "</a>, <a class=\"figure__image\" data-video-guid=\"\" href=\"https://www.marketwatch.com/story/shoe-carnival-stock-rises-after-profit-blows-past-expectations-and-dividend-raised-2022-03-16?mod=earnings\" role=\"presentation\" tabindex=\"-1\">\n",
      "</a>, <a class=\"link\" href=\"https://www.marketwatch.com/story/shoe-carnival-stock-rises-after-profit-blows-past-expectations-and-dividend-raised-2022-03-16?mod=earnings\">\n",
      "                            \n",
      "                            \n",
      "                            Shoe Carnival stock rises after profit blows past expectations and dividend raised\n",
      "                        </a>, <a class=\"ticker qt-chip j-qt-chip\" data-charting-symbol=\"INDEX/US/S&amp;P US/SPX\" data-track-hover=\"QuotePeek\" href=\"https://www.marketwatch.com/investing/index/spx?mod=earnings\">\n",
      "<span class=\"ticker__symbol\">SPX</span>\n",
      "<bg-quote channel=\"/zigman2/quotes/210599714/realtime\" class=\"ticker__change\" field=\"percentChange\">-0.04%</bg-quote>\n",
      "<i class=\"icon\"></i>\n",
      "</a>, <a class=\"figure__image\" data-video-guid=\"\" href=\"https://www.marketwatch.com/story/american-airlines-stock-climbs-after-revenue-outlook-raised-but-costs-estimate-also-increased-2022-03-15?mod=earnings\" role=\"presentation\" tabindex=\"-1\">\n",
      "</a>, <a class=\"link\" href=\"https://www.marketwatch.com/story/american-airlines-stock-climbs-after-revenue-outlook-raised-but-costs-estimate-also-increased-2022-03-15?mod=earnings\">\n",
      "                            \n",
      "                            \n",
      "                            American Airlines stock climbs after revenue outlook raised, but costs estimate also increased\n",
      "                        </a>, <a class=\"ticker qt-chip j-qt-chip\" data-charting-symbol=\"INDEX/US/S&amp;P US/SPX\" data-track-hover=\"QuotePeek\" href=\"https://www.marketwatch.com/investing/index/spx?mod=earnings\">\n",
      "<span class=\"ticker__symbol\">SPX</span>\n",
      "<bg-quote channel=\"/zigman2/quotes/210599714/realtime\" class=\"ticker__change\" field=\"percentChange\">-0.04%</bg-quote>\n",
      "<i class=\"icon\"></i>\n",
      "</a>, <a class=\"figure__image\" data-video-guid=\"\" href=\"https://www.marketwatch.com/story/gitlab-stock-rallies-more-than-10-on-strong-results-outlook-11647290498?mod=earnings\" role=\"presentation\" tabindex=\"-1\">\n",
      "<img alt=\"Read full story\" class=\"lazyload\" data-sizes=\"auto\" data-srcset=\"https://images.mktw.net/im-417254?size=1.777777777777778&amp;width=220 220w,https://images.mktw.net/im-417254?size=1.777777777777778&amp;width=300 300w,https://images.mktw.net/im-417254?size=1.777777777777778&amp;width=460 460w,https://images.mktw.net/im-417254?size=1.777777777777778&amp;width=800 800w,https://images.mktw.net/im-417254?size=1.777777777777778&amp;width=920 920w,https://images.mktw.net/im-417254?size=1.777777777777778&amp;width=1240 1240w,https://images.mktw.net/im-417254?size=1.777777777777778&amp;width=1240 1240w\"/>\n",
      "</a>, <a class=\"link\" href=\"https://www.marketwatch.com/story/gitlab-stock-rallies-more-than-10-on-strong-results-outlook-11647290498?mod=earnings\">\n",
      "                            \n",
      "                            \n",
      "                            GitLab stock rallies more than 10% on strong results, outlook\n",
      "                        </a>, <a class=\"ticker qt-chip j-qt-chip\" data-charting-symbol=\"STOCK/US/XNAS/GTLB\" data-track-hover=\"QuotePeek\" href=\"https://www.marketwatch.com/investing/stock/gtlb?mod=earnings\">\n",
      "<span class=\"ticker__symbol\">GTLB</span>\n",
      "<bg-quote channel=\"/zigman2/quotes/206616641/composite\" class=\"ticker__change\" field=\"percentChange\">-9.14%</bg-quote>\n",
      "<i class=\"icon\"></i>\n",
      "</a>, <a class=\"figure__image\" data-video-guid=\"\" href=\"https://www.marketwatch.com/story/raos-parent-sovos-brands-reports-better-than-expected-earnings-gives-upbeat-guidance-2022-03-15?mod=earnings\" role=\"presentation\" tabindex=\"-1\">\n",
      "</a>, <a class=\"link\" href=\"https://www.marketwatch.com/story/raos-parent-sovos-brands-reports-better-than-expected-earnings-gives-upbeat-guidance-2022-03-15?mod=earnings\">\n",
      "                            \n",
      "                            \n",
      "                            Rao's parent Sovos Brands reports better-than-expected earnings, gives upbeat guidance\n",
      "                        </a>, <a class=\"ticker qt-chip j-qt-chip\" data-charting-symbol=\"INDEX/US/S&amp;P US/SPX\" data-track-hover=\"QuotePeek\" href=\"https://www.marketwatch.com/investing/index/spx?mod=earnings\">\n",
      "<span class=\"ticker__symbol\">SPX</span>\n",
      "<bg-quote channel=\"/zigman2/quotes/210599714/realtime\" class=\"ticker__change\" field=\"percentChange\">-0.04%</bg-quote>\n",
      "<i class=\"icon\"></i>\n",
      "</a>, <a class=\"figure__image\" data-video-guid=\"\" href=\"https://www.marketwatch.com/story/jetblue-stock-surges-after-revenue-outlook-raised-while-capacity-estimate-moderated-2022-03-15?mod=earnings\" role=\"presentation\" tabindex=\"-1\">\n",
      "</a>, <a class=\"link\" href=\"https://www.marketwatch.com/story/jetblue-stock-surges-after-revenue-outlook-raised-while-capacity-estimate-moderated-2022-03-15?mod=earnings\">\n",
      "                            \n",
      "                            \n",
      "                            JetBlue stock surges after revenue outlook raised, while capacity estimate 'moderated'\n",
      "                        </a>, <a class=\"ticker qt-chip j-qt-chip\" data-charting-symbol=\"INDEX/US/S&amp;P US/SPX\" data-track-hover=\"QuotePeek\" href=\"https://www.marketwatch.com/investing/index/spx?mod=earnings\">\n",
      "<span class=\"ticker__symbol\">SPX</span>\n",
      "<bg-quote channel=\"/zigman2/quotes/210599714/realtime\" class=\"ticker__change\" field=\"percentChange\">-0.04%</bg-quote>\n",
      "<i class=\"icon\"></i>\n",
      "</a>, <a class=\"figure__image\" data-video-guid=\"\" href=\"https://www.marketwatch.com/story/united-airlines-holdings-boosts-outlook-as-travel-rebounds-2022-03-15?mod=earnings\" role=\"presentation\" tabindex=\"-1\">\n",
      "</a>, <a class=\"link\" href=\"https://www.marketwatch.com/story/united-airlines-holdings-boosts-outlook-as-travel-rebounds-2022-03-15?mod=earnings\">\n",
      "                            \n",
      "                            \n",
      "                            United Airlines Holdings boosts outlook as travel rebounds\n",
      "                        </a>, <a class=\"ticker qt-chip j-qt-chip\" data-charting-symbol=\"STOCK/US/XNAS/UAL\" data-track-hover=\"QuotePeek\" href=\"https://www.marketwatch.com/investing/stock/ual?mod=earnings\">\n",
      "<span class=\"ticker__symbol\">UAL</span>\n",
      "<bg-quote channel=\"/zigman2/quotes/205037281/composite\" class=\"ticker__change\" field=\"percentChange\">-3.54%</bg-quote>\n",
      "<i class=\"icon\"></i>\n",
      "</a>, <a class=\"figure__image\" data-video-guid=\"\" href=\"https://www.marketwatch.com/story/delta-air-lines-stock-falls-after-revenue-outlook-raised-while-fuel-price-estimate-also-boosted-2022-03-15?mod=earnings\" role=\"presentation\" tabindex=\"-1\">\n",
      "</a>, <a class=\"link\" href=\"https://www.marketwatch.com/story/delta-air-lines-stock-falls-after-revenue-outlook-raised-while-fuel-price-estimate-also-boosted-2022-03-15?mod=earnings\">\n",
      "                            \n",
      "                            \n",
      "                            Delta Air Lines stock turns higher after revenue outlook raised after strong March\n",
      "                        </a>, <a class=\"ticker qt-chip j-qt-chip\" data-charting-symbol=\"INDEX/US/S&amp;P US/SPX\" data-track-hover=\"QuotePeek\" href=\"https://www.marketwatch.com/investing/index/spx?mod=earnings\">\n",
      "<span class=\"ticker__symbol\">SPX</span>\n",
      "<bg-quote channel=\"/zigman2/quotes/210599714/realtime\" class=\"ticker__change\" field=\"percentChange\">-0.04%</bg-quote>\n",
      "<i class=\"icon\"></i>\n",
      "</a>, <a class=\"figure__image\" data-video-guid=\"\" href=\"https://www.marketwatch.com/story/southwest-airlines-stock-jumps-after-revenue-outlook-raised-2022-03-15?mod=earnings\" role=\"presentation\" tabindex=\"-1\">\n",
      "</a>, <a class=\"link\" href=\"https://www.marketwatch.com/story/southwest-airlines-stock-jumps-after-revenue-outlook-raised-2022-03-15?mod=earnings\">\n",
      "                            \n",
      "                            \n",
      "                            Southwest Airlines stock jumps after revenue outlook raised\n",
      "                        </a>, <a class=\"ticker qt-chip j-qt-chip\" data-charting-symbol=\"INDEX/US/S&amp;P US/SPX\" data-track-hover=\"QuotePeek\" href=\"https://www.marketwatch.com/investing/index/spx?mod=earnings\">\n",
      "<span class=\"ticker__symbol\">SPX</span>\n",
      "<bg-quote channel=\"/zigman2/quotes/210599714/realtime\" class=\"ticker__change\" field=\"percentChange\">-0.04%</bg-quote>\n",
      "<i class=\"icon\"></i>\n",
      "</a>, <a class=\"figure__image\" data-video-guid=\"\" href=\"https://www.marketwatch.com/story/dole-tops-estimates-for-q4-and-offers-upbeat-2022-guidance-2022-03-15?mod=earnings\" role=\"presentation\" tabindex=\"-1\">\n",
      "</a>, <a class=\"link\" href=\"https://www.marketwatch.com/story/dole-tops-estimates-for-q4-and-offers-upbeat-2022-guidance-2022-03-15?mod=earnings\">\n",
      "                            \n",
      "                            \n",
      "                            Dole tops estimates for Q4 and offers upbeat 2022 guidance\n",
      "                        </a>, <a class=\"ticker qt-chip j-qt-chip\" data-charting-symbol=\"INDEX/US/S&amp;P US/SPX\" data-track-hover=\"QuotePeek\" href=\"https://www.marketwatch.com/investing/index/spx?mod=earnings\">\n",
      "<span class=\"ticker__symbol\">SPX</span>\n",
      "<bg-quote channel=\"/zigman2/quotes/210599714/realtime\" class=\"ticker__change\" field=\"percentChange\">-0.04%</bg-quote>\n",
      "<i class=\"icon\"></i>\n",
      "</a>, <a class=\"figure__image\" data-video-guid=\"\" href=\"https://www.marketwatch.com/story/avocado-prices-jumped-50-in-the-past-year-but-mission-produce-stock-is-still-plummeting-toward-its-lowest-prices-since-ipo-11646952671?mod=earnings\" role=\"presentation\" tabindex=\"-1\">\n",
      "<img alt=\"Read full story\" class=\"lazyload\" data-sizes=\"auto\" data-srcset=\"https://images.mktw.net/im-485359?size=1.777777777777778&amp;width=220 220w,https://images.mktw.net/im-485359?size=1.777777777777778&amp;width=300 300w,https://images.mktw.net/im-485359?size=1.777777777777778&amp;width=460 460w,https://images.mktw.net/im-485359?size=1.777777777777778&amp;width=800 800w,https://images.mktw.net/im-485359?size=1.777777777777778&amp;width=920 920w,https://images.mktw.net/im-485359?size=1.777777777777778&amp;width=1240 1240w,https://images.mktw.net/im-485359?size=1.777777777777778&amp;width=1240 1240w\"/>\n",
      "</a>, <a class=\"link\" href=\"https://www.marketwatch.com/story/avocado-prices-jumped-50-in-the-past-year-but-mission-produce-stock-is-still-plummeting-toward-its-lowest-prices-since-ipo-11646952671?mod=earnings\">\n",
      "                            \n",
      "                            \n",
      "                            Avocado prices jumped 50% in the past year, but Mission Produce stock is still plummeting toward its lowest prices since IPO\n",
      "                        </a>, <a class=\"ticker qt-chip j-qt-chip\" data-charting-symbol=\"STOCK/US/XNAS/AVO\" data-track-hover=\"QuotePeek\" href=\"https://www.marketwatch.com/investing/stock/avo?mod=earnings\">\n",
      "<span class=\"ticker__symbol\">AVO</span>\n",
      "<bg-quote channel=\"/zigman2/quotes/221441980/composite\" class=\"ticker__change\" field=\"percentChange\">0.26%</bg-quote>\n",
      "<i class=\"icon\"></i>\n",
      "</a>, <a class=\"figure__image\" data-video-guid=\"\" href=\"#\" role=\"presentation\" target=\"_blank\">\n",
      "<img alt=\"Read full story\" class=\"lazyload\">\n",
      "</img></a>, <a class=\"link\" href=\"#\" target=\"_blank\"></a>, <a class=\"ticker\">\n",
      "<span class=\"ticker__symbol\"></span>\n",
      "<bg-quote channel=\"\" class=\"ticker__change\" field=\"percentchange\" format=\"0,0.00%\"></bg-quote>\n",
      "<i class=\"icon\"></i>\n",
      "</a>, <a aria-hidden=\"true\" class=\"figure__image\" href=\"\">\n",
      "<img alt=\"template\" src=\"\"/>\n",
      "</a>, <a href=\"\"></a>, <a class=\"sponsor__link\"><img alt=\"dianomi logo\" src=\"https://www.dianomi.com/img/uploads/VfG99MCoyKoAAGpDgiIAAAAI.png\"/></a>, <a class=\"logo logo--footer\" href=\"https://www.marketwatch.com/\"><svg aria-label=\"Logo\" aria-labelledby=\"mw-logo-footer-title mw-logo-footer-desc\" focusable=\"false\" id=\"Layer_1\" role=\"img\" style=\"enable-background:new 0 0 697.5 99.8;\" version=\"1.1\" viewbox=\"0 0 697.5 99.8\" x=\"0px\" xml:space=\"preserve\" xmlns=\"http://www.w3.org/2000/svg\" xmlns:xlink=\"http://www.w3.org/1999/xlink\" y=\"0px\">\n",
      "<title id=\"mw-logo-footer-title\">MarketWatch Logo</title>\n",
      "<desc id=\"mw-logo-footer-desc\">Go to the homepage.</desc>\n",
      "<style type=\"text/css\">\n",
      "\t.mw1{fill:#ffffff;}\n",
      "\t.mw2{fill:#00AC4E;}\n",
      "</style>\n",
      "<g>\n",
      "<g>\n",
      "<path class=\"mw1\" d=\"M168.9,41.8l-1.2,5.9h-0.3c-1.5-3.3-5.7-7.9-15-7.9c-15,0-30.3,11.6-33.7,29.9c-2.9,16,4.8,30.1,22.6,30.1\n",
      "\t\t\tc6.5,0,14-2.5,17.9-8h0.3l-1.1,6H175l10.4-56H168.9z M163.5,69.7c-1.1,5.5-6.3,14.4-16.7,14.4c-10.2,0-12.3-9-11.4-14.2\n",
      "\t\t\tc1.2-6.4,6.9-14.4,16.6-14.4C161.5,55.6,164.7,63.1,163.5,69.7z\"></path>\n",
      "<path class=\"mw1\" d=\"M194.8,41.8h15.6l-1.1,5.9h0.3c2-2.7,5.9-7.9,15.5-7.9l-3.1,17c-7.9,0.1-13.6,1.7-15.1,10.3l-5.7,30.7h-16.8\n",
      "\t\t\tL194.8,41.8z\"></path>\n",
      "<polygon class=\"mw1\" points=\"236.4,19.9 253.2,19.9 245.3,62.1 245.6,62.1 265,41.8 284.7,41.8 259.1,66.4 273.8,97.8 254.8,97.8\n",
      "\t\t\t244,70.8 243.7,70.8 238.8,97.8 221.9,97.8 \t\t\"></polygon>\n",
      "<path class=\"mw1\" d=\"M311.6,39.8c-17,0-32.1,14.6-34.9,30.2c-3.1,16.6,8.1,29.7,24.2,29.7c5.7,0,11.6-1.7,16.8-5.1\n",
      "\t\t\tc5.3-3.2,10.2-8,14-14.3h-17.1c-2.8,2.9-6,5.2-11.2,5.2c-6.5,0-11.4-3.9-11.1-10.6h42c0.5-1.3,0.8-2.3,1.2-4.4\n",
      "\t\t\tC338.7,53.4,328.7,39.8,311.6,39.8z M294.6,63.6c1.3-3.3,5.9-9.6,14.6-9.6c8.7,0,10.8,6.3,10.8,9.6H294.6z\"></path>\n",
      "<polygon class=\"mw1\" points=\"96.5,19.9 66.9,64.3 66.7,64.3 66.7,19.9 52.4,19.9 0,97.8 20.3,97.8 49.7,53.4 50,53.4 50,97.8\n",
      "\t\t\t64.4,97.8 93.8,53.4 94.1,53.4 94.1,97.8 110.9,97.8 110.9,19.9 \t\t\"></polygon>\n",
      "<path class=\"mw1\" d=\"M378,41.8h-10.6l3.1-16.6h-14.7l-1.2,6.4c-1.3,7.3-5.9,9.5-12,10.2h-0.1L340,54.5h8.3l-8,43.3H357l8-43.3\n",
      "\t\t\th10.7L378,41.8z\"></path>\n",
      "</g>\n",
      "<g>\n",
      "<g>\n",
      "<path class=\"mw2\" d=\"M637.2,76.6c-5.5,12.7-18.6,23.1-33.7,23.1c-17,0-27.5-13.4-24.5-30.1c3.1-16.4,18.3-29.8,35.1-29.8\n",
      "\t\t\t\tc14.8,0,25,9.9,25.3,23.6h-17c-1.1-3.9-3.6-7.9-10.7-7.9c-7.9-0.4-14.4,6.1-15.9,14.2c-1.5,8.2,2.7,14.3,10.7,14.3\n",
      "\t\t\t\tc6.9,0,11.1-4,13.5-7.5H637.2z M498.4,0l-32.6,19.9h9.2l-29.5,44.4h-0.3V19.9h-14.4l-29.5,44.4H401V19.9h-16.8v77.9h14.6\n",
      "\t\t\t\tl29.5-44.4h0.3v44.4h14.4l52.2-77.9h8.3L498.4,0z M530.2,97.8h-16.6l1.1-6h-0.3c-3.9,5.5-11.4,8-17.9,8\n",
      "\t\t\t\tc-17.8,0-25.5-14-22.6-30.1c3.3-18.3,18.7-29.9,33.7-29.9c9.2,0,13.5,4.5,15,7.9h0.3l1.2-5.9h16.6L530.2,97.8z M502,84.2\n",
      "\t\t\t\tc10.4,0,15.6-9,16.7-14.4c1.2-6.7-2-14.2-11.5-14.2c-9.6,0-15.4,8-16.6,14.4C489.7,75.2,491.8,84.2,502,84.2L502,84.2z\n",
      "\t\t\t\t M582.5,41.8H572l3.1-16.6h-14.7l-1.2,6.4c-1.3,7.3-5.9,9.5-12,10.2H547l-2.4,12.7h8.3l-8,43.3h16.7l8-43.3h10.7L582.5,41.8z\n",
      "\t\t\t\t M653,19.9h16.7l-5.1,27.8h0.3c3.6-5.2,8.4-7.9,15.8-7.9c5.3,0,11.4,2,14.2,6.3c3.6,5.5,3.2,10.4,1.3,20.4l-5.7,31.3h-16.7\n",
      "\t\t\t\tl5.6-30.5c0.5-2.7,2.1-11.8-6.8-11.8c-9.4,0-11,8.4-11.5,11.2l-5.7,31h-16.7L653,19.9z\"></path>\n",
      "</g>\n",
      "</g>\n",
      "</g>\n",
      "</svg>\n",
      "</a>, <a class=\"link\" href=\"https://www.marketwatch.com/site/subscriber-agreement\" target=\"_blank\">Subscriber Agreement &amp; Terms of Use</a>, <a class=\"link\" href=\"https://www.dowjones.com/privacy-notice?mod=mw\" target=\"_blank\">Privacy Notice</a>, <a class=\"link\" href=\"https://www.dowjones.com/cookie-notice?mod=mw\" target=\"_blank\">Cookie Notice</a>, <a class=\"link\"></a>, <a class=\"icon icon--facebook\" href=\"https://www.facebook.com/marketwatch\" rel=\"nofollow\" target=\"_blank\"><span class=\"screen-reader-text\">Facebook</span></a>, <a class=\"icon icon--twitter\" href=\"https://twitter.com/marketwatch\" rel=\"nofollow\" target=\"_blank\"><span class=\"screen-reader-text\">Twitter</span></a>, <a class=\"icon icon--linkedin\" href=\"https://www.linkedin.com/company/marketwatch\" rel=\"nofollow\" target=\"_blank\"><span class=\"screen-reader-text\">LinkedIn</span></a>, <a class=\"app__link\" href=\"https://itunes.apple.com/app/marketwatch/id336693422?ign-mpt=uo%3D6&amp;mt=8\" rel=\"nofollow\" target=\"_blank\"><img alt=\"Download from the App Store\" class=\"lazyload\" data-src=\"https://sts3.wsj.net/bucket-a/maggie/static/images/app-store.svg\"/></a>, <a class=\"app__link\" href=\"https://play.google.com/store/apps/details?id=com.marketwatch&amp;hl=en\" rel=\"nofollow\" target=\"_blank\"><img alt=\"Download from the Google Play Store\" class=\"lazyload\" data-src=\"https://sts3.wsj.net/bucket-a/maggie/static/images/google-play.png\"/></a>, <a class=\"link\" href=\"https://customercenter.marketwatch.com/public\">Customer Center</a>, <a class=\"link\" href=\"https://customercenter.marketwatch.com/contact\">Contact Us</a>, <a class=\"link\" href=\"https://www.marketwatch.com/newsroom\">Newsroom Roster</a>, <a class=\"link\" href=\"https://www.marketwatch.com/games\">Virtual Stock Exchange</a>, <a class=\"link\" href=\"https://bigcharts.marketwatch.com\" target=\"_blank\">BigCharts</a>, <a class=\"link\" href=\"https://www.marketwatch.com/site/copyright-policy\">Copyright Policy</a>, <a class=\"link\" href=\"https://www.marketwatch.com/site/manage-web-notifications\">Manage Notifications</a>, <a class=\"link\" href=\"https://www.dowjones.com\" target=\"_blank\">Dow Jones</a>, <a class=\"link\" href=\"https://www.dowjones.com/code-conduct/\" rel=\"nofollow\" target=\"_blank\">Code of Conduct</a>, <a class=\"link\" href=\"https://www.marketwatch.com/column/corrections\">Corrections</a>, <a class=\"link\" href=\"http://www.djreprints.com\" rel=\"nofollow\" target=\"_blank\">Reprints &amp; Licensing</a>, <a class=\"link\" href=\"https://wsjbg-adsmanager.com/?action=login\" target=\"_blank\">Digital Self Service</a>, <a class=\"link\" href=\"https://www.dowjones.com/cookie-notice/#cookies-advertising\" target=\"_blank\">Your Ad Choices</a>, <a class=\"link\" href=\"https://corporate.marketwatch.com?mod=mw_footer\" target=\"_blank\">Corporate Subscriptions</a>, <a class=\"link\" href=\"https://www.dowjones.com/accessibility-statement/\" target=\"_blank\">Accessibility</a>, <a class=\"link\" href=\"https://www.wsj.com/\" target=\"_blank\">The Wall Street Journal</a>, <a class=\"link\" href=\"https://www.barrons.com\" target=\"_blank\">Barron's</a>, <a class=\"link\" href=\"https://www.fnlondon.com\" target=\"_blank\">Financial News London</a>, <a class=\"link\" href=\"https://www.realtor.com/\" target=\"_blank\">realtor.com</a>, <a class=\"link\" href=\"https://www.mansionglobal.com/\" target=\"_blank\">Mansion Global</a>, <a class=\"factset\" href=\"https://www.factset.com/\" rel=\"nofollow\" target=\"_blank\">FACTSET</a>, <a class=\"link\" href=\"https://www.marketwatch.com/support/investing-terms-of-use\">terms of use</a>, <a class=\"factset\" href=\"https://www.factset.com/\" rel=\"nofollow\" target=\"_blank\">FACTSET</a>, <a class=\"trending__link\" href=\"/investing/stock/nrsn?mod=trending-tickers\">\n",
      "<div class=\"link__content\">\n",
      "<div class=\"trending__data\">\n",
      "<span class=\"trending__symbol\">NRSN</span>\n",
      "<span class=\"price\"><bg-quote channel=\"/zigman2/quotes/230850337/composite\" class=\"value\" field=\"Last\" format=\"$0,0.00\" session=\"after\">$5.88</bg-quote></span>\n",
      "</div>\n",
      "<div class=\"trending__data\">\n",
      "<i class=\"icon\"></i>\n",
      "<span class=\"trending__change percent ignore-color\">\n",
      "<bg-quote channel=\"/zigman2/quotes/230850337/composite\" field=\"percentChange\" format=\"0.00%\" session=\"after\">-5.62%</bg-quote>\n",
      "</span>\n",
      "<span class=\"trending__change points ignore-color\">\n",
      "<bg-quote channel=\"/zigman2/quotes/230850337/composite\" field=\"change\" format=\"0,0.00\" session=\"after\">-0.35</bg-quote>\n",
      "</span>\n",
      "</div>\n",
      "</div>\n",
      "</a>, <a class=\"trending__link\" href=\"/investing/stock/qmco?mod=trending-tickers\">\n",
      "<div class=\"link__content\">\n",
      "<div class=\"trending__data\">\n",
      "<span class=\"trending__symbol\">QMCO</span>\n",
      "<span class=\"price\"><bg-quote channel=\"/zigman2/quotes/209248941/composite\" class=\"value\" field=\"Last\" format=\"$0,0.00\" session=\"after\">$2.31</bg-quote></span>\n",
      "</div>\n",
      "<div class=\"trending__data\">\n",
      "<i class=\"icon\"></i>\n",
      "<span class=\"trending__change percent ignore-color\">\n",
      "<bg-quote channel=\"/zigman2/quotes/209248941/composite\" field=\"percentChange\" format=\"0.00%\" session=\"after\">-0.86%</bg-quote>\n",
      "</span>\n",
      "<span class=\"trending__change points ignore-color\">\n",
      "<bg-quote channel=\"/zigman2/quotes/209248941/composite\" field=\"change\" format=\"0,0.00\" session=\"after\">-0.02</bg-quote>\n",
      "</span>\n",
      "</div>\n",
      "</div>\n",
      "</a>, <a class=\"trending__link\" href=\"/investing/stock/oii?mod=trending-tickers\">\n",
      "<div class=\"link__content\">\n",
      "<div class=\"trending__data\">\n",
      "<span class=\"trending__symbol\">OII</span>\n",
      "<span class=\"price\"><bg-quote channel=\"/zigman2/quotes/207545163/composite\" class=\"value\" field=\"Last\" format=\"$0,0.00\" session=\"after\">$15.76</bg-quote></span>\n",
      "</div>\n",
      "<div class=\"trending__data\">\n",
      "<i class=\"icon\"></i>\n",
      "<span class=\"trending__change percent ignore-color\">\n",
      "<bg-quote channel=\"/zigman2/quotes/207545163/composite\" field=\"percentChange\" format=\"0.00%\" session=\"after\">-2.84%</bg-quote>\n",
      "</span>\n",
      "<span class=\"trending__change points ignore-color\">\n",
      "<bg-quote channel=\"/zigman2/quotes/207545163/composite\" field=\"change\" format=\"0,0.00\" session=\"after\">-0.46</bg-quote>\n",
      "</span>\n",
      "</div>\n",
      "</div>\n",
      "</a>, <a class=\"trending__link\" href=\"/investing/stock/rigl?mod=trending-tickers\">\n",
      "<div class=\"link__content\">\n",
      "<div class=\"trending__data\">\n",
      "<span class=\"trending__symbol\">RIGL</span>\n",
      "<span class=\"price\"><bg-quote channel=\"/zigman2/quotes/207222917/composite\" class=\"value\" field=\"Last\" format=\"$0,0.00\" session=\"after\">$3.23</bg-quote></span>\n",
      "</div>\n",
      "<div class=\"trending__data\">\n",
      "<i class=\"icon\"></i>\n",
      "<span class=\"trending__change percent ignore-color\">\n",
      "<bg-quote channel=\"/zigman2/quotes/207222917/composite\" field=\"percentChange\" format=\"0.00%\" session=\"after\">0.00%</bg-quote>\n",
      "</span>\n",
      "<span class=\"trending__change points ignore-color\">\n",
      "<bg-quote channel=\"/zigman2/quotes/207222917/composite\" field=\"change\" format=\"0,0.00\" session=\"after\">0.00</bg-quote>\n",
      "</span>\n",
      "</div>\n",
      "</div>\n",
      "</a>, <a class=\"trending__link\" href=\"/investing/stock/isbc?mod=trending-tickers\">\n",
      "<div class=\"link__content\">\n",
      "<div class=\"trending__data\">\n",
      "<span class=\"trending__symbol\">ISBC</span>\n",
      "<span class=\"price\"><bg-quote channel=\"/zigman2/quotes/210297037/composite\" class=\"value\" field=\"Last\" format=\"$0,0.00\" session=\"after\">$15.89</bg-quote></span>\n",
      "</div>\n",
      "<div class=\"trending__data\">\n",
      "<i class=\"icon\"></i>\n",
      "<span class=\"trending__change percent ignore-color\">\n",
      "<bg-quote channel=\"/zigman2/quotes/210297037/composite\" field=\"percentChange\" format=\"0.00%\" session=\"after\">0.00%</bg-quote>\n",
      "</span>\n",
      "<span class=\"trending__change points ignore-color\">\n",
      "<bg-quote channel=\"/zigman2/quotes/210297037/composite\" field=\"change\" format=\"0,0.00\" session=\"after\">0.00</bg-quote>\n",
      "</span>\n",
      "</div>\n",
      "</div>\n",
      "</a>, <a class=\"link j-advanced-search\" href=\"https://www.marketwatch.com/search?q=\">Advanced Search</a>, <a class=\"results__item j-result-link is-private\" href=\"\">\n",
      "<div class=\"primary\">\n",
      "<h4 class=\"symbol\"><span class=\"j-company\"></span><small class=\"exchange exchange--private\">Private</small></h4>\n",
      "</div>\n",
      "</a>, <a class=\"results__item j-result-link\" href=\"\">\n",
      "<div class=\"primary\">\n",
      "<h4 class=\"symbol\"><span class=\"j-symbol\"></span><small class=\"exchange j-exchange\"></small></h4>\n",
      "<h5 class=\"company j-company\"></h5>\n",
      "</div>\n",
      "<div class=\"secondary j-quote\">\n",
      "<div class=\"price j-price\"></div>\n",
      "<span class=\"change j-point\"></span>\n",
      "<span class=\"change j-percent\"></span>\n",
      "</div>\n",
      "</a>, <a class=\"link j-result-link\" href=\"\"></a>, <a class=\"link j-result-link\" href=\"\"></a>, <a class=\"link label\" href=\"https://www.marketwatch.com/video\">Video Center<i class=\"icon icon--arrow-right\"></i></a>, <a class=\"video__link\" href=\"#\" target=\"_self\"></a>, <a class=\"btn btn--primary\" href=\"https://www.google.com/chrome/\">Chrome</a>, <a class=\"btn btn--primary\" href=\"https://support.apple.com/downloads/safari\">Safari</a>, <a class=\"btn btn--primary\" href=\"https://www.mozilla.org/en-US/firefox/\">Firefox</a>, <a class=\"btn btn--primary\" href=\"https://www.microsoft.com/en-us/windows/microsoft-edge\">Edge</a>]\n"
     ]
    }
   ],
   "source": [
    "print(soup.find_all('a'))"
   ]
  },
  {
   "cell_type": "markdown",
   "metadata": {},
   "source": [
    "The usefulness is yet to be seen. We can parse through each link using "
   ]
  },
  {
   "cell_type": "code",
   "execution_count": null,
   "metadata": {},
   "outputs": [],
   "source": [
    "winners = []\n",
    "losers = []"
   ]
  },
  {
   "cell_type": "code",
   "execution_count": 35,
   "metadata": {},
   "outputs": [
    {
     "name": "stdout",
     "output_type": "stream",
     "text": [
      "Winners = {'semtech', 'pinduoduo', 'shoe', 'lennar'}\n",
      "Losers = {'gamestop', 'joann', 'delta', 'nucor'}\n"
     ]
    }
   ],
   "source": [
    "for link in soup.find_all('a'):\n",
    "    if link.get('href') is not None and 'story' in link.get('href'):\n",
    "        firstWord = link.get('href').split('/story/')[1].split('-')[0]\n",
    "        if \"rises\" in link.get('href'):\n",
    "            winners.append(firstWord)\n",
    "        elif \"falls\" in link.get('href'):\n",
    "            losers.append(firstWord)\n",
    "print('Winners =', set(winners))\n",
    "print('Losers =', set(losers))"
   ]
  },
  {
   "cell_type": "code",
   "execution_count": null,
   "metadata": {},
   "outputs": [],
   "source": []
  },
  {
   "cell_type": "code",
   "execution_count": null,
   "metadata": {},
   "outputs": [],
   "source": []
  }
 ],
 "metadata": {
  "kernelspec": {
   "display_name": "Python 3",
   "language": "python",
   "name": "python3"
  },
  "language_info": {
   "codemirror_mode": {
    "name": "ipython",
    "version": 3
   },
   "file_extension": ".py",
   "mimetype": "text/x-python",
   "name": "python",
   "nbconvert_exporter": "python",
   "pygments_lexer": "ipython3",
   "version": "3.9.2"
  }
 },
 "nbformat": 4,
 "nbformat_minor": 4
}
