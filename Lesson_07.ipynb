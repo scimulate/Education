{
 "cells": [
  {
   "cell_type": "markdown",
   "metadata": {},
   "source": [
    "# Course Information\n",
    "* Introduction to Programming (INFO-233)\n",
    "* Ramapo College of New Jersey\n",
    "* Professor Samuel Jacobs\n",
    "* Notes Licensed Under [CC BY-SA](https://creativecommons.org/licenses/by-sa/4.0/)\n",
    "\n",
    "# Lesson 07 Topics\n",
    "* Import Statements\n",
    "* Common Libraries\n",
    "\n",
    "# Synopsis\n",
    "Python contains dozens of built-in libraries to expand the functionality of programs. Some have already been discussed, like ```math``` and ```random```, but others have not. A list of built-in modules may be found [here](https://docs.python.org/3/library/index.html), but this is by-no-means a complete list of available functionality in Python. Third party modules are available for nearly every programming function imagineable.\n",
    "\n",
    "# Import Statements\n",
    "There are two common import structures to include functionality into a program, ```import``` and ```from```.\n",
    "## Full Module\n",
    "If planning to use many functions from a module, it is appropriate to import the full module. For example, programming a math calculator will use several functions from the ```math``` module, including ```sqrt()```, ```exp()```, ```sin()```, ```cos()```, ```tan()```, etc. To import the entire math module, simply place the following command at the top of your code."
   ]
  },
  {
   "cell_type": "code",
   "execution_count": 1,
   "metadata": {},
   "outputs": [],
   "source": [
    "import math"
   ]
  },
  {
   "cell_type": "markdown",
   "metadata": {},
   "source": [
    "Afterwards, all functions included in the math library will be available using the convention ```math.functionName()```."
   ]
  },
  {
   "cell_type": "code",
   "execution_count": 2,
   "metadata": {},
   "outputs": [
    {
     "data": {
      "text/plain": [
       "3.141592653589793"
      ]
     },
     "execution_count": 2,
     "metadata": {},
     "output_type": "execute_result"
    }
   ],
   "source": [
    "math.pi"
   ]
  },
  {
   "cell_type": "code",
   "execution_count": 3,
   "metadata": {},
   "outputs": [
    {
     "data": {
      "text/plain": [
       "1.4142135623730951"
      ]
     },
     "execution_count": 3,
     "metadata": {},
     "output_type": "execute_result"
    }
   ],
   "source": [
    "math.sqrt(2)"
   ]
  },
  {
   "cell_type": "code",
   "execution_count": 4,
   "metadata": {},
   "outputs": [
    {
     "data": {
      "text/plain": [
       "2.718281828459045"
      ]
     },
     "execution_count": 4,
     "metadata": {},
     "output_type": "execute_result"
    }
   ],
   "source": [
    "math.exp(1)"
   ]
  },
  {
   "cell_type": "code",
   "execution_count": 5,
   "metadata": {},
   "outputs": [
    {
     "data": {
      "text/plain": [
       "1.0"
      ]
     },
     "execution_count": 5,
     "metadata": {},
     "output_type": "execute_result"
    }
   ],
   "source": [
    "math.log(math.exp(1))"
   ]
  },
  {
   "cell_type": "markdown",
   "metadata": {},
   "source": [
    "## Renaming Modules\n",
    "Sometimes callling ```math.functionName()``` can become cumbersome, especially if using another module with a longer name."
   ]
  },
  {
   "cell_type": "markdown",
   "metadata": {},
   "source": [
    "## Partial Module Using ```from```\n",
    "Sometimes importing a full module is unnecessary; it may be simpler to import only one or two functions that are needed. In this case, we can use the keyword ```from```."
   ]
  },
  {
   "cell_type": "code",
   "execution_count": 6,
   "metadata": {},
   "outputs": [],
   "source": [
    "from math import pi"
   ]
  },
  {
   "cell_type": "markdown",
   "metadata": {},
   "source": [
    "Now, our program will likely run faster, as it was not necessary to load every function from the math library, and we have an added benefit of no longer requiring ```math.functionName()``` notation; we can simply call the function like we would for ```print()```."
   ]
  },
  {
   "cell_type": "code",
   "execution_count": 7,
   "metadata": {},
   "outputs": [
    {
     "data": {
      "text/plain": [
       "3.141592653589793"
      ]
     },
     "execution_count": 7,
     "metadata": {},
     "output_type": "execute_result"
    }
   ],
   "source": [
    "pi"
   ]
  },
  {
   "cell_type": "markdown",
   "metadata": {},
   "source": [
    "Multiple functions may be imported from the same module using this method. They will be comma-separated."
   ]
  },
  {
   "cell_type": "code",
   "execution_count": 8,
   "metadata": {},
   "outputs": [],
   "source": [
    "from math import pi, sqrt"
   ]
  },
  {
   "cell_type": "code",
   "execution_count": 9,
   "metadata": {},
   "outputs": [
    {
     "data": {
      "text/plain": [
       "3.141592653589793"
      ]
     },
     "execution_count": 9,
     "metadata": {},
     "output_type": "execute_result"
    }
   ],
   "source": [
    "pi"
   ]
  },
  {
   "cell_type": "code",
   "execution_count": 10,
   "metadata": {},
   "outputs": [
    {
     "data": {
      "text/plain": [
       "2.0"
      ]
     },
     "execution_count": 10,
     "metadata": {},
     "output_type": "execute_result"
    }
   ],
   "source": [
    "sqrt(4)"
   ]
  },
  {
   "cell_type": "markdown",
   "metadata": {},
   "source": [
    "## Full Module Using ```from```\n",
    "It is even possible to use ```from``` to include all functions from a module using the asterisk (```*```). When used, the prefix (module name) is not required."
   ]
  },
  {
   "cell_type": "code",
   "execution_count": 11,
   "metadata": {},
   "outputs": [],
   "source": [
    "from math import *"
   ]
  },
  {
   "cell_type": "code",
   "execution_count": 12,
   "metadata": {},
   "outputs": [
    {
     "data": {
      "text/plain": [
       "1.0"
      ]
     },
     "execution_count": 12,
     "metadata": {},
     "output_type": "execute_result"
    }
   ],
   "source": [
    "sin(pi/2)"
   ]
  },
  {
   "cell_type": "code",
   "execution_count": 13,
   "metadata": {},
   "outputs": [
    {
     "data": {
      "text/plain": [
       "1.5707963267948966"
      ]
     },
     "execution_count": 13,
     "metadata": {},
     "output_type": "execute_result"
    }
   ],
   "source": [
    "asin(sin(pi/2)) # Should return whatever is inside sin()"
   ]
  },
  {
   "cell_type": "markdown",
   "metadata": {},
   "source": [
    "Note: using the asterisk (```*```) when importing modules can cause naming conflicts; separate modules may have identically named functions. For example, There is a very popular package for scientific computing called [NumPy](https://numpy.org/). NumPy provides access to its own ```pi``` constant. Look at the following code."
   ]
  },
  {
   "cell_type": "code",
   "execution_count": 14,
   "metadata": {},
   "outputs": [],
   "source": [
    "from math import pi\n",
    "from numpy import pi"
   ]
  },
  {
   "cell_type": "code",
   "execution_count": 15,
   "metadata": {},
   "outputs": [
    {
     "data": {
      "text/plain": [
       "3.141592653589793"
      ]
     },
     "execution_count": 15,
     "metadata": {},
     "output_type": "execute_result"
    }
   ],
   "source": [
    "pi"
   ]
  },
  {
   "cell_type": "markdown",
   "metadata": {},
   "source": [
    "It is unclear which module provided this constant. In this case, at least, both constants provide the same value. If two methods contain separate values or functions associated with the same name, and each is called using the asterisk (```*```), the program may experience unexpected behavior."
   ]
  },
  {
   "cell_type": "markdown",
   "metadata": {},
   "source": [
    "# Common Libraries\n",
    "Standard Python and the Anaconda distribution (used for INFO-233) contain many prepackaged modules providing high-level functionality beyond the topics covered so far in this course.\n",
    "## Symbolic Math (SymPy)\n",
    "SymPy is a computer algebra system ([CAS](https://en.wikipedia.org/wiki/Computer_algebra_system)); it solves algebra and calculus problems much like a high-end calculator."
   ]
  },
  {
   "cell_type": "code",
   "execution_count": 16,
   "metadata": {},
   "outputs": [],
   "source": [
    "from sympy import symbols, solveset"
   ]
  },
  {
   "cell_type": "markdown",
   "metadata": {},
   "source": [
    "SymPy uses _symbolic math_, which unlike all digital mathematics attempts to emulate mathematical notation. It does so by assigning symbols equivalent to mathematical variables (not to be confused with programming variables)."
   ]
  },
  {
   "cell_type": "code",
   "execution_count": 17,
   "metadata": {},
   "outputs": [],
   "source": [
    "x = symbols('x') # Tell SymPy that it will see a mathematical variable x"
   ]
  },
  {
   "cell_type": "markdown",
   "metadata": {},
   "source": [
    "Now, elsewhere in the program, ```x``` may be used without a known value assigned to it. Using the function ```solveset(equation, value to solve)```, algebraic equations can be solved directly. Suppose we wish to solve the function $ f(x) =  x^{2} - 1 $. Using the ```solveset()``` function, we assign the expression and variable to isolate as the first and second arguments, respectively."
   ]
  },
  {
   "cell_type": "code",
   "execution_count": 18,
   "metadata": {},
   "outputs": [
    {
     "data": {
      "text/latex": [
       "$\\displaystyle \\left\\{-1, 1\\right\\}$"
      ],
      "text/plain": [
       "FiniteSet(-1, 1)"
      ]
     },
     "execution_count": 18,
     "metadata": {},
     "output_type": "execute_result"
    }
   ],
   "source": [
    "solveset(x**2 - 1, x) # Provide SymPy with a mathematical expression and the variable to solve."
   ]
  },
  {
   "cell_type": "markdown",
   "metadata": {},
   "source": [
    "A comprehensive list of SymPy features may be found [here](https://docs.sympy.org/latest/tutorial/features.html)."
   ]
  },
  {
   "cell_type": "markdown",
   "metadata": {},
   "source": [
    "## Reading/Writing to Excel Files\n",
    "The data science library [Pandas](https://pandas.pydata.org/pandas-docs/stable/index.html) may be used to read and write Excel files. This can be done using functions ```pandas.read_excel()``` and ```pandas.write_excel()```."
   ]
  },
  {
   "cell_type": "markdown",
   "metadata": {},
   "source": [
    "## Web Scraping (Beautiful Soup, ```bs4```)\n",
    "This package may need to be installed using the conda package manager in Anaconda. The requests module pulls content from a webpage, and the bs4 module parses that content into various HTML elements. In the following code snippet, both libraries are used to extract whether a company's stock had a good or bad day."
   ]
  },
  {
   "cell_type": "code",
   "execution_count": 19,
   "metadata": {},
   "outputs": [],
   "source": [
    "import bs4      # Web Scraping\n",
    "import requests # URL Getting"
   ]
  },
  {
   "cell_type": "code",
   "execution_count": 20,
   "metadata": {},
   "outputs": [],
   "source": [
    "url = \"https://www.marketwatch.com/markets/earnings?mod=market-snapshot\"\n",
    "page = requests.get(url).content\n",
    "soup = bs4.BeautifulSoup(page, \"html.parser\")"
   ]
  },
  {
   "cell_type": "markdown",
   "metadata": {},
   "source": [
    "By this point, the webpage has been parsed into its HTML elements and stored in variable ```soup```. For example, if we wish to obtain various links (html element ```<a>```) from ```soup``` we can parse through each. The code ```link.get('href')``` extracts the current link found in the HTML data and returned it as a string."
   ]
  },
  {
   "cell_type": "code",
   "execution_count": 21,
   "metadata": {},
   "outputs": [
    {
     "name": "stdout",
     "output_type": "stream",
     "text": [
      "https://www.marketwatch.com/story/nike-stock-rises-5-after-earnings-and-sales-beat-but-china-slump-continues-11647895449?mod=earnings\n",
      "https://www.marketwatch.com/story/nike-stock-rises-5-after-earnings-and-sales-beat-but-china-slump-continues-11647895449?mod=earnings\n",
      "https://www.marketwatch.com/story/fedex-shares-slide-5-after-profit-miss-as-omicron-led-to-staff-sickouts-and-reduced-demand-11647623971?mod=earnings\n",
      "https://www.marketwatch.com/story/fedex-shares-slide-5-after-profit-miss-as-omicron-led-to-staff-sickouts-and-reduced-demand-11647623971?mod=earnings\n",
      "https://www.marketwatch.com/story/fedex-stock-slips-as-earnings-miss-wall-street-consensus-11647548523?mod=earnings\n",
      "https://www.marketwatch.com/story/fedex-stock-slips-as-earnings-miss-wall-street-consensus-11647548523?mod=earnings\n",
      "https://www.marketwatch.com/story/pagerduty-stock-rallies-as-results-revenue-outlook-tops-wall-street-view-11647462209?mod=earnings\n",
      "https://www.marketwatch.com/story/pagerduty-stock-rallies-as-results-revenue-outlook-tops-wall-street-view-11647462209?mod=earnings\n",
      "https://www.marketwatch.com/story/semtech-stock-rises-as-results-earnings-outlook-exceed-street-view-11647463430?mod=earnings\n",
      "https://www.marketwatch.com/story/semtech-stock-rises-as-results-earnings-outlook-exceed-street-view-11647463430?mod=earnings\n",
      "https://www.marketwatch.com/story/smartsheet-stock-drops-as-weak-outlook-overshadows-earnings-beat-11647375244?mod=earnings\n",
      "https://www.marketwatch.com/story/smartsheet-stock-drops-as-weak-outlook-overshadows-earnings-beat-11647375244?mod=earnings\n",
      "https://www.marketwatch.com/story/sonoco-raises-q1-adjusted-eps-guidance-to-reflect-strong-price-and-cost-recovery-across-businesses-2022-03-22?mod=earnings\n",
      "https://www.marketwatch.com/story/sonoco-raises-q1-adjusted-eps-guidance-to-reflect-strong-price-and-cost-recovery-across-businesses-2022-03-22?mod=earnings\n",
      "https://www.marketwatch.com/story/goldman-sachs-coo-waldron-takes-home-33-million-2022-03-21?mod=earnings\n",
      "https://www.marketwatch.com/story/goldman-sachs-coo-waldron-takes-home-33-million-2022-03-21?mod=earnings\n",
      "https://www.marketwatch.com/story/pinduoduo-stock-rises-after-mixed-earnings-report-2022-03-21?mod=earnings\n",
      "https://www.marketwatch.com/story/pinduoduo-stock-rises-after-mixed-earnings-report-2022-03-21?mod=earnings\n",
      "https://www.marketwatch.com/story/on-holding-shares-jump-after-sales-beat-guidance-ahead-of-expectations-2022-03-18?mod=earnings\n",
      "https://www.marketwatch.com/story/on-holding-shares-jump-after-sales-beat-guidance-ahead-of-expectations-2022-03-18?mod=earnings\n",
      "https://www.marketwatch.com/story/joann-stock-falls-after-retailer-misses-q4-expectations-saw-jump-in-freight-costs-2022-03-17?mod=earnings\n",
      "https://www.marketwatch.com/story/joann-stock-falls-after-retailer-misses-q4-expectations-saw-jump-in-freight-costs-2022-03-17?mod=earnings\n",
      "https://www.marketwatch.com/story/the-best-performing-sector-of-the-s-p-500-is-still-the-cheapest-while-technology-stocks-look-overvalued-11647870198?mod=earnings\n",
      "https://www.marketwatch.com/story/the-best-performing-sector-of-the-s-p-500-is-still-the-cheapest-while-technology-stocks-look-overvalued-11647870198?mod=earnings\n",
      "https://www.marketwatch.com/story/we-calculated-how-much-more-gas-is-costing-for-every-type-of-vehiclesee-how-yours-stacks-up-11647635076?mod=earnings\n",
      "https://www.marketwatch.com/story/we-calculated-how-much-more-gas-is-costing-for-every-type-of-vehiclesee-how-yours-stacks-up-11647635076?mod=earnings\n",
      "https://www.marketwatch.com/story/this-group-of-stocks-is-flagging-a-rebound-and-thats-good-news-for-the-s-p-500-says-technical-analyst-11647946611?mod=earnings\n",
      "https://www.marketwatch.com/story/this-group-of-stocks-is-flagging-a-rebound-and-thats-good-news-for-the-s-p-500-says-technical-analyst-11647946611?mod=earnings\n",
      "https://www.marketwatch.com/story/do-i-need-to-file-a-tax-return-if-most-of-my-income-is-social-security-11647903648?mod=earnings\n",
      "https://www.marketwatch.com/story/do-i-need-to-file-a-tax-return-if-most-of-my-income-is-social-security-11647903648?mod=earnings\n",
      "https://www.marketwatch.com/story/who-wins-when-equifax-transunion-and-experian-stop-counting-medical-debt-in-credit-reports-and-who-misses-out-11647634981?mod=earnings\n",
      "https://www.marketwatch.com/story/who-wins-when-equifax-transunion-and-experian-stop-counting-medical-debt-in-credit-reports-and-who-misses-out-11647634981?mod=earnings\n",
      "https://www.marketwatch.com/story/his-ex-wife-is-a-snake-in-the-grass-my-husbands-ex-put-his-name-on-the-mortgage-of-their-home-but-not-on-the-deed-what-can-we-do-11647827034?mod=earnings\n",
      "https://www.marketwatch.com/story/his-ex-wife-is-a-snake-in-the-grass-my-husbands-ex-put-his-name-on-the-mortgage-of-their-home-but-not-on-the-deed-what-can-we-do-11647827034?mod=earnings\n",
      "https://www.marketwatch.com/story/the-housing-market-is-in-the-early-stages-of-a-substantial-downshift-home-sales-may-drop-25-by-the-end-of-summer-according-to-this-analyst-11647884229?mod=earnings\n",
      "https://www.marketwatch.com/story/the-housing-market-is-in-the-early-stages-of-a-substantial-downshift-home-sales-may-drop-25-by-the-end-of-summer-according-to-this-analyst-11647884229?mod=earnings\n",
      "https://www.marketwatch.com/story/gamestop-stock-falls-after-retailer-swings-to-surprise-q4-loss-confirms-nft-marketplace-plans-2022-03-17?mod=earnings\n",
      "https://www.marketwatch.com/story/gamestop-stock-falls-after-retailer-swings-to-surprise-q4-loss-confirms-nft-marketplace-plans-2022-03-17?mod=earnings\n",
      "https://www.marketwatch.com/story/guess-calls-legion-partners-efforts-to-remove-the-marcianos-from-the-company-board-a-massive-distraction-2022-03-17?mod=earnings\n",
      "https://www.marketwatch.com/story/guess-calls-legion-partners-efforts-to-remove-the-marcianos-from-the-company-board-a-massive-distraction-2022-03-17?mod=earnings\n",
      "https://www.marketwatch.com/story/calvin-klein-parent-g-iii-stock-soars-after-earnings-beat-and-upbeat-outlook-2022-03-17?mod=earnings\n",
      "https://www.marketwatch.com/story/calvin-klein-parent-g-iii-stock-soars-after-earnings-beat-and-upbeat-outlook-2022-03-17?mod=earnings\n",
      "https://www.marketwatch.com/story/nucor-first-quarter-earnings-forecast-falls-short-of-wall-street-estimates-2022-03-17?mod=earnings\n",
      "https://www.marketwatch.com/story/nucor-first-quarter-earnings-forecast-falls-short-of-wall-street-estimates-2022-03-17?mod=earnings\n",
      "https://www.marketwatch.com/story/cannabis-company-ayr-wellness-swings-to-gain-but-posts-operating-loss-as-revenue-more-than-doubles-2022-03-17?mod=earnings\n",
      "https://www.marketwatch.com/story/cannabis-company-ayr-wellness-swings-to-gain-but-posts-operating-loss-as-revenue-more-than-doubles-2022-03-17?mod=earnings\n",
      "https://www.marketwatch.com/story/warby-parker-stock-sinks-after-wider-than-expected-loss-2022-03-17?mod=earnings\n",
      "https://www.marketwatch.com/story/warby-parker-stock-sinks-after-wider-than-expected-loss-2022-03-17?mod=earnings\n",
      "https://www.marketwatch.com/story/signet-stock-pops-after-sales-beat-dividend-raise-and-upbeat-guidance-2022-03-17?mod=earnings\n",
      "https://www.marketwatch.com/story/signet-stock-pops-after-sales-beat-dividend-raise-and-upbeat-guidance-2022-03-17?mod=earnings\n",
      "https://www.marketwatch.com/story/dollar-general-stock-jumps-after-upbeat-outlook-2022-03-17?mod=earnings\n",
      "https://www.marketwatch.com/story/dollar-general-stock-jumps-after-upbeat-outlook-2022-03-17?mod=earnings\n",
      "https://www.marketwatch.com/story/lennar-stock-rises-more-than-2-after-q1-profit-tops-views-2022-03-16?mod=earnings\n",
      "https://www.marketwatch.com/story/lennar-stock-rises-more-than-2-after-q1-profit-tops-views-2022-03-16?mod=earnings\n",
      "https://www.marketwatch.com/story/williams-sonoma-q4-profit-beats-expectations-retailer-raises-dividend-by-10-2022-03-16?mod=earnings\n",
      "https://www.marketwatch.com/story/williams-sonoma-q4-profit-beats-expectations-retailer-raises-dividend-by-10-2022-03-16?mod=earnings\n",
      "https://www.marketwatch.com/story/jabil-stock-jumps-after-earnings-outlook-top-expectations-2022-03-16?mod=earnings\n",
      "https://www.marketwatch.com/story/jabil-stock-jumps-after-earnings-outlook-top-expectations-2022-03-16?mod=earnings\n",
      "https://www.marketwatch.com/story/sentinelone-stock-drops-even-as-results-outlook-top-street-view-11647376180?mod=earnings\n",
      "https://www.marketwatch.com/story/sentinelone-stock-drops-even-as-results-outlook-top-street-view-11647376180?mod=earnings\n",
      "https://www.marketwatch.com/story/shoe-carnival-stock-rises-after-profit-blows-past-expectations-and-dividend-raised-2022-03-16?mod=earnings\n",
      "https://www.marketwatch.com/story/shoe-carnival-stock-rises-after-profit-blows-past-expectations-and-dividend-raised-2022-03-16?mod=earnings\n",
      "https://www.marketwatch.com/story/american-airlines-stock-climbs-after-revenue-outlook-raised-but-costs-estimate-also-increased-2022-03-15?mod=earnings\n",
      "https://www.marketwatch.com/story/american-airlines-stock-climbs-after-revenue-outlook-raised-but-costs-estimate-also-increased-2022-03-15?mod=earnings\n",
      "https://www.marketwatch.com/story/gitlab-stock-rallies-more-than-10-on-strong-results-outlook-11647290498?mod=earnings\n",
      "https://www.marketwatch.com/story/gitlab-stock-rallies-more-than-10-on-strong-results-outlook-11647290498?mod=earnings\n",
      "https://www.marketwatch.com/story/raos-parent-sovos-brands-reports-better-than-expected-earnings-gives-upbeat-guidance-2022-03-15?mod=earnings\n",
      "https://www.marketwatch.com/story/raos-parent-sovos-brands-reports-better-than-expected-earnings-gives-upbeat-guidance-2022-03-15?mod=earnings\n",
      "https://www.marketwatch.com/story/jetblue-stock-surges-after-revenue-outlook-raised-while-capacity-estimate-moderated-2022-03-15?mod=earnings\n",
      "https://www.marketwatch.com/story/jetblue-stock-surges-after-revenue-outlook-raised-while-capacity-estimate-moderated-2022-03-15?mod=earnings\n",
      "https://www.marketwatch.com/story/united-airlines-holdings-boosts-outlook-as-travel-rebounds-2022-03-15?mod=earnings\n",
      "https://www.marketwatch.com/story/united-airlines-holdings-boosts-outlook-as-travel-rebounds-2022-03-15?mod=earnings\n",
      "https://www.marketwatch.com/story/delta-air-lines-stock-falls-after-revenue-outlook-raised-while-fuel-price-estimate-also-boosted-2022-03-15?mod=earnings\n",
      "https://www.marketwatch.com/story/delta-air-lines-stock-falls-after-revenue-outlook-raised-while-fuel-price-estimate-also-boosted-2022-03-15?mod=earnings\n",
      "https://www.marketwatch.com/story/southwest-airlines-stock-jumps-after-revenue-outlook-raised-2022-03-15?mod=earnings\n",
      "https://www.marketwatch.com/story/southwest-airlines-stock-jumps-after-revenue-outlook-raised-2022-03-15?mod=earnings\n"
     ]
    }
   ],
   "source": [
    "for link in soup.find_all('a'):\n",
    "    if link.get('href') is not None and 'story' in link.get('href'):\n",
    "        print(link.get('href'))"
   ]
  },
  {
   "cell_type": "markdown",
   "metadata": {},
   "source": [
    "One useful note about this website is that the titles regarding public companies are consistent; each article about a company generally starts with its name and includes adjectives for doing poorly or well. Commonly, the words \"rise\" or \"fall\" appear. We can use this knowledge to write a block of code that can extract current \"winners\" and \"losers\" in the stock market."
   ]
  },
  {
   "cell_type": "code",
   "execution_count": 22,
   "metadata": {},
   "outputs": [],
   "source": [
    "winners = []\n",
    "losers = []"
   ]
  },
  {
   "cell_type": "code",
   "execution_count": 23,
   "metadata": {},
   "outputs": [],
   "source": [
    "for link in soup.find_all('a'):\n",
    "    if link.get('href') is not None and 'story' in link.get('href'):\n",
    "        firstWord = link.get('href').split('/story/')[1].split('-')[0]\n",
    "        if \"rises\" in link.get('href'):\n",
    "            winners.append(firstWord)\n",
    "        elif \"falls\" in link.get('href'):\n",
    "            losers.append(firstWord)"
   ]
  },
  {
   "cell_type": "code",
   "execution_count": 24,
   "metadata": {},
   "outputs": [
    {
     "name": "stdout",
     "output_type": "stream",
     "text": [
      "Winners = {'semtech', 'lennar', 'shoe', 'pinduoduo', 'nike'}\n",
      "Losers = {'delta', 'gamestop', 'joann', 'nucor'}\n"
     ]
    }
   ],
   "source": [
    "print('Winners =', set(winners))\n",
    "print('Losers =', set(losers))"
   ]
  },
  {
   "cell_type": "markdown",
   "metadata": {},
   "source": [
    "This approach for identifying winners and losers in the stock market may be expanded by adding additional ```elif``` statements for other adjectives. The words \"jump\", \"boost\", \"climb\", \"rally\", \"soar\", and \"surge\" make appearances in titles where the company does well. The words \"sink\" and \"drop\" make appearances in titles where the company does poorly."
   ]
  }
 ],
 "metadata": {
  "kernelspec": {
   "display_name": "Python 3",
   "language": "python",
   "name": "python3"
  },
  "language_info": {
   "codemirror_mode": {
    "name": "ipython",
    "version": 3
   },
   "file_extension": ".py",
   "mimetype": "text/x-python",
   "name": "python",
   "nbconvert_exporter": "python",
   "pygments_lexer": "ipython3",
   "version": "3.9.2"
  }
 },
 "nbformat": 4,
 "nbformat_minor": 4
}
